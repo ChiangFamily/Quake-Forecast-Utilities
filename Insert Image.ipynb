{
 "cells": [
  {
   "cell_type": "code",
   "execution_count": 1,
   "metadata": {
    "collapsed": true
   },
   "outputs": [],
   "source": [
    "import pyautogui\n",
    "import time\n",
    "import pyperclip\n",
    "pyautogui.PAUSE = 0.5\n",
    "pyautogui.FAILSAFE = True"
   ]
  },
  {
   "cell_type": "code",
   "execution_count": 2,
   "metadata": {
    "collapsed": true
   },
   "outputs": [],
   "source": [
    "def locate_and_click(png_file_name):\n",
    "    x, y = pyautogui.locateCenterOnScreen(png_file_name) # locate\n",
    "    #print(png_file_name + ': (' + str(x) + ', ' + str(y) + ')')\n",
    "    pyautogui.click(x, y) # click\n",
    "    time.sleep(1)"
   ]
  },
  {
   "cell_type": "code",
   "execution_count": 3,
   "metadata": {
    "collapsed": true
   },
   "outputs": [],
   "source": [
    "def get_Analysis_file_name(file_number):\n",
    "    #x = 265\n",
    "    x = 160\n",
    "    y = 70 + (file_number - 1) * 150\n",
    "    #print('(x, y) = ('+ str(x) + ', ' + str(y) +')')\n",
    "    \n",
    "    pyautogui.moveTo(x, y)\n",
    "    pyautogui.click()\n",
    "    time.sleep(0.5)\n",
    "    #pyautogui.moveRel(0, 50)\n",
    "    pyautogui.moveRel(0, 42)\n",
    "    time.sleep(0.5)\n",
    "    pyautogui.click()\n",
    "    time.sleep(0.5)\n",
    "    pyautogui.rightClick()\n",
    "    time.sleep(0.5)\n",
    "    pyautogui.press('down')\n",
    "    pyautogui.press('down')\n",
    "    pyautogui.press('down')\n",
    "    pyautogui.press('c') # copy file name to clip board\n",
    "    file_name = pyperclip.paste() # read file name from clipboard\n",
    "    #print('Analysis file name: ' + file_name)\n",
    "    return file_name"
   ]
  },
  {
   "cell_type": "code",
   "execution_count": 4,
   "metadata": {
    "collapsed": true
   },
   "outputs": [],
   "source": [
    "def get_original_file_name(file_number):\n",
    "    #x = 160\n",
    "    x = 55\n",
    "    y = 70 + (file_number - 1) * 150\n",
    "    #print('(x, y) = ('+ str(x) + ', ' + str(y) +')')\n",
    "    \n",
    "    pyautogui.moveTo(x, y)\n",
    "    pyautogui.click()\n",
    "    time.sleep(0.5)\n",
    "    #pyautogui.moveRel(0, 50)\n",
    "    pyautogui.moveRel(0, 42)\n",
    "    time.sleep(0.5)\n",
    "    pyautogui.click()\n",
    "    time.sleep(0.5)\n",
    "    pyautogui.rightClick()\n",
    "    time.sleep(0.5)\n",
    "    pyautogui.press('down')\n",
    "    pyautogui.press('down')\n",
    "    pyautogui.press('down')\n",
    "    pyautogui.press('c') # copy file name to clip board\n",
    "    file_name = pyperclip.paste() # read file name from clipboard\n",
    "    #print('original file name: ' + file_name)\n",
    "    return file_name"
   ]
  },
  {
   "cell_type": "code",
   "execution_count": 5,
   "metadata": {
    "collapsed": true
   },
   "outputs": [],
   "source": [
    "def click_Blogger_tab():\n",
    "    locate_and_click('BloggerTab.png')"
   ]
  },
  {
   "cell_type": "code",
   "execution_count": 6,
   "metadata": {
    "collapsed": true
   },
   "outputs": [],
   "source": [
    "def click_Super_Big_button():\n",
    "    locate_and_click('SuperBigButton.png')"
   ]
  },
  {
   "cell_type": "code",
   "execution_count": 7,
   "metadata": {
    "collapsed": true
   },
   "outputs": [],
   "source": [
    "def click_Add_Image_Title_button():\n",
    "    locate_and_click('AddImageTitleButton.png')"
   ]
  },
  {
   "cell_type": "code",
   "execution_count": 8,
   "metadata": {
    "collapsed": true
   },
   "outputs": [],
   "source": [
    "def click_Add_Image_Title_field():\n",
    "    locate_and_click('AddNewImageTitleField.png')"
   ]
  },
  {
   "cell_type": "code",
   "execution_count": 9,
   "metadata": {
    "collapsed": true
   },
   "outputs": [],
   "source": [
    "def click_Font_Size():\n",
    "    locate_and_click('FontSize.png')"
   ]
  },
  {
   "cell_type": "code",
   "execution_count": 10,
   "metadata": {
    "collapsed": true
   },
   "outputs": [],
   "source": [
    "def scroll_down():\n",
    "    pyautogui.moveTo(1100, 600)\n",
    "    time.sleep(1)\n",
    "    pyautogui.scroll(-10000) # scroll down\n",
    "    time.sleep(1)"
   ]
  },
  {
   "cell_type": "code",
   "execution_count": 11,
   "metadata": {
    "collapsed": true
   },
   "outputs": [],
   "source": [
    "def click_Edit_area():    \n",
    "    # click bottom of Edit area\n",
    "    pyautogui.moveTo(1100, 1000)\n",
    "    time.sleep(1)\n",
    "    pyautogui.click()\n",
    "    time.sleep(1)"
   ]
  },
  {
   "cell_type": "code",
   "execution_count": 12,
   "metadata": {
    "collapsed": true
   },
   "outputs": [],
   "source": [
    "def click_image(y):\n",
    "    scroll_down()\n",
    "    \n",
    "    x = 700\n",
    "           \n",
    "    pyautogui.moveTo(x, y)\n",
    "    time.sleep(1)\n",
    "    pyautogui.click()\n",
    "    time.sleep(1)"
   ]
  },
  {
   "cell_type": "code",
   "execution_count": 13,
   "metadata": {
    "collapsed": true
   },
   "outputs": [],
   "source": [
    "def insert_Analysis_file(file_number):    \n",
    "    click_Blogger_tab()\n",
    "    click_Edit_area()\n",
    "    \n",
    "    if (file_number is 1):\n",
    "        pyautogui.press('enter')\n",
    "        \n",
    "    pyautogui.press('up')\n",
    "    \n",
    "    analysis_file_name = get_Analysis_file_name(file_number)\n",
    "\n",
    "    #x = 265\n",
    "    x = 160\n",
    "    y = 70 + (file_number - 1) * 150\n",
    "    print('(x, y) = ('+ str(x) + ', ' + str(y) +')')\n",
    "    \n",
    "    pyautogui.moveTo(x, y)\n",
    "    pyautogui.click()\n",
    "    time.sleep(0.5)\n",
    "    \n",
    "    if (file_number is 1):\n",
    "        (x, y) = (700, 400)\n",
    "    else:\n",
    "        (x, y) = (700, 957)\n",
    "        \n",
    "    pyautogui.dragTo(x, y, 2)\n",
    "    time.sleep(5)\n",
    "\n",
    "    scroll_down()\n",
    "\n",
    "    click_Edit_area()\n",
    "    \n",
    "    if (file_number is 1):\n",
    "        click_image(500)\n",
    "    else:\n",
    "        click_image(957)\n",
    "        \n",
    "    scroll_down()\n",
    "    \n",
    "    click_Super_Big_button()\n",
    "    scroll_down()\n",
    "    \n",
    "    click_Add_Image_Title_button()\n",
    "    scroll_down()\n",
    "    \n",
    "    click_Add_Image_Title_field()\n",
    "    pyautogui.tripleClick()\n",
    " \n",
    "    pyautogui.rightClick()\n",
    "    time.sleep(1)\n",
    "    pyautogui.press('down')\n",
    "    pyautogui.press('down')\n",
    "    pyautogui.press('down')\n",
    "    pyautogui.press('enter')\n",
    "    time.sleep(1)\n",
    "\n",
    "    click_Font_Size()\n",
    "\n",
    "    pyautogui.moveRel(0, 93)\n",
    "    time.sleep(1)\n",
    "    pyautogui.click()\n",
    "    time.sleep(1)\n",
    "\n",
    "    scroll_down()\n",
    "    click_Edit_area()\n",
    "    pyautogui.press('up')"
   ]
  },
  {
   "cell_type": "code",
   "execution_count": 14,
   "metadata": {
    "collapsed": true
   },
   "outputs": [],
   "source": [
    "def insert_original_file(file_number):\n",
    "    click_Blogger_tab()\n",
    "    click_Edit_area()\n",
    "    pyautogui.press('up')\n",
    "    analysis_file_name = get_original_file_name(file_number)\n",
    "\n",
    "    #x = 160\n",
    "    x = 55\n",
    "    y = 70 + (file_number - 1) * 150\n",
    "    #print('(x, y) = ('+ str(x) + ', ' + str(y) +')')\n",
    "    \n",
    "    pyautogui.moveTo(x, y)\n",
    "    pyautogui.click()\n",
    "    time.sleep(0.5)\n",
    "    \n",
    "    pyautogui.dragTo(700, 957, 2)\n",
    "    time.sleep(5)\n",
    "    scroll_down()\n",
    "    \n",
    "    click_Edit_area()\n",
    "    click_image(957)\n",
    "    scroll_down()   \n",
    "    \n",
    "    click_Super_Big_button()\n",
    "    scroll_down()\n",
    "    \n",
    "    click_Add_Image_Title_button()\n",
    "    scroll_down()\n",
    "    \n",
    "    click_Add_Image_Title_field()\n",
    "    pyautogui.tripleClick()\n",
    " \n",
    "    pyautogui.rightClick()\n",
    "    time.sleep(1)\n",
    "    pyautogui.press('down')\n",
    "    pyautogui.press('down')\n",
    "    pyautogui.press('down')\n",
    "    pyautogui.press('enter')\n",
    "    time.sleep(1)\n",
    "\n",
    "    click_Font_Size()\n",
    "\n",
    "    pyautogui.moveRel(0, 93)\n",
    "    time.sleep(1)\n",
    "    pyautogui.click()\n",
    "    time.sleep(1)\n",
    "\n",
    "    scroll_down()\n",
    "    click_Edit_area()\n",
    "    pyautogui.press('up')"
   ]
  },
  {
   "cell_type": "code",
   "execution_count": 15,
   "metadata": {
    "collapsed": false
   },
   "outputs": [
    {
     "name": "stdout",
     "output_type": "stream",
     "text": [
      "(x, y) = (160, 70)\n"
     ]
    }
   ],
   "source": [
    "insert_Analysis_file(1)\n",
    "insert_original_file(1)"
   ]
  },
  {
   "cell_type": "code",
   "execution_count": null,
   "metadata": {
    "collapsed": true
   },
   "outputs": [],
   "source": [
    "insert_Analysis_file(1)\n",
    "insert_Analysis_file(2)\n",
    "insert_original_file(1)\n",
    "insert_original_file(2)"
   ]
  },
  {
   "cell_type": "code",
   "execution_count": null,
   "metadata": {
    "collapsed": true
   },
   "outputs": [],
   "source": [
    "insert_Analysis_file(1)\n",
    "insert_Analysis_file(2)\n",
    "insert_Analysis_file(3)\n",
    "insert_original_file(1)\n",
    "insert_original_file(2)\n",
    "insert_original_file(3)"
   ]
  },
  {
   "cell_type": "code",
   "execution_count": null,
   "metadata": {
    "collapsed": true
   },
   "outputs": [],
   "source": [
    "insert_Analysis_file(1)\n",
    "insert_Analysis_file(2)\n",
    "insert_Analysis_file(3)\n",
    "insert_Analysis_file(4)\n",
    "insert_original_file(1)\n",
    "insert_original_file(2)\n",
    "insert_original_file(3)\n",
    "insert_original_file(4)"
   ]
  }
 ],
 "metadata": {
  "kernelspec": {
   "display_name": "Python 3",
   "language": "python",
   "name": "python3"
  },
  "language_info": {
   "codemirror_mode": {
    "name": "ipython",
    "version": 3
   },
   "file_extension": ".py",
   "mimetype": "text/x-python",
   "name": "python",
   "nbconvert_exporter": "python",
   "pygments_lexer": "ipython3",
   "version": "3.6.0"
  }
 },
 "nbformat": 4,
 "nbformat_minor": 2
}
