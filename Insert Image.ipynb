{
 "cells": [
  {
   "cell_type": "code",
   "execution_count": 216,
   "metadata": {
    "collapsed": true
   },
   "outputs": [],
   "source": [
    "import pyautogui\n",
    "import time\n",
    "import pyperclip\n",
    "pyautogui.PAUSE = 0.5\n",
    "pyautogui.FAILSAFE = True"
   ]
  },
  {
   "cell_type": "code",
   "execution_count": 217,
   "metadata": {
    "collapsed": true
   },
   "outputs": [],
   "source": [
    "def locate_and_click(png_file_name):\n",
    "    x, y = pyautogui.locateCenterOnScreen(png_file_name) # locate\n",
    "    #print(png_file_name + ': (' + str(x) + ', ' + str(y) + ')')\n",
    "    pyautogui.click(x, y) # click\n",
    "    time.sleep(1)"
   ]
  },
  {
   "cell_type": "code",
   "execution_count": 218,
   "metadata": {
    "collapsed": false
   },
   "outputs": [],
   "source": [
    "def get_Analysis_file_name(file_number):\n",
    "    x = 265\n",
    "    y = 70 + (file_number - 1) * 150\n",
    "    #print('(x, y) = ('+ str(x) + ', ' + str(y) +')')\n",
    "    \n",
    "    pyautogui.moveTo(x, y)\n",
    "    pyautogui.click()\n",
    "    time.sleep(0.5)\n",
    "    #pyautogui.moveRel(0, 50)\n",
    "    pyautogui.moveRel(0, 42)\n",
    "    time.sleep(0.5)\n",
    "    pyautogui.click()\n",
    "    time.sleep(0.5)\n",
    "    pyautogui.rightClick()\n",
    "    time.sleep(0.5)\n",
    "    pyautogui.press('down')\n",
    "    pyautogui.press('down')\n",
    "    pyautogui.press('down')\n",
    "    pyautogui.press('c') # copy file name to clip board\n",
    "    file_name = pyperclip.paste() # read file name from clipboard\n",
    "    #print('Analysis file name: ' + file_name)\n",
    "    return file_name"
   ]
  },
  {
   "cell_type": "code",
   "execution_count": 219,
   "metadata": {
    "collapsed": true
   },
   "outputs": [],
   "source": [
    "def get_original_file_name(file_number):\n",
    "    x = 160\n",
    "    y = 70 + (file_number - 1) * 150\n",
    "    #print('(x, y) = ('+ str(x) + ', ' + str(y) +')')\n",
    "    \n",
    "    pyautogui.moveTo(x, y)\n",
    "    pyautogui.click()\n",
    "    time.sleep(0.5)\n",
    "    #pyautogui.moveRel(0, 50)\n",
    "    pyautogui.moveRel(0, 42)\n",
    "    time.sleep(0.5)\n",
    "    pyautogui.click()\n",
    "    time.sleep(0.5)\n",
    "    pyautogui.rightClick()\n",
    "    time.sleep(0.5)\n",
    "    pyautogui.press('down')\n",
    "    pyautogui.press('down')\n",
    "    pyautogui.press('down')\n",
    "    pyautogui.press('c') # copy file name to clip board\n",
    "    file_name = pyperclip.paste() # read file name from clipboard\n",
    "    #print('original file name: ' + file_name)\n",
    "    return file_name"
   ]
  },
  {
   "cell_type": "code",
   "execution_count": 220,
   "metadata": {
    "collapsed": true
   },
   "outputs": [],
   "source": [
    "def click_Blogger_tab():\n",
    "    locate_and_click('BloggerTab.png')"
   ]
  },
  {
   "cell_type": "code",
   "execution_count": 221,
   "metadata": {
    "collapsed": true
   },
   "outputs": [],
   "source": [
    "def click_Super_Big_button():\n",
    "    locate_and_click('SuperBigButton.png')"
   ]
  },
  {
   "cell_type": "code",
   "execution_count": 222,
   "metadata": {
    "collapsed": true
   },
   "outputs": [],
   "source": [
    "def click_Add_Image_Title_button():\n",
    "    locate_and_click('AddImageTitleButton.png')"
   ]
  },
  {
   "cell_type": "code",
   "execution_count": 223,
   "metadata": {
    "collapsed": false
   },
   "outputs": [],
   "source": [
    "def click_Add_Image_Title_field():\n",
    "    locate_and_click('AddNewImageTitleField.png')"
   ]
  },
  {
   "cell_type": "code",
   "execution_count": 224,
   "metadata": {
    "collapsed": true
   },
   "outputs": [],
   "source": [
    "def click_Font_Size():\n",
    "    locate_and_click('FontSize.png')"
   ]
  },
  {
   "cell_type": "code",
   "execution_count": 225,
   "metadata": {
    "collapsed": true
   },
   "outputs": [],
   "source": [
    "def scroll_down():\n",
    "    pyautogui.moveTo(1100, 600)\n",
    "    time.sleep(1)\n",
    "    pyautogui.scroll(-10000) # scroll down\n",
    "    time.sleep(1)"
   ]
  },
  {
   "cell_type": "code",
   "execution_count": 226,
   "metadata": {
    "collapsed": true
   },
   "outputs": [],
   "source": [
    "def click_Edit_area():    \n",
    "    # click bottom of Edit area\n",
    "    pyautogui.moveTo(1100, 1000)\n",
    "    time.sleep(1)\n",
    "    pyautogui.click()\n",
    "    time.sleep(1)"
   ]
  },
  {
   "cell_type": "code",
   "execution_count": 227,
   "metadata": {
    "collapsed": true
   },
   "outputs": [],
   "source": [
    "def click_image(y):\n",
    "    scroll_down()\n",
    "    \n",
    "    x = 700\n",
    "           \n",
    "    pyautogui.moveTo(x, y)\n",
    "    time.sleep(1)\n",
    "    pyautogui.click()\n",
    "    time.sleep(1)"
   ]
  },
  {
   "cell_type": "code",
   "execution_count": 228,
   "metadata": {
    "collapsed": true
   },
   "outputs": [],
   "source": [
    "# 70\n",
    "# 220 150\n",
    "# 370 150\n",
    "# 520 150\n",
    "# 670 150\n",
    "# 820 150"
   ]
  },
  {
   "cell_type": "code",
   "execution_count": 229,
   "metadata": {
    "collapsed": true
   },
   "outputs": [],
   "source": [
    "def insert_Analysis_file(file_number):    \n",
    "    click_Blogger_tab()\n",
    "    click_Edit_area()\n",
    "    \n",
    "    if (file_number is 1):\n",
    "        pyautogui.press('enter')\n",
    "        \n",
    "    pyautogui.press('up')\n",
    "    \n",
    "    analysis_file_name = get_Analysis_file_name(file_number)\n",
    "\n",
    "    x = 265\n",
    "    y = 70 + (file_number - 1) * 150\n",
    "    print('(x, y) = ('+ str(x) + ', ' + str(y) +')')\n",
    "    \n",
    "    pyautogui.moveTo(x, y)\n",
    "    pyautogui.click()\n",
    "    time.sleep(0.5)\n",
    "    \n",
    "    if (file_number is 1):\n",
    "        (x, y) = (700, 400)\n",
    "    else:\n",
    "        (x, y) = (700, 957)\n",
    "        \n",
    "    pyautogui.dragTo(x, y, 2)\n",
    "    time.sleep(5)\n",
    "\n",
    "    scroll_down()\n",
    "\n",
    "    click_Edit_area()\n",
    "    \n",
    "    if (file_number is 1):\n",
    "        click_image(500)\n",
    "    else:\n",
    "        click_image(957)\n",
    "        \n",
    "    scroll_down()\n",
    "    \n",
    "    click_Super_Big_button()\n",
    "    scroll_down()\n",
    "    \n",
    "    click_Add_Image_Title_button()\n",
    "    scroll_down()\n",
    "    \n",
    "    click_Add_Image_Title_field()\n",
    "    pyautogui.tripleClick()\n",
    " \n",
    "    pyautogui.rightClick()\n",
    "    time.sleep(1)\n",
    "    pyautogui.press('down')\n",
    "    pyautogui.press('down')\n",
    "    pyautogui.press('down')\n",
    "    pyautogui.press('enter')\n",
    "    time.sleep(1)\n",
    "\n",
    "    click_Font_Size()\n",
    "\n",
    "    pyautogui.moveRel(0, 93)\n",
    "    time.sleep(1)\n",
    "    pyautogui.click()\n",
    "    time.sleep(1)\n",
    "\n",
    "    scroll_down()\n",
    "    click_Edit_area()\n",
    "    pyautogui.press('up')"
   ]
  },
  {
   "cell_type": "code",
   "execution_count": 230,
   "metadata": {
    "collapsed": true
   },
   "outputs": [],
   "source": [
    "def insert_original_file(file_number):\n",
    "    click_Blogger_tab()\n",
    "    click_Edit_area()\n",
    "    pyautogui.press('up')\n",
    "    analysis_file_name = get_original_file_name(file_number)\n",
    "\n",
    "    x = 160\n",
    "    y = 70 + (file_number - 1) * 150\n",
    "    #print('(x, y) = ('+ str(x) + ', ' + str(y) +')')\n",
    "    \n",
    "    pyautogui.moveTo(x, y)\n",
    "    pyautogui.click()\n",
    "    time.sleep(0.5)\n",
    "    \n",
    "    pyautogui.dragTo(700, 957, 2)\n",
    "    time.sleep(5)\n",
    "    scroll_down()\n",
    "    \n",
    "    click_Edit_area()\n",
    "    click_image(957)\n",
    "    scroll_down()   \n",
    "    \n",
    "    click_Super_Big_button()\n",
    "    scroll_down()\n",
    "    \n",
    "    click_Add_Image_Title_button()\n",
    "    scroll_down()\n",
    "    \n",
    "    click_Add_Image_Title_field()\n",
    "    pyautogui.tripleClick()\n",
    " \n",
    "    pyautogui.rightClick()\n",
    "    time.sleep(1)\n",
    "    pyautogui.press('down')\n",
    "    pyautogui.press('down')\n",
    "    pyautogui.press('down')\n",
    "    pyautogui.press('enter')\n",
    "    time.sleep(1)\n",
    "\n",
    "    click_Font_Size()\n",
    "\n",
    "    pyautogui.moveRel(0, 93)\n",
    "    time.sleep(1)\n",
    "    pyautogui.click()\n",
    "    time.sleep(1)\n",
    "\n",
    "    scroll_down()\n",
    "    click_Edit_area()\n",
    "    pyautogui.press('up')"
   ]
  },
  {
   "cell_type": "code",
   "execution_count": 232,
   "metadata": {
    "collapsed": false
   },
   "outputs": [
    {
     "name": "stdout",
     "output_type": "stream",
     "text": [
      "(x, y) = (265, 70)\n"
     ]
    }
   ],
   "source": [
    "insert_Analysis_file(1)\n",
    "insert_original_file(1)"
   ]
  },
  {
   "cell_type": "code",
   "execution_count": 233,
   "metadata": {
    "collapsed": false
   },
   "outputs": [
    {
     "name": "stdout",
     "output_type": "stream",
     "text": [
      "(x, y) = (265, 70)\n",
      "(x, y) = (265, 220)\n"
     ]
    }
   ],
   "source": [
    "insert_Analysis_file(1)\n",
    "insert_Analysis_file(2)\n",
    "insert_original_file(1)\n",
    "insert_original_file(2)"
   ]
  },
  {
   "cell_type": "code",
   "execution_count": 176,
   "metadata": {
    "collapsed": false
   },
   "outputs": [
    {
     "name": "stdout",
     "output_type": "stream",
     "text": [
      "BloggerTab.png: (1135, 30)\n",
      "(x, y) = (265, 70)\n",
      "Analysis file name: 2017-04-28 台南喜福站 Tainan Joy & Luck Station (NI USB-6210) 1 - Analysis\n",
      "(x, y) = (265, 70)\n",
      "SuperBigButton.png: (803, 652)\n",
      "AddImageTitleButton.png: (1171, 912)\n",
      "AddNewImageTitleField.png: (1240, 905)\n",
      "FontSize.png: (881, 296)\n",
      "BloggerTab.png: (1135, 30)\n",
      "(x, y) = (265, 225)\n",
      "Analysis file name: 2017-04-28 台南喜福站 Tainan Joy & Luck Station (NI USB-6210) 2 - Analysis\n",
      "(x, y) = (265, 225)\n",
      "SuperBigButton.png: (803, 998)\n",
      "AddImageTitleButton.png: (1171, 686)\n",
      "AddNewImageTitleField.png: (1240, 905)\n",
      "FontSize.png: (881, 296)\n",
      "BloggerTab.png: (1135, 30)\n",
      "(x, y) = (265, 380)\n",
      "Analysis file name: 2017-04-28 台南喜福站 Tainan Joy & Luck Station 空氣2號 Air 2 (Arduino Uno + TL081) - Analysis\n",
      "(x, y) = (265, 380)\n",
      "SuperBigButton.png: (803, 998)\n",
      "AddImageTitleButton.png: (1171, 640)\n",
      "AddNewImageTitleField.png: (1240, 905)\n",
      "FontSize.png: (881, 296)\n",
      "BloggerTab.png: (1135, 30)\n",
      "(x, y) = (160, 70)\n",
      "original file name: 2017-04-28 台南喜福站 Tainan Joy & Luck Station (NI USB-6210) 1\n",
      "(x, y) = (160, 70)\n",
      "SuperBigButton.png: (803, 998)\n",
      "AddImageTitleButton.png: (1171, 682)\n",
      "AddNewImageTitleField.png: (1240, 905)\n",
      "FontSize.png: (881, 296)\n",
      "BloggerTab.png: (1135, 30)\n",
      "(x, y) = (160, 225)\n",
      "original file name: 2017-04-28 台南喜福站 Tainan Joy & Luck Station (NI USB-6210) 2\n",
      "(x, y) = (160, 225)\n",
      "SuperBigButton.png: (803, 998)\n",
      "AddImageTitleButton.png: (1171, 686)\n",
      "AddNewImageTitleField.png: (1240, 905)\n",
      "FontSize.png: (881, 296)\n",
      "BloggerTab.png: (1135, 30)\n",
      "(x, y) = (160, 380)\n",
      "original file name: 2017-04-28 台南喜福站 Tainan Joy & Luck Station 空氣2號 Air 2 (Arduino Uno + TL081)\n",
      "(x, y) = (160, 380)\n",
      "SuperBigButton.png: (803, 998)\n",
      "AddImageTitleButton.png: (1171, 640)\n",
      "AddNewImageTitleField.png: (1240, 905)\n",
      "FontSize.png: (881, 296)\n"
     ]
    }
   ],
   "source": [
    "insert_Analysis_file(1)\n",
    "insert_Analysis_file(2)\n",
    "insert_Analysis_file(3)\n",
    "\n",
    "insert_original_file(1)\n",
    "insert_original_file(2)\n",
    "insert_original_file(3)"
   ]
  },
  {
   "cell_type": "code",
   "execution_count": null,
   "metadata": {
    "collapsed": true
   },
   "outputs": [],
   "source": []
  },
  {
   "cell_type": "code",
   "execution_count": 173,
   "metadata": {
    "collapsed": false
   },
   "outputs": [
    {
     "name": "stdout",
     "output_type": "stream",
     "text": [
      "BloggerTab.png: (1135, 30)\n",
      "(x, y) = (265, 70)\n",
      "Analysis file name: 2017-04-28 台南新生站 Tainan Xinsheng Station (NI USB-6210) - Analysis\n",
      "(x, y) = (265, 70)\n",
      "SuperBigButton.png: (803, 689)\n",
      "AddImageTitleButton.png: (1171, 985)\n",
      "AddNewImageTitleField.png: (1240, 905)\n",
      "FontSize.png: (881, 296)\n",
      "BloggerTab.png: (1135, 30)\n",
      "(x, y) = (265, 225)\n",
      "Analysis file name: 2017-04-28 台南新生站 Tainan Xinsheng Station 空氣2號 Air 2 (Arduino Uno + TL081) - Analysis\n",
      "(x, y) = (265, 225)\n",
      "SuperBigButton.png: (803, 998)\n",
      "AddImageTitleButton.png: (1171, 645)\n",
      "AddNewImageTitleField.png: (1240, 905)\n",
      "FontSize.png: (881, 296)\n",
      "BloggerTab.png: (1135, 30)\n",
      "(x, y) = (265, 380)\n",
      "Analysis file name: 2017-04-24 台南新生站 Tainan Xinsheng Station (NI USB-6210) - Analysis\n",
      "(x, y) = (265, 380)\n",
      "SuperBigButton.png: (803, 998)\n",
      "AddImageTitleButton.png: (1171, 628)\n",
      "AddNewImageTitleField.png: (1240, 905)\n",
      "FontSize.png: (881, 296)\n",
      "BloggerTab.png: (1135, 30)\n",
      "(x, y) = (265, 535)\n",
      "Analysis file name: 2017-04-24 台南新生站 Tainan Xinsheng Station 空氣2號 Air 2 (Arduino Uno + TL081) - Analysis\n",
      "(x, y) = (265, 535)\n",
      "SuperBigButton.png: (803, 998)\n",
      "AddImageTitleButton.png: (1171, 997)\n",
      "AddNewImageTitleField.png: (1240, 905)\n",
      "FontSize.png: (881, 296)\n",
      "BloggerTab.png: (1135, 30)\n",
      "(x, y) = (160, 70)\n",
      "original file name: 2017-04-28 台南新生站 Tainan Xinsheng Station (NI USB-6210)\n",
      "(x, y) = (160, 70)\n",
      "SuperBigButton.png: (803, 998)\n",
      "AddImageTitleButton.png: (1171, 997)\n",
      "AddNewImageTitleField.png: (1240, 905)\n",
      "FontSize.png: (881, 296)\n",
      "BloggerTab.png: (1135, 30)\n",
      "(x, y) = (160, 225)\n",
      "original file name: 2017-04-28 台南新生站 Tainan Xinsheng Station 空氣2號 Air 2 (Arduino Uno + TL081)\n",
      "(x, y) = (160, 225)\n",
      "SuperBigButton.png: (803, 998)\n",
      "AddImageTitleButton.png: (1171, 997)\n",
      "AddNewImageTitleField.png: (1240, 905)\n",
      "FontSize.png: (881, 296)\n",
      "BloggerTab.png: (1135, 30)\n",
      "(x, y) = (160, 380)\n",
      "original file name: 2017-04-24 台南新生站 Tainan Xinsheng Station (NI USB-6210)\n",
      "(x, y) = (160, 380)\n",
      "SuperBigButton.png: (803, 998)\n",
      "AddImageTitleButton.png: (1171, 997)\n",
      "AddNewImageTitleField.png: (1240, 905)\n",
      "FontSize.png: (881, 296)\n",
      "BloggerTab.png: (1135, 30)\n",
      "(x, y) = (265, 535)\n",
      "Analysis file name: 2017-04-24 台南新生站 Tainan Xinsheng Station 空氣2號 Air 2 (Arduino Uno + TL081) - Analysis\n",
      "(x, y) = (265, 535)\n",
      "SuperBigButton.png: (803, 998)\n",
      "AddImageTitleButton.png: (1171, 997)\n",
      "AddNewImageTitleField.png: (1240, 905)\n",
      "FontSize.png: (881, 296)\n"
     ]
    }
   ],
   "source": [
    "insert_Analysis_file(1)\n",
    "insert_Analysis_file(2)\n",
    "insert_Analysis_file(3)\n",
    "insert_Analysis_file(4)\n",
    "\n",
    "insert_original_file(1)\n",
    "insert_original_file(2)\n",
    "insert_original_file(3)\n",
    "insert_original_file(4)"
   ]
  },
  {
   "cell_type": "code",
   "execution_count": 174,
   "metadata": {
    "collapsed": false
   },
   "outputs": [
    {
     "name": "stdout",
     "output_type": "stream",
     "text": [
      "BloggerTab.png: (1135, 30)\n",
      "(x, y) = (160, 535)\n",
      "original file name: 2017-04-24 台南新生站 Tainan Xinsheng Station 空氣2號 Air 2 (Arduino Uno + TL081)\n",
      "(x, y) = (160, 535)\n",
      "SuperBigButton.png: (803, 998)\n",
      "AddImageTitleButton.png: (1171, 645)\n",
      "AddNewImageTitleField.png: (1240, 905)\n",
      "FontSize.png: (881, 296)\n"
     ]
    }
   ],
   "source": [
    "insert_original_file(4)"
   ]
  },
  {
   "cell_type": "code",
   "execution_count": null,
   "metadata": {
    "collapsed": true
   },
   "outputs": [],
   "source": [
    "insert_original_file(1)"
   ]
  },
  {
   "cell_type": "code",
   "execution_count": 165,
   "metadata": {
    "collapsed": false
   },
   "outputs": [
    {
     "name": "stdout",
     "output_type": "stream",
     "text": [
      "BloggerTab.png: (1462, 30)\n",
      "(x, y) = (160, 70)\n",
      "original file name: 2017-04-27 桃園站 Taoyuan Station (NI USB-6210)\n",
      "(x, y) = (160, 70)\n",
      "SuperBigButton.png: (803, 998)\n",
      "AddImageTitleButton.png: (1171, 997)\n",
      "AddNewImageTitleField.png: (1240, 905)\n",
      "FontSize.png: (881, 296)\n",
      "BloggerTab.png: (1462, 30)\n",
      "(x, y) = (160, 225)\n",
      "original file name: 2017-04-27 桃園站 Taoyuan Station 空氣2號 Air 2 (Arduino Uno + TL081)\n",
      "(x, y) = (160, 225)\n",
      "SuperBigButton.png: (803, 998)\n",
      "AddImageTitleButton.png: (1171, 997)\n",
      "AddNewImageTitleField.png: (1240, 905)\n",
      "FontSize.png: (881, 296)\n"
     ]
    }
   ],
   "source": [
    "insert_original_file(1)\n",
    "insert_original_file(2)"
   ]
  },
  {
   "cell_type": "code",
   "execution_count": 160,
   "metadata": {
    "collapsed": false
   },
   "outputs": [
    {
     "name": "stdout",
     "output_type": "stream",
     "text": [
      "BloggerTab.png: (1462, 30)\n",
      "(x, y) = (160, 380)\n",
      "original file name: 2017-04-24 台南新生站 Tainan Xinsheng Station (NI USB-6210)\n",
      "(x, y) = (160, 380)\n",
      "SuperBigButton.png: (803, 998)\n",
      "AddImageTitleButton.png: (1171, 628)\n",
      "AddNewImageTitleField.png: (1240, 905)\n",
      "FontSize.png: (881, 296)\n"
     ]
    }
   ],
   "source": [
    "insert_original_file(3)"
   ]
  },
  {
   "cell_type": "code",
   "execution_count": 161,
   "metadata": {
    "collapsed": false
   },
   "outputs": [
    {
     "name": "stdout",
     "output_type": "stream",
     "text": [
      "BloggerTab.png: (1462, 30)\n",
      "(x, y) = (160, 535)\n",
      "original file name: 2017-04-24 台南新生站 Tainan Xinsheng Station 空氣2號 Air 2 (Arduino Uno + TL081)\n",
      "(x, y) = (160, 535)\n",
      "SuperBigButton.png: (803, 998)\n",
      "AddImageTitleButton.png: (1171, 997)\n",
      "AddNewImageTitleField.png: (1240, 905)\n",
      "FontSize.png: (881, 296)\n"
     ]
    }
   ],
   "source": [
    "insert_original_file(4)"
   ]
  },
  {
   "cell_type": "code",
   "execution_count": 184,
   "metadata": {
    "collapsed": false
   },
   "outputs": [
    {
     "name": "stdout",
     "output_type": "stream",
     "text": [
      "(x, y) = (265, 70)\n",
      "(x, y) = (265, 225)\n",
      "(x, y) = (265, 380)\n",
      "(x, y) = (265, 535)\n",
      "(x, y) = (265, 690)\n",
      "(x, y) = (265, 845)\n"
     ]
    },
    {
     "ename": "FailSafeException",
     "evalue": "PyAutoGUI fail-safe triggered from mouse moving to upper-left corner. To disable this fail-safe, set pyautogui.FAILSAFE to False.",
     "output_type": "error",
     "traceback": [
      "\u001b[0;31m---------------------------------------------------------------------------\u001b[0m",
      "\u001b[0;31mFailSafeException\u001b[0m                         Traceback (most recent call last)",
      "\u001b[0;32m<ipython-input-184-e9c37d52b5b8>\u001b[0m in \u001b[0;36m<module>\u001b[0;34m()\u001b[0m\n\u001b[1;32m      4\u001b[0m \u001b[0minsert_Analysis_file\u001b[0m\u001b[1;33m(\u001b[0m\u001b[1;36m4\u001b[0m\u001b[1;33m)\u001b[0m\u001b[1;33m\u001b[0m\u001b[0m\n\u001b[1;32m      5\u001b[0m \u001b[0minsert_Analysis_file\u001b[0m\u001b[1;33m(\u001b[0m\u001b[1;36m5\u001b[0m\u001b[1;33m)\u001b[0m\u001b[1;33m\u001b[0m\u001b[0m\n\u001b[0;32m----> 6\u001b[0;31m \u001b[0minsert_Analysis_file\u001b[0m\u001b[1;33m(\u001b[0m\u001b[1;36m6\u001b[0m\u001b[1;33m)\u001b[0m\u001b[1;33m\u001b[0m\u001b[0m\n\u001b[0m\u001b[1;32m      7\u001b[0m \u001b[1;33m\u001b[0m\u001b[0m\n\u001b[1;32m      8\u001b[0m \u001b[0minsert_original_file\u001b[0m\u001b[1;33m(\u001b[0m\u001b[1;36m1\u001b[0m\u001b[1;33m)\u001b[0m\u001b[1;33m\u001b[0m\u001b[0m\n",
      "\u001b[0;32m<ipython-input-152-f2ce0f83bc83>\u001b[0m in \u001b[0;36minsert_Analysis_file\u001b[0;34m(file_number)\u001b[0m\n\u001b[1;32m     26\u001b[0m     \u001b[0mtime\u001b[0m\u001b[1;33m.\u001b[0m\u001b[0msleep\u001b[0m\u001b[1;33m(\u001b[0m\u001b[1;36m5\u001b[0m\u001b[1;33m)\u001b[0m\u001b[1;33m\u001b[0m\u001b[0m\n\u001b[1;32m     27\u001b[0m \u001b[1;33m\u001b[0m\u001b[0m\n\u001b[0;32m---> 28\u001b[0;31m     \u001b[0mscroll_down\u001b[0m\u001b[1;33m(\u001b[0m\u001b[1;33m)\u001b[0m\u001b[1;33m\u001b[0m\u001b[0m\n\u001b[0m\u001b[1;32m     29\u001b[0m \u001b[1;33m\u001b[0m\u001b[0m\n\u001b[1;32m     30\u001b[0m     \u001b[0mclick_Edit_area\u001b[0m\u001b[1;33m(\u001b[0m\u001b[1;33m)\u001b[0m\u001b[1;33m\u001b[0m\u001b[0m\n",
      "\u001b[0;32m<ipython-input-149-8cc457750c50>\u001b[0m in \u001b[0;36mscroll_down\u001b[0;34m()\u001b[0m\n\u001b[1;32m      1\u001b[0m \u001b[1;32mdef\u001b[0m \u001b[0mscroll_down\u001b[0m\u001b[1;33m(\u001b[0m\u001b[1;33m)\u001b[0m\u001b[1;33m:\u001b[0m\u001b[1;33m\u001b[0m\u001b[0m\n\u001b[0;32m----> 2\u001b[0;31m     \u001b[0mpyautogui\u001b[0m\u001b[1;33m.\u001b[0m\u001b[0mmoveTo\u001b[0m\u001b[1;33m(\u001b[0m\u001b[1;36m1100\u001b[0m\u001b[1;33m,\u001b[0m \u001b[1;36m600\u001b[0m\u001b[1;33m)\u001b[0m\u001b[1;33m\u001b[0m\u001b[0m\n\u001b[0m\u001b[1;32m      3\u001b[0m     \u001b[0mtime\u001b[0m\u001b[1;33m.\u001b[0m\u001b[0msleep\u001b[0m\u001b[1;33m(\u001b[0m\u001b[1;36m1\u001b[0m\u001b[1;33m)\u001b[0m\u001b[1;33m\u001b[0m\u001b[0m\n\u001b[1;32m      4\u001b[0m     \u001b[0mpyautogui\u001b[0m\u001b[1;33m.\u001b[0m\u001b[0mscroll\u001b[0m\u001b[1;33m(\u001b[0m\u001b[1;33m-\u001b[0m\u001b[1;36m10000\u001b[0m\u001b[1;33m)\u001b[0m \u001b[1;31m# scroll down\u001b[0m\u001b[1;33m\u001b[0m\u001b[0m\n\u001b[1;32m      5\u001b[0m     \u001b[0mtime\u001b[0m\u001b[1;33m.\u001b[0m\u001b[0msleep\u001b[0m\u001b[1;33m(\u001b[0m\u001b[1;36m1\u001b[0m\u001b[1;33m)\u001b[0m\u001b[1;33m\u001b[0m\u001b[0m\n",
      "\u001b[0;32mC:\\Users\\Dyson\\Anaconda3\\lib\\site-packages\\pyautogui\\__init__.py\u001b[0m in \u001b[0;36mmoveTo\u001b[0;34m(x, y, duration, tween, pause, _pause)\u001b[0m\n\u001b[1;32m    611\u001b[0m     \u001b[0mx\u001b[0m\u001b[1;33m,\u001b[0m \u001b[0my\u001b[0m \u001b[1;33m=\u001b[0m \u001b[0m_unpackXY\u001b[0m\u001b[1;33m(\u001b[0m\u001b[0mx\u001b[0m\u001b[1;33m,\u001b[0m \u001b[0my\u001b[0m\u001b[1;33m)\u001b[0m\u001b[1;33m\u001b[0m\u001b[0m\n\u001b[1;32m    612\u001b[0m \u001b[1;33m\u001b[0m\u001b[0m\n\u001b[0;32m--> 613\u001b[0;31m     \u001b[0m_failSafeCheck\u001b[0m\u001b[1;33m(\u001b[0m\u001b[1;33m)\u001b[0m\u001b[1;33m\u001b[0m\u001b[0m\n\u001b[0m\u001b[1;32m    614\u001b[0m \u001b[1;33m\u001b[0m\u001b[0m\n\u001b[1;32m    615\u001b[0m     \u001b[0m_mouseMoveDrag\u001b[0m\u001b[1;33m(\u001b[0m\u001b[1;34m'move'\u001b[0m\u001b[1;33m,\u001b[0m \u001b[0mx\u001b[0m\u001b[1;33m,\u001b[0m \u001b[0my\u001b[0m\u001b[1;33m,\u001b[0m \u001b[1;36m0\u001b[0m\u001b[1;33m,\u001b[0m \u001b[1;36m0\u001b[0m\u001b[1;33m,\u001b[0m \u001b[0mduration\u001b[0m\u001b[1;33m,\u001b[0m \u001b[0mtween\u001b[0m\u001b[1;33m)\u001b[0m\u001b[1;33m\u001b[0m\u001b[0m\n",
      "\u001b[0;32mC:\\Users\\Dyson\\Anaconda3\\lib\\site-packages\\pyautogui\\__init__.py\u001b[0m in \u001b[0;36m_failSafeCheck\u001b[0;34m()\u001b[0m\n\u001b[1;32m   1008\u001b[0m \u001b[1;32mdef\u001b[0m \u001b[0m_failSafeCheck\u001b[0m\u001b[1;33m(\u001b[0m\u001b[1;33m)\u001b[0m\u001b[1;33m:\u001b[0m\u001b[1;33m\u001b[0m\u001b[0m\n\u001b[1;32m   1009\u001b[0m     \u001b[1;32mif\u001b[0m \u001b[0mFAILSAFE\u001b[0m \u001b[1;32mand\u001b[0m \u001b[0mposition\u001b[0m\u001b[1;33m(\u001b[0m\u001b[1;33m)\u001b[0m \u001b[1;33m==\u001b[0m \u001b[1;33m(\u001b[0m\u001b[1;36m0\u001b[0m\u001b[1;33m,\u001b[0m \u001b[1;36m0\u001b[0m\u001b[1;33m)\u001b[0m\u001b[1;33m:\u001b[0m\u001b[1;33m\u001b[0m\u001b[0m\n\u001b[0;32m-> 1010\u001b[0;31m         \u001b[1;32mraise\u001b[0m \u001b[0mFailSafeException\u001b[0m\u001b[1;33m(\u001b[0m\u001b[1;34m'PyAutoGUI fail-safe triggered from mouse moving to upper-left corner. To disable this fail-safe, set pyautogui.FAILSAFE to False.'\u001b[0m\u001b[1;33m)\u001b[0m\u001b[1;33m\u001b[0m\u001b[0m\n\u001b[0m\u001b[1;32m   1011\u001b[0m \u001b[1;33m\u001b[0m\u001b[0m\n\u001b[1;32m   1012\u001b[0m \u001b[1;33m\u001b[0m\u001b[0m\n",
      "\u001b[0;31mFailSafeException\u001b[0m: PyAutoGUI fail-safe triggered from mouse moving to upper-left corner. To disable this fail-safe, set pyautogui.FAILSAFE to False."
     ]
    }
   ],
   "source": [
    "insert_Analysis_file(1)\n",
    "insert_Analysis_file(2)\n",
    "insert_Analysis_file(3)\n",
    "insert_Analysis_file(4)\n",
    "insert_Analysis_file(5)\n",
    "insert_Analysis_file(6)\n",
    "\n",
    "insert_original_file(1)\n",
    "insert_original_file(2)\n",
    "insert_original_file(3)\n",
    "insert_original_file(4)\n",
    "insert_original_file(5)\n",
    "insert_original_file(6)"
   ]
  },
  {
   "cell_type": "code",
   "execution_count": 185,
   "metadata": {
    "collapsed": false
   },
   "outputs": [
    {
     "ename": "FailSafeException",
     "evalue": "PyAutoGUI fail-safe triggered from mouse moving to upper-left corner. To disable this fail-safe, set pyautogui.FAILSAFE to False.",
     "output_type": "error",
     "traceback": [
      "\u001b[0;31m---------------------------------------------------------------------------\u001b[0m",
      "\u001b[0;31mFailSafeException\u001b[0m                         Traceback (most recent call last)",
      "\u001b[0;32m<ipython-input-185-b2c1571a1896>\u001b[0m in \u001b[0;36m<module>\u001b[0;34m()\u001b[0m\n\u001b[1;32m      4\u001b[0m \u001b[0minsert_original_file\u001b[0m\u001b[1;33m(\u001b[0m\u001b[1;36m4\u001b[0m\u001b[1;33m)\u001b[0m\u001b[1;33m\u001b[0m\u001b[0m\n\u001b[1;32m      5\u001b[0m \u001b[0minsert_original_file\u001b[0m\u001b[1;33m(\u001b[0m\u001b[1;36m5\u001b[0m\u001b[1;33m)\u001b[0m\u001b[1;33m\u001b[0m\u001b[0m\n\u001b[0;32m----> 6\u001b[0;31m \u001b[0minsert_original_file\u001b[0m\u001b[1;33m(\u001b[0m\u001b[1;36m6\u001b[0m\u001b[1;33m)\u001b[0m\u001b[1;33m\u001b[0m\u001b[0m\n\u001b[0m",
      "\u001b[0;32m<ipython-input-180-f95e2b988fb1>\u001b[0m in \u001b[0;36minsert_original_file\u001b[0;34m(file_number)\u001b[0m\n\u001b[1;32m     17\u001b[0m     \u001b[0mscroll_down\u001b[0m\u001b[1;33m(\u001b[0m\u001b[1;33m)\u001b[0m\u001b[1;33m\u001b[0m\u001b[0m\n\u001b[1;32m     18\u001b[0m \u001b[1;33m\u001b[0m\u001b[0m\n\u001b[0;32m---> 19\u001b[0;31m     \u001b[0mclick_Edit_area\u001b[0m\u001b[1;33m(\u001b[0m\u001b[1;33m)\u001b[0m\u001b[1;33m\u001b[0m\u001b[0m\n\u001b[0m\u001b[1;32m     20\u001b[0m     \u001b[0mclick_image\u001b[0m\u001b[1;33m(\u001b[0m\u001b[1;36m957\u001b[0m\u001b[1;33m)\u001b[0m\u001b[1;33m\u001b[0m\u001b[0m\n\u001b[1;32m     21\u001b[0m     \u001b[0mscroll_down\u001b[0m\u001b[1;33m(\u001b[0m\u001b[1;33m)\u001b[0m\u001b[1;33m\u001b[0m\u001b[0m\n",
      "\u001b[0;32m<ipython-input-150-26c393fa4856>\u001b[0m in \u001b[0;36mclick_Edit_area\u001b[0;34m()\u001b[0m\n\u001b[1;32m      1\u001b[0m \u001b[1;32mdef\u001b[0m \u001b[0mclick_Edit_area\u001b[0m\u001b[1;33m(\u001b[0m\u001b[1;33m)\u001b[0m\u001b[1;33m:\u001b[0m\u001b[1;33m\u001b[0m\u001b[0m\n\u001b[1;32m      2\u001b[0m     \u001b[1;31m# click bottom of Edit area\u001b[0m\u001b[1;33m\u001b[0m\u001b[1;33m\u001b[0m\u001b[0m\n\u001b[0;32m----> 3\u001b[0;31m     \u001b[0mpyautogui\u001b[0m\u001b[1;33m.\u001b[0m\u001b[0mmoveTo\u001b[0m\u001b[1;33m(\u001b[0m\u001b[1;36m1100\u001b[0m\u001b[1;33m,\u001b[0m \u001b[1;36m1000\u001b[0m\u001b[1;33m)\u001b[0m\u001b[1;33m\u001b[0m\u001b[0m\n\u001b[0m\u001b[1;32m      4\u001b[0m     \u001b[0mtime\u001b[0m\u001b[1;33m.\u001b[0m\u001b[0msleep\u001b[0m\u001b[1;33m(\u001b[0m\u001b[1;36m1\u001b[0m\u001b[1;33m)\u001b[0m\u001b[1;33m\u001b[0m\u001b[0m\n\u001b[1;32m      5\u001b[0m     \u001b[0mpyautogui\u001b[0m\u001b[1;33m.\u001b[0m\u001b[0mclick\u001b[0m\u001b[1;33m(\u001b[0m\u001b[1;33m)\u001b[0m\u001b[1;33m\u001b[0m\u001b[0m\n",
      "\u001b[0;32mC:\\Users\\Dyson\\Anaconda3\\lib\\site-packages\\pyautogui\\__init__.py\u001b[0m in \u001b[0;36mmoveTo\u001b[0;34m(x, y, duration, tween, pause, _pause)\u001b[0m\n\u001b[1;32m    611\u001b[0m     \u001b[0mx\u001b[0m\u001b[1;33m,\u001b[0m \u001b[0my\u001b[0m \u001b[1;33m=\u001b[0m \u001b[0m_unpackXY\u001b[0m\u001b[1;33m(\u001b[0m\u001b[0mx\u001b[0m\u001b[1;33m,\u001b[0m \u001b[0my\u001b[0m\u001b[1;33m)\u001b[0m\u001b[1;33m\u001b[0m\u001b[0m\n\u001b[1;32m    612\u001b[0m \u001b[1;33m\u001b[0m\u001b[0m\n\u001b[0;32m--> 613\u001b[0;31m     \u001b[0m_failSafeCheck\u001b[0m\u001b[1;33m(\u001b[0m\u001b[1;33m)\u001b[0m\u001b[1;33m\u001b[0m\u001b[0m\n\u001b[0m\u001b[1;32m    614\u001b[0m \u001b[1;33m\u001b[0m\u001b[0m\n\u001b[1;32m    615\u001b[0m     \u001b[0m_mouseMoveDrag\u001b[0m\u001b[1;33m(\u001b[0m\u001b[1;34m'move'\u001b[0m\u001b[1;33m,\u001b[0m \u001b[0mx\u001b[0m\u001b[1;33m,\u001b[0m \u001b[0my\u001b[0m\u001b[1;33m,\u001b[0m \u001b[1;36m0\u001b[0m\u001b[1;33m,\u001b[0m \u001b[1;36m0\u001b[0m\u001b[1;33m,\u001b[0m \u001b[0mduration\u001b[0m\u001b[1;33m,\u001b[0m \u001b[0mtween\u001b[0m\u001b[1;33m)\u001b[0m\u001b[1;33m\u001b[0m\u001b[0m\n",
      "\u001b[0;32mC:\\Users\\Dyson\\Anaconda3\\lib\\site-packages\\pyautogui\\__init__.py\u001b[0m in \u001b[0;36m_failSafeCheck\u001b[0;34m()\u001b[0m\n\u001b[1;32m   1008\u001b[0m \u001b[1;32mdef\u001b[0m \u001b[0m_failSafeCheck\u001b[0m\u001b[1;33m(\u001b[0m\u001b[1;33m)\u001b[0m\u001b[1;33m:\u001b[0m\u001b[1;33m\u001b[0m\u001b[0m\n\u001b[1;32m   1009\u001b[0m     \u001b[1;32mif\u001b[0m \u001b[0mFAILSAFE\u001b[0m \u001b[1;32mand\u001b[0m \u001b[0mposition\u001b[0m\u001b[1;33m(\u001b[0m\u001b[1;33m)\u001b[0m \u001b[1;33m==\u001b[0m \u001b[1;33m(\u001b[0m\u001b[1;36m0\u001b[0m\u001b[1;33m,\u001b[0m \u001b[1;36m0\u001b[0m\u001b[1;33m)\u001b[0m\u001b[1;33m:\u001b[0m\u001b[1;33m\u001b[0m\u001b[0m\n\u001b[0;32m-> 1010\u001b[0;31m         \u001b[1;32mraise\u001b[0m \u001b[0mFailSafeException\u001b[0m\u001b[1;33m(\u001b[0m\u001b[1;34m'PyAutoGUI fail-safe triggered from mouse moving to upper-left corner. To disable this fail-safe, set pyautogui.FAILSAFE to False.'\u001b[0m\u001b[1;33m)\u001b[0m\u001b[1;33m\u001b[0m\u001b[0m\n\u001b[0m\u001b[1;32m   1011\u001b[0m \u001b[1;33m\u001b[0m\u001b[0m\n\u001b[1;32m   1012\u001b[0m \u001b[1;33m\u001b[0m\u001b[0m\n",
      "\u001b[0;31mFailSafeException\u001b[0m: PyAutoGUI fail-safe triggered from mouse moving to upper-left corner. To disable this fail-safe, set pyautogui.FAILSAFE to False."
     ]
    }
   ],
   "source": [
    "insert_original_file(1)\n",
    "insert_original_file(2)\n",
    "insert_original_file(3)\n",
    "insert_original_file(4)\n",
    "insert_original_file(5)\n",
    "insert_original_file(6)"
   ]
  },
  {
   "cell_type": "code",
   "execution_count": null,
   "metadata": {
    "collapsed": true
   },
   "outputs": [],
   "source": []
  }
 ],
 "metadata": {
  "kernelspec": {
   "display_name": "Python 3",
   "language": "python",
   "name": "python3"
  },
  "language_info": {
   "codemirror_mode": {
    "name": "ipython",
    "version": 3
   },
   "file_extension": ".py",
   "mimetype": "text/x-python",
   "name": "python",
   "nbconvert_exporter": "python",
   "pygments_lexer": "ipython3",
   "version": "3.6.0"
  }
 },
 "nbformat": 4,
 "nbformat_minor": 2
}
