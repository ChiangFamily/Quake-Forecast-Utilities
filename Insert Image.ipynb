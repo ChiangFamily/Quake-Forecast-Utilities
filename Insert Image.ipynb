{
 "cells": [
  {
   "cell_type": "code",
   "execution_count": 1,
   "metadata": {
    "collapsed": true
   },
   "outputs": [],
   "source": [
    "import locate\n",
    "import pyautogui\n",
    "import time\n",
    "import pyperclip\n",
    "pyautogui.PAUSE = 0.5\n",
    "pyautogui.FAILSAFE = True"
   ]
  },
  {
   "cell_type": "code",
   "execution_count": 58,
   "metadata": {
    "collapsed": true
   },
   "outputs": [],
   "source": [
    "def insert_Analysis_file(file_number):    \n",
    "    locate.click_Blogger_tab()\n",
    "    locate.click_Edit_area()\n",
    "    \n",
    "    if (file_number is 1):\n",
    "        pyautogui.press('enter')\n",
    "        \n",
    "    pyautogui.press('up')\n",
    "    \n",
    "    analysis_file_name = locate.get_file_name(file_number, 'analysis')    \n",
    "    (x, y) = locate.get_file_location(file_number, 'analysis')\n",
    "    \n",
    "    pyautogui.moveTo(x, y)\n",
    "    pyautogui.click()\n",
    "    time.sleep(0.5)\n",
    "    \n",
    "    if (file_number is 1):\n",
    "        (x, y) = (700, 400)\n",
    "    else:\n",
    "        (x, y) = (700, 957)\n",
    "        \n",
    "    pyautogui.dragTo(x, y, 2)\n",
    "    time.sleep(5)\n",
    "\n",
    "    locate.scroll_down()\n",
    "\n",
    "    locate.click_Edit_area()\n",
    "    \n",
    "    if (file_number is 1):\n",
    "        locate.click_image(500)\n",
    "    else:\n",
    "        locate.click_image(957)\n",
    "        \n",
    "    locate.scroll_down()\n",
    "    \n",
    "    locate.click_Super_Big_button()\n",
    "    locate.scroll_down()\n",
    "    \n",
    "    locate.click_Add_Image_Title_button()\n",
    "    locate.scroll_down()\n",
    "    \n",
    "    locate.click_Add_Image_Title_field()\n",
    "    pyautogui.tripleClick()\n",
    " \n",
    "    pyautogui.rightClick()\n",
    "    time.sleep(1)\n",
    "    pyautogui.press('down')\n",
    "    pyautogui.press('down')\n",
    "    pyautogui.press('down')\n",
    "    pyautogui.press('enter')\n",
    "    time.sleep(1)\n",
    "\n",
    "    locate.click_Font_Size()\n",
    "\n",
    "    pyautogui.moveRel(0, 93)\n",
    "    time.sleep(1)\n",
    "    pyautogui.click()\n",
    "    time.sleep(1)\n",
    "\n",
    "    locate.scroll_down()\n",
    "    locate.click_Edit_area()\n",
    "    pyautogui.press('up')"
   ]
  },
  {
   "cell_type": "code",
   "execution_count": 59,
   "metadata": {
    "collapsed": true
   },
   "outputs": [],
   "source": [
    "def insert_original_file(file_number):\n",
    "    locate.click_Blogger_tab()\n",
    "    locate.click_Edit_area()\n",
    "    pyautogui.press('up')\n",
    "    \n",
    "    original_file_name = locate.get_file_name(file_number, 'original')\n",
    "    (x, y) = locate.get_file_location(file_number, 'original')\n",
    "    \n",
    "    pyautogui.moveTo(x, y)\n",
    "    pyautogui.click()\n",
    "    time.sleep(0.5)\n",
    "    \n",
    "    pyautogui.dragTo(700, 957, 2)\n",
    "    time.sleep(5)\n",
    "    locate.scroll_down()\n",
    "    \n",
    "    locate.click_Edit_area()\n",
    "    locate.click_image(957)\n",
    "    locate.scroll_down()   \n",
    "    \n",
    "    locate.click_Super_Big_button()\n",
    "    locate.scroll_down()\n",
    "    \n",
    "    locate.click_Add_Image_Title_button()\n",
    "    locate.scroll_down()\n",
    "    \n",
    "    locate.click_Add_Image_Title_field()\n",
    "    pyautogui.tripleClick()\n",
    " \n",
    "    pyautogui.rightClick()\n",
    "    time.sleep(1)\n",
    "    pyautogui.press('down')\n",
    "    pyautogui.press('down')\n",
    "    pyautogui.press('down')\n",
    "    pyautogui.press('enter')\n",
    "    time.sleep(1)\n",
    "\n",
    "    locate.click_Font_Size()\n",
    "\n",
    "    pyautogui.moveRel(0, 93)\n",
    "    time.sleep(1)\n",
    "    pyautogui.click()\n",
    "    time.sleep(1)\n",
    "\n",
    "    locate.scroll_down()\n",
    "    locate.click_Edit_area()\n",
    "    pyautogui.press('up')"
   ]
  },
  {
   "cell_type": "code",
   "execution_count": null,
   "metadata": {
    "collapsed": true
   },
   "outputs": [],
   "source": [
    "insert_Analysis_file(1)"
   ]
  },
  {
   "cell_type": "code",
   "execution_count": 7,
   "metadata": {
    "collapsed": true
   },
   "outputs": [],
   "source": [
    "insert_original_file(1)"
   ]
  },
  {
   "cell_type": "code",
   "execution_count": 72,
   "metadata": {
    "collapsed": false
   },
   "outputs": [],
   "source": [
    "insert_Analysis_file(1)\n",
    "insert_original_file(1)"
   ]
  },
  {
   "cell_type": "code",
   "execution_count": 68,
   "metadata": {
    "collapsed": false
   },
   "outputs": [],
   "source": [
    "insert_Analysis_file(1)\n",
    "insert_Analysis_file(2)\n",
    "\n",
    "insert_original_file(1)\n",
    "insert_original_file(2)"
   ]
  },
  {
   "cell_type": "code",
   "execution_count": 69,
   "metadata": {
    "collapsed": false
   },
   "outputs": [],
   "source": [
    "insert_Analysis_file(1)\n",
    "insert_Analysis_file(2)\n",
    "insert_Analysis_file(3)\n",
    "\n",
    "insert_original_file(1)\n",
    "insert_original_file(2)\n",
    "insert_original_file(3)"
   ]
  },
  {
   "cell_type": "code",
   "execution_count": null,
   "metadata": {
    "collapsed": true
   },
   "outputs": [],
   "source": [
    "insert_Analysis_file(1)\n",
    "insert_Analysis_file(2)\n",
    "insert_Analysis_file(3)\n",
    "insert_Analysis_file(4)\n",
    "\n",
    "insert_original_file(1)\n",
    "insert_original_file(2)\n",
    "insert_original_file(3)\n",
    "\n",
    "insert_original_file(4)"
   ]
  }
 ],
 "metadata": {
  "kernelspec": {
   "display_name": "Python 3",
   "language": "python",
   "name": "python3"
  },
  "language_info": {
   "codemirror_mode": {
    "name": "ipython",
    "version": 3
   },
   "file_extension": ".py",
   "mimetype": "text/x-python",
   "name": "python",
   "nbconvert_exporter": "python",
   "pygments_lexer": "ipython3",
   "version": "3.6.0"
  }
 },
 "nbformat": 4,
 "nbformat_minor": 2
}
