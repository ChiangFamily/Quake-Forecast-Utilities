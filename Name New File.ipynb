{
 "cells": [
  {
   "cell_type": "code",
   "execution_count": 1,
   "metadata": {
    "collapsed": true
   },
   "outputs": [],
   "source": [
    "import pyautogui\n",
    "import time\n",
    "import pyperclip\n",
    "pyautogui.PAUSE = 0.5\n",
    "pyautogui.FAILSAFE = True"
   ]
  },
  {
   "cell_type": "code",
   "execution_count": 2,
   "metadata": {
    "collapsed": true
   },
   "outputs": [],
   "source": [
    "def get_date_stamp():\n",
    "    date_stamp = time.strftime(\"%Y-%m-%d\")\n",
    "    return date_stamp"
   ]
  },
  {
   "cell_type": "code",
   "execution_count": 3,
   "metadata": {
    "collapsed": false
   },
   "outputs": [],
   "source": [
    "def get_old_file_name(file_number):\n",
    "    #old_file_x = 265\n",
    "    old_file_x = 160\n",
    "    y = 70 + (file_number - 1) * 150\n",
    "    # print('(old_file_x, y) = ('+ str(old_file_x) + ', ' + str(y) +')')\n",
    "    pyautogui.moveTo(old_file_x, y)\n",
    "    pyautogui.click()\n",
    "    time.sleep(0.5)\n",
    "    #pyautogui.moveRel(0, 50)\n",
    "    pyautogui.moveRel(0, 42)\n",
    "    time.sleep(0.5)\n",
    "    pyautogui.click()\n",
    "    time.sleep(0.5)\n",
    "    pyautogui.rightClick()\n",
    "    time.sleep(0.5)\n",
    "    pyautogui.press('down')\n",
    "    pyautogui.press('down')\n",
    "    pyautogui.press('down')\n",
    "    pyautogui.press('c') # copy old file name to clip board\n",
    "    old_file_name = pyperclip.paste() # read old file name from clipboard\n",
    "    print('Old file name: ' + old_file_name)\n",
    "    return old_file_name"
   ]
  },
  {
   "cell_type": "code",
   "execution_count": 4,
   "metadata": {
    "collapsed": true
   },
   "outputs": [],
   "source": [
    "def get_new_file_name(old_file_name):   \n",
    "    old_date_stamp = old_file_name[0:10]\n",
    "    # print('Old date stamp: ' + old_date_stamp)\n",
    "  \n",
    "    new_date_stamp = get_date_stamp()\n",
    "    # print('New date stamp: ' + new_date_stamp)\n",
    "  \n",
    "    new_file_name = old_file_name.replace(old_date_stamp, new_date_stamp)\n",
    "    print('New file name: ' + new_file_name)\n",
    "  \n",
    "    return new_file_name"
   ]
  },
  {
   "cell_type": "code",
   "execution_count": 5,
   "metadata": {
    "collapsed": true
   },
   "outputs": [],
   "source": [
    "def name_file(file_number, new_file_name):\n",
    "    #new_file_x = 160\n",
    "    new_file_x = 55\n",
    "    y = 70 + (file_number - 1) * 150       \n",
    "    print('(new_file_x, y) = ('+ str(new_file_x) + ', ' + str(y) +')')\n",
    "  \n",
    "    pyperclip.copy(new_file_name) # copy new file name to clipboard\n",
    "    pyautogui.moveTo(new_file_x, y)\n",
    "    pyautogui.click()\n",
    "    time.sleep(0.5)\n",
    "    #pyautogui.moveRel(0, 50)\n",
    "    pyautogui.moveRel(0, 42)\n",
    "    pyautogui.click()\n",
    "    time.sleep(0.5)\n",
    "  \n",
    "    pyautogui.rightClick()\n",
    "    time.sleep(0.5)\n",
    "    pyautogui.press('down')\n",
    "    pyautogui.press('down')\n",
    "    pyautogui.press('down')\n",
    "    pyautogui.press('down')\n",
    "    pyautogui.press('p') # paste new file name from clip board\n",
    "    time.sleep(0.5)\n",
    "    pyautogui.press('enter')"
   ]
  },
  {
   "cell_type": "code",
   "execution_count": 6,
   "metadata": {
    "collapsed": true
   },
   "outputs": [],
   "source": [
    "# Name new file\n",
    "def name_new_file(file_number):\n",
    "    old_file_name = get_old_file_name(file_number)\n",
    "    new_file_name = get_new_file_name(old_file_name)\n",
    "    name_file(file_number, new_file_name)"
   ]
  },
  {
   "cell_type": "code",
   "execution_count": 7,
   "metadata": {
    "collapsed": true
   },
   "outputs": [],
   "source": [
    "def locate_and_click(png_file_name):\n",
    "    x, y = pyautogui.locateCenterOnScreen(png_file_name) # locate\n",
    "    print(png_file_name + ': (' + str(x) + ', ' + str(y) + ')')\n",
    "    pyautogui.click(x, y) # click\n",
    "    time.sleep(1)"
   ]
  },
  {
   "cell_type": "code",
   "execution_count": 8,
   "metadata": {
    "collapsed": true
   },
   "outputs": [],
   "source": [
    "def click_WeChat_icon():\n",
    "    pyautogui.moveTo(1000, 1079)\n",
    "    time.sleep(1)\n",
    "    pyautogui.moveTo(564, 1058)\n",
    "    time.sleep(1)\n",
    "    pyautogui.click()\n",
    "    time.sleep(1)"
   ]
  },
  {
   "cell_type": "code",
   "execution_count": 9,
   "metadata": {
    "collapsed": true
   },
   "outputs": [],
   "source": [
    "def click_WeChat_Edit_area():\n",
    "    pyautogui.moveTo(1090, 935)\n",
    "    time.sleep(1)\n",
    "    pyautogui.click()\n",
    "    time.sleep(1)"
   ]
  },
  {
   "cell_type": "code",
   "execution_count": 10,
   "metadata": {
    "collapsed": true
   },
   "outputs": [],
   "source": [
    "# Paste a file's name to WeChat and then drag it to WeChat\n",
    "def drag_to_WeChat(file_type, file_number):\n",
    "    if file_type is 'original':\n",
    "        #x = 160\n",
    "        x = 55\n",
    "    elif file_type is 'analysis':\n",
    "        #x = 265\n",
    "        x = 160\n",
    "    else:\n",
    "        print('Wrong file type:', file_type)\n",
    "    \n",
    "    y = 70 + (file_number - 1) * 150\n",
    "    print('(x, y) = ('+ str(x) + ', ' + str(y) +')')\n",
    "    pyautogui.moveTo(x, y)\n",
    "    time.sleep(1)\n",
    "    pyautogui.click()\n",
    "    time.sleep(1)\n",
    "\n",
    "    # copy file name to clipboard\n",
    "    #pyautogui.moveRel(0, 60)\n",
    "    pyautogui.moveRel(0, 42)\n",
    "    pyautogui.click()\n",
    "    time.sleep(1)\n",
    "    pyautogui.rightClick()\n",
    "    time.sleep(1)\n",
    "    for i in range(0, 3):\n",
    "        pyautogui.press('down')\n",
    "    pyautogui.press('c')\n",
    "\n",
    "    click_WeChat_icon()\n",
    "    click_WeChat_Edit_area()\n",
    "\n",
    "    # paste file name from clipboard\n",
    "    pyautogui.hotkey('ctrl', 'v')\n",
    "\n",
    "    pyautogui.moveTo(x, y)\n",
    "    time.sleep(1)\n",
    "    pyautogui.click()\n",
    "    time.sleep(1)\n",
    "    \n",
    "    pyautogui.dragTo(1090, 935, 2)\n",
    "    pyautogui.click()\n",
    "    time.sleep(1)\n",
    "\n",
    "    pyautogui.press('enter')"
   ]
  },
  {
   "cell_type": "code",
   "execution_count": 29,
   "metadata": {
    "collapsed": false,
    "scrolled": false
   },
   "outputs": [
    {
     "name": "stdout",
     "output_type": "stream",
     "text": [
      "Old file name: 2017-04-29 台南熱心站 Tainan Hot Heart Station 茂林輻射值\n",
      "New file name: 2017-05-02 台南熱心站 Tainan Hot Heart Station 茂林輻射值\n",
      "(new_file_x, y) = (55, 70)\n"
     ]
    }
   ],
   "source": [
    "name_new_file(1)"
   ]
  },
  {
   "cell_type": "code",
   "execution_count": 36,
   "metadata": {
    "collapsed": false
   },
   "outputs": [
    {
     "name": "stdout",
     "output_type": "stream",
     "text": [
      "Old file name: 2017-05-02 台南熱心站 Tainan Hot Heart Station 墾丁輻射值\n",
      "New file name: 2017-05-03 台南熱心站 Tainan Hot Heart Station 墾丁輻射值\n",
      "(new_file_x, y) = (55, 70)\n",
      "(x, y) = (55, 70)\n"
     ]
    }
   ],
   "source": [
    "name_new_file(1)\n",
    "drag_to_WeChat('original', 1)"
   ]
  },
  {
   "cell_type": "code",
   "execution_count": 37,
   "metadata": {
    "collapsed": false
   },
   "outputs": [
    {
     "name": "stdout",
     "output_type": "stream",
     "text": [
      "Old file name: 2017-05-02 台南新生站 Tainan Xinsheng Station 空氣2號 Air 2 (Arduino Uno + TL081)\n",
      "New file name: 2017-05-03 台南新生站 Tainan Xinsheng Station 空氣2號 Air 2 (Arduino Uno + TL081)\n",
      "(new_file_x, y) = (55, 70)\n",
      "Old file name: 2017-05-02 台南新生站 Tainan Xinsheng Station (NI USB-6210)\n",
      "New file name: 2017-05-03 台南新生站 Tainan Xinsheng Station (NI USB-6210)\n",
      "(new_file_x, y) = (55, 220)\n"
     ]
    }
   ],
   "source": [
    "name_new_file(1)\n",
    "name_new_file(2)"
   ]
  },
  {
   "cell_type": "code",
   "execution_count": 32,
   "metadata": {
    "collapsed": false
   },
   "outputs": [
    {
     "name": "stdout",
     "output_type": "stream",
     "text": [
      "Old file name: 2017-05-02 台中潭子站 Taichung Tantzu Station (NI USB-6210)\n",
      "New file name: 2017-05-03 台中潭子站 Taichung Tantzu Station (NI USB-6210)\n",
      "(new_file_x, y) = (55, 70)\n",
      "Old file name: 2017-05-02 台中潭子站 Taichung Tantzu Station 空氣2號 Air 2 (Arduino Uno + TL081)\n",
      "New file name: 2017-05-03 台中潭子站 Taichung Tantzu Station 空氣2號 Air 2 (Arduino Uno + TL081)\n",
      "(new_file_x, y) = (55, 220)\n",
      "(x, y) = (55, 70)\n",
      "(x, y) = (55, 220)\n"
     ]
    }
   ],
   "source": [
    "name_new_file(1)\n",
    "name_new_file(2)\n",
    "drag_to_WeChat('original', 1)\n",
    "drag_to_WeChat('original', 2)"
   ]
  },
  {
   "cell_type": "code",
   "execution_count": null,
   "metadata": {
    "collapsed": false
   },
   "outputs": [],
   "source": [
    "name_new_file(1)\n",
    "name_new_file(2)\n",
    "name_new_file(3)"
   ]
  },
  {
   "cell_type": "code",
   "execution_count": 35,
   "metadata": {
    "collapsed": false
   },
   "outputs": [
    {
     "name": "stdout",
     "output_type": "stream",
     "text": [
      "Old file name: 2017-05-02 宜蘭站 Yilan Station (NI USB-6210)\n",
      "New file name: 2017-05-03 宜蘭站 Yilan Station (NI USB-6210)\n",
      "(new_file_x, y) = (55, 70)\n",
      "Old file name: 2017-05-02 宜蘭站 Yilan Station  空氣2號 Air 2 (Arduino Uno + AD820)\n",
      "New file name: 2017-05-03 宜蘭站 Yilan Station  空氣2號 Air 2 (Arduino Uno + AD820)\n",
      "(new_file_x, y) = (55, 220)\n",
      "Old file name: 2017-05-02 宜蘭站 Yilan Station  空氣2號 Air 2 (Arduino Uno + TL081)\n",
      "New file name: 2017-05-03 宜蘭站 Yilan Station  空氣2號 Air 2 (Arduino Uno + TL081)\n",
      "(new_file_x, y) = (55, 370)\n",
      "(x, y) = (55, 70)\n",
      "(x, y) = (55, 220)\n",
      "(x, y) = (55, 370)\n"
     ]
    }
   ],
   "source": [
    "name_new_file(1)\n",
    "name_new_file(2)\n",
    "name_new_file(3)\n",
    "drag_to_WeChat('original', 1)\n",
    "drag_to_WeChat('original', 2)\n",
    "drag_to_WeChat('original', 3)"
   ]
  },
  {
   "cell_type": "code",
   "execution_count": null,
   "metadata": {
    "collapsed": false
   },
   "outputs": [],
   "source": [
    "name_new_file(1)\n",
    "name_new_file(2)\n",
    "name_new_file(3)\n",
    "name_new_file(4)"
   ]
  },
  {
   "cell_type": "code",
   "execution_count": null,
   "metadata": {
    "collapsed": false
   },
   "outputs": [],
   "source": [
    "drag_to_WeChat('original', 1)"
   ]
  },
  {
   "cell_type": "code",
   "execution_count": null,
   "metadata": {
    "collapsed": false
   },
   "outputs": [],
   "source": [
    "drag_to_WeChat('original', 1)\n",
    "drag_to_WeChat('original', 2)"
   ]
  },
  {
   "cell_type": "code",
   "execution_count": null,
   "metadata": {
    "collapsed": true
   },
   "outputs": [],
   "source": [
    "drag_to_WeChat('original', 1)\n",
    "drag_to_WeChat('original', 2)\n",
    "drag_to_WeChat('original', 3)"
   ]
  },
  {
   "cell_type": "code",
   "execution_count": null,
   "metadata": {
    "collapsed": true
   },
   "outputs": [],
   "source": [
    "drag_to_WeChat('analysis', 1)"
   ]
  },
  {
   "cell_type": "code",
   "execution_count": null,
   "metadata": {
    "collapsed": true
   },
   "outputs": [],
   "source": [
    "drag_to_WeChat('analysis', 1)\n",
    "drag_to_WeChat('analysis', 2)\n",
    "drag_to_WeChat('analysis', 3)"
   ]
  }
 ],
 "metadata": {
  "anaconda-cloud": {},
  "kernelspec": {
   "display_name": "Python 3",
   "language": "python",
   "name": "python3"
  },
  "language_info": {
   "codemirror_mode": {
    "name": "ipython",
    "version": 3
   },
   "file_extension": ".py",
   "mimetype": "text/x-python",
   "name": "python",
   "nbconvert_exporter": "python",
   "pygments_lexer": "ipython3",
   "version": "3.6.0"
  }
 },
 "nbformat": 4,
 "nbformat_minor": 1
}
