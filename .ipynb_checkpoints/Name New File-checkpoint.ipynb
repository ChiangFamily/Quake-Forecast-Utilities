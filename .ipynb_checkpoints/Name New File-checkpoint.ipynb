{
 "cells": [
  {
   "cell_type": "code",
   "execution_count": 1,
   "metadata": {
    "collapsed": true
   },
   "outputs": [],
   "source": [
    "import pyautogui\n",
    "import time\n",
    "import pyperclip\n",
    "pyautogui.PAUSE = 0.5\n",
    "pyautogui.FAILSAFE = True"
   ]
  },
  {
   "cell_type": "code",
   "execution_count": 2,
   "metadata": {
    "collapsed": true
   },
   "outputs": [],
   "source": [
    "def get_date_stamp():\n",
    "    date_stamp = time.strftime(\"%Y-%m-%d\")\n",
    "    return date_stamp"
   ]
  },
  {
   "cell_type": "code",
   "execution_count": 15,
   "metadata": {
    "collapsed": false
   },
   "outputs": [],
   "source": [
    "def get_old_file_name(file_number):\n",
    "    old_file_x = 265\n",
    "    y = 70 + (file_number - 1) * 155\n",
    "    # print('(old_file_x, y) = ('+ str(old_file_x) + ', ' + str(y) +')')\n",
    "    pyautogui.moveTo(old_file_x, y)\n",
    "    pyautogui.click()\n",
    "    time.sleep(0.5)\n",
    "    pyautogui.moveRel(0, 50)\n",
    "    time.sleep(0.5)\n",
    "    pyautogui.click()\n",
    "    time.sleep(0.5)\n",
    "    pyautogui.rightClick()\n",
    "    time.sleep(0.5)\n",
    "    pyautogui.press('down')\n",
    "    pyautogui.press('down')\n",
    "    pyautogui.press('down')\n",
    "    pyautogui.press('c') # copy old file name to clip board\n",
    "    old_file_name = pyperclip.paste() # read old file name from clipboard\n",
    "    print('Old file name: ' + old_file_name)\n",
    "    return old_file_name"
   ]
  },
  {
   "cell_type": "code",
   "execution_count": 16,
   "metadata": {
    "collapsed": true
   },
   "outputs": [],
   "source": [
    "def get_new_file_name(old_file_name):   \n",
    "    old_date_stamp = old_file_name[0:10]\n",
    "    # print('Old date stamp: ' + old_date_stamp)\n",
    "  \n",
    "    new_date_stamp = get_date_stamp()\n",
    "    # print('New date stamp: ' + new_date_stamp)\n",
    "  \n",
    "    new_file_name = old_file_name.replace(old_date_stamp, new_date_stamp)\n",
    "    print('New file name: ' + new_file_name)\n",
    "  \n",
    "    return new_file_name"
   ]
  },
  {
   "cell_type": "code",
   "execution_count": 17,
   "metadata": {
    "collapsed": true
   },
   "outputs": [],
   "source": [
    "def name_file(file_number, new_file_name):\n",
    "    new_file_x = 160\n",
    "    y = 70 + (file_number - 1) * 155       \n",
    "    print('(new_file_x, y) = ('+ str(new_file_x) + ', ' + str(y) +')')\n",
    "  \n",
    "    pyperclip.copy(new_file_name) # copy new file name to clipboard\n",
    "    pyautogui.moveTo(new_file_x, y)\n",
    "    pyautogui.click()\n",
    "    time.sleep(0.5)\n",
    "    pyautogui.moveRel(0, 50)\n",
    "    pyautogui.click()\n",
    "    time.sleep(0.5)\n",
    "  \n",
    "    pyautogui.rightClick()\n",
    "    time.sleep(0.5)\n",
    "    pyautogui.press('down')\n",
    "    pyautogui.press('down')\n",
    "    pyautogui.press('down')\n",
    "    pyautogui.press('down')\n",
    "    pyautogui.press('p') # paste new file name from clip board\n",
    "    time.sleep(0.5)\n",
    "    pyautogui.press('enter')"
   ]
  },
  {
   "cell_type": "code",
   "execution_count": 18,
   "metadata": {
    "collapsed": true
   },
   "outputs": [],
   "source": [
    "# Name new file\n",
    "def name_new_file(file_number):\n",
    "    old_file_name = get_old_file_name(file_number)\n",
    "    new_file_name = get_new_file_name(old_file_name)\n",
    "    name_file(file_number, new_file_name)"
   ]
  },
  {
   "cell_type": "code",
   "execution_count": 19,
   "metadata": {
    "collapsed": false,
    "scrolled": false
   },
   "outputs": [
    {
     "name": "stdout",
     "output_type": "stream",
     "text": [
      "(old_file_x, y) = (265, 70)\n",
      "Old file name: 2017-04-20 file\n",
      "def name_new_file(file_number):\n",
      "    old_file_name = get_old_file_name(file_number)\n",
      "    new_file_name = get_new_file_name(old_file_name)\n",
      "    name_file(file_number, new_file_name)\n",
      "Old date stamp: 2017-04-20\n",
      "New date stamp: 2017-04-20\n",
      "New file name: 2017-04-20 file\n",
      "def name_new_file(file_number):\n",
      "    old_file_name = get_old_file_name(file_number)\n",
      "    new_file_name = get_new_file_name(old_file_name)\n",
      "    name_file(file_number, new_file_name)\n",
      "(new_file_x, y) = (160, 70)\n"
     ]
    }
   ],
   "source": [
    "name_new_file(1)"
   ]
  },
  {
   "cell_type": "code",
   "execution_count": null,
   "metadata": {
    "collapsed": false
   },
   "outputs": [],
   "source": [
    "name_new_file(2)"
   ]
  },
  {
   "cell_type": "code",
   "execution_count": null,
   "metadata": {
    "collapsed": false
   },
   "outputs": [],
   "source": [
    "name_new_file(3)"
   ]
  },
  {
   "cell_type": "code",
   "execution_count": null,
   "metadata": {
    "collapsed": false
   },
   "outputs": [],
   "source": [
    "name_new_file(4)"
   ]
  },
  {
   "cell_type": "code",
   "execution_count": null,
   "metadata": {
    "collapsed": false
   },
   "outputs": [],
   "source": [
    "name_new_file(1)\n",
    "name_new_file(2)\n",
    "name_new_file(3)\n",
    "name_new_file(4)"
   ]
  },
  {
   "cell_type": "code",
   "execution_count": null,
   "metadata": {
    "collapsed": true
   },
   "outputs": [],
   "source": []
  }
 ],
 "metadata": {
  "anaconda-cloud": {},
  "kernelspec": {
   "display_name": "Python 3",
   "language": "python",
   "name": "python3"
  },
  "language_info": {
   "codemirror_mode": {
    "name": "ipython",
    "version": 3
   },
   "file_extension": ".py",
   "mimetype": "text/x-python",
   "name": "python",
   "nbconvert_exporter": "python",
   "pygments_lexer": "ipython3",
   "version": "3.6.0"
  }
 },
 "nbformat": 4,
 "nbformat_minor": 1
}
