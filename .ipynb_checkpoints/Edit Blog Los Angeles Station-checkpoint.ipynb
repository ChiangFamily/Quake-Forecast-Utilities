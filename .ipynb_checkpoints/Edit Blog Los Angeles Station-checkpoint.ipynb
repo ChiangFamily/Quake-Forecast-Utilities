{
 "cells": [
  {
   "cell_type": "code",
   "execution_count": null,
   "metadata": {
    "collapsed": true
   },
   "outputs": [],
   "source": [
    "import pyautogui\n",
    "import time\n",
    "import pyperclip\n",
    "pyautogui.PAUSE = 0.5\n",
    "pyautogui.FAILSAFE = True"
   ]
  },
  {
   "cell_type": "code",
   "execution_count": null,
   "metadata": {
    "collapsed": true
   },
   "outputs": [],
   "source": [
    "def get_time_stamp():\n",
    "    time_stamp = time.strftime(\"%Y-%m-%d\")\n",
    "    time_stamp += ' '\n",
    "    time_stamp += time.strftime(\"%H:%M\")\n",
    "    time_stamp += ' UTC+8'\n",
    "    return time_stamp"
   ]
  },
  {
   "cell_type": "code",
   "execution_count": null,
   "metadata": {
    "collapsed": true
   },
   "outputs": [],
   "source": [
    "quake_forecast_title = {\n",
    "    'Chinese': '地震預報：',\n",
    "    'Japanese': '地震予報：',\n",
    "    'English': 'Quake Forecast: '\n",
    "}\n",
    "\n",
    "author = {\n",
    "    'Chinese': '台灣地震預測研究所 所長\\n林湧森',\n",
    "    'Japanese': '台湾地震予測研究所 所長\\n林湧森',\n",
    "    'English': 'Dyson Lin\\nFounder & CEO, Taiwan Quake Forecast Institute'}"
   ]
  },
  {
   "cell_type": "code",
   "execution_count": null,
   "metadata": {
    "collapsed": false
   },
   "outputs": [],
   "source": [
    "Within = {\n",
    "    'Chinese': '',\n",
    "    'Japanese': '',\n",
    "    'English': 'Within '}\n",
    "\n",
    "Days = {\n",
    "    'Chinese': '日以內，',\n",
    "    'Japanese': '日以內に、',\n",
    "    'English': ' days, '}"
   ]
  },
  {
   "cell_type": "code",
   "execution_count": null,
   "metadata": {
    "collapsed": true
   },
   "outputs": [],
   "source": [
    "Red = {\n",
    "    'Chinese': '紅：',\n",
    "    'Japanese': '赤：',\n",
    "    'English': 'Red: '}\n",
    "\n",
    "Orange = {\n",
    "    'Chinese': '橙：',\n",
    "    'Japanese': 'オレンジ：',\n",
    "    'English': 'Orange: '}\n",
    "\n",
    "Yellow = {\n",
    "    'Chinese': '黃：',\n",
    "    'Japanese': '黃：',\n",
    "    'English': 'Yellow: '}\n"
   ]
  },
  {
   "cell_type": "code",
   "execution_count": null,
   "metadata": {
    "collapsed": true
   },
   "outputs": [],
   "source": [
    "station = {}\n",
    "\n",
    "station['洛杉磯站'] = {\n",
    "    'Chinese': '洛杉磯站', \n",
    "    'Japanese': 'ロサンゼルス局', \n",
    "    'English': 'Los Angeles Station '}"
   ]
  },
  {
   "cell_type": "code",
   "execution_count": null,
   "metadata": {
    "collapsed": true
   },
   "outputs": [],
   "source": [
    "station_name = station['洛杉磯站']"
   ]
  },
  {
   "cell_type": "code",
   "execution_count": null,
   "metadata": {
    "collapsed": false
   },
   "outputs": [],
   "source": [
    "quake_forecast = [\n",
    "    {'color': Red,\n",
    "    'time': 5,\n",
    "    'location': {\n",
    "        'Chinese': '洛杉磯北方(北日本、俄羅斯或阿拉斯加)，',\n",
    "        'Japanese': 'ロサンゼルスの北(北日本、ロシアまたはアラスカ)、',\n",
    "        'English': 'to the North of Los Angeles(North Japan, Russia or Alaska), '},\n",
    "    'magnitude': 'M6+'},\n",
    "    {'color': Orange,\n",
    "    'time': 10,\n",
    "    'location': {\n",
    "        'Chinese': '洛杉磯南方(南日本、台灣、南太平洋、南美洲或非洲)，',\n",
    "        'Japanese': 'ロサンゼルスの南(南日本、台湾、南太平洋、南米またはアフリカ)、',\n",
    "        'English': 'to the South of Los Angeles(South Japan, Taiwan, South Pacific, South America or Africa), '},\n",
    "    'magnitude': 'M6+ ~ M7+'}]\n",
    "\n",
    "time_stamp = get_time_stamp()\n",
    "languages = ['Chinese', 'Japanese', 'English']\n",
    "\n",
    "blog_title = {}\n",
    "for language in languages:\n",
    "    blog_title[language] = station_name[language]\n",
    "    blog_title[language] += quake_forecast_title[language]\n",
    "    quake_number = 0\n",
    "    for quake in quake_forecast:\n",
    "        quake_number += 1\n",
    "        blog_title[language] += '('\n",
    "        blog_title[language] += str(quake_number)\n",
    "        blog_title[language] += ')'\n",
    "        blog_title[language] += quake['color'][language]\n",
    "        blog_title[language] += Within[language]\n",
    "        blog_title[language] += str(quake['time'])\n",
    "        blog_title[language] += Days[language]\n",
    "        blog_title[language] += quake['location'][language]\n",
    "        blog_title[language] += quake['magnitude']\n",
    "        blog_title[language] += ' '\n",
    "blog_title_str = (time_stamp + ' ')\n",
    "blog_title_str += (blog_title['Chinese'])\n",
    "blog_title_str += (blog_title['Japanese'])\n",
    "blog_title_str += blog_title['English']\n",
    "blog_title_str = blog_title_str.strip() # remove extra white space\n",
    "print(blog_title_str)\n",
    "pyperclip.copy(blog_title_str) # copy to clipboard"
   ]
  },
  {
   "cell_type": "code",
   "execution_count": null,
   "metadata": {
    "collapsed": false
   },
   "outputs": [],
   "source": [
    "blog_text = {}\n",
    "for language in languages:\n",
    "    blog_text[language] = station_name[language]\n",
    "    blog_text[language] += quake_forecast_title[language] + '\\n'\n",
    "    quake_number = 0\n",
    "    for quake in quake_forecast:\n",
    "        quake_number += 1\n",
    "        blog_text[language] += '('\n",
    "        blog_text[language] += str(quake_number)\n",
    "        blog_text[language] += ')'\n",
    "        blog_text[language] += quake['color'][language]\n",
    "        blog_text[language] += Within[language]\n",
    "        blog_text[language] += str(quake['time'])\n",
    "        blog_text[language] += Days[language]\n",
    "        blog_text[language] += quake['location'][language]\n",
    "        blog_text[language] += quake['magnitude']\n",
    "        blog_text[language] += '\\n'\n",
    "    blog_text[language] += '\\n'    \n",
    "    blog_text[language] += author[language]\n",
    "    blog_text[language] += '\\n'\n",
    "    blog_text[language] += time_stamp\n",
    "    blog_text[language] += '\\n\\n\\n'\n",
    "\n",
    "blog_text_str = '\\n'        \n",
    "for language in languages:\n",
    "    blog_text_str += blog_text[language]\n",
    "blog_text_str = blog_text_str.strip() # remove extra white space\n",
    "print(blog_text_str)\n",
    "pyperclip.copy(blog_text_str) # copy to clipboard"
   ]
  },
  {
   "cell_type": "code",
   "execution_count": null,
   "metadata": {
    "collapsed": true
   },
   "outputs": [],
   "source": []
  }
 ],
 "metadata": {
  "anaconda-cloud": {},
  "kernelspec": {
   "display_name": "Python 3",
   "language": "python",
   "name": "python3"
  },
  "language_info": {
   "codemirror_mode": {
    "name": "ipython",
    "version": 3
   },
   "file_extension": ".py",
   "mimetype": "text/x-python",
   "name": "python",
   "nbconvert_exporter": "python",
   "pygments_lexer": "ipython3",
   "version": "3.6.0"
  }
 },
 "nbformat": 4,
 "nbformat_minor": 1
}
