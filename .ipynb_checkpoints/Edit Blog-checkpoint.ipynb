{
 "cells": [
  {
   "cell_type": "code",
   "execution_count": 1,
   "metadata": {
    "collapsed": false
   },
   "outputs": [],
   "source": [
    "import time\n",
    "from quake_forecast import name_new_files, analyze_file\n",
    "from quake_forecast import insert_files, station, get_time_stamp\n",
    "from quake_forecast import Red, Orange, Yellow, Green, Blue, Purple\n",
    "from quake_forecast import get_Quake_Signals_title, set_blog_title\n",
    "from quake_forecast import get_Quake_Signals_text, set_blog_text\n",
    "from quake_forecast import publish_blog\n",
    "from quake_forecast import publish_Quake_Forecast, view_blog\n",
    "from quake_forecast import close_Blogger_article_list, get_blog_address\n",
    "from quake_forecast import post_Quake_Forecast, post_to_Facebook"
   ]
  },
  {
   "cell_type": "code",
   "execution_count": 145,
   "metadata": {
    "collapsed": false
   },
   "outputs": [],
   "source": [
    "name_new_files(file_number=1, to_WeChat=False)"
   ]
  },
  {
   "cell_type": "code",
   "execution_count": 149,
   "metadata": {
    "collapsed": true
   },
   "outputs": [],
   "source": [
    "name_new_files(file_number=2, to_WeChat=True)"
   ]
  },
  {
   "cell_type": "code",
   "execution_count": 150,
   "metadata": {
    "collapsed": false
   },
   "outputs": [],
   "source": [
    "analyze_file(1)"
   ]
  },
  {
   "cell_type": "code",
   "execution_count": 151,
   "metadata": {
    "collapsed": true
   },
   "outputs": [],
   "source": [
    "analyze_file(2)"
   ]
  },
  {
   "cell_type": "code",
   "execution_count": 126,
   "metadata": {
    "collapsed": true
   },
   "outputs": [],
   "source": [
    "analyze_file(3)"
   ]
  },
  {
   "cell_type": "code",
   "execution_count": 127,
   "metadata": {
    "collapsed": true
   },
   "outputs": [],
   "source": [
    "analyze_file(4)"
   ]
  },
  {
   "cell_type": "code",
   "execution_count": 64,
   "metadata": {
    "collapsed": true
   },
   "outputs": [],
   "source": [
    "analyze_file(5)"
   ]
  },
  {
   "cell_type": "code",
   "execution_count": 152,
   "metadata": {
    "collapsed": false
   },
   "outputs": [
    {
     "ename": "KeyError",
     "evalue": "'嘉義站'",
     "output_type": "error",
     "traceback": [
      "\u001b[0;31m---------------------------------------------------------------------------\u001b[0m",
      "\u001b[0;31mKeyError\u001b[0m                                  Traceback (most recent call last)",
      "\u001b[0;32m<ipython-input-152-405695d8a67b>\u001b[0m in \u001b[0;36m<module>\u001b[0;34m()\u001b[0m\n\u001b[1;32m      1\u001b[0m \u001b[0minsert_files\u001b[0m\u001b[1;33m(\u001b[0m\u001b[1;36m1\u001b[0m\u001b[1;33m)\u001b[0m\u001b[1;33m\u001b[0m\u001b[0m\n\u001b[1;32m      2\u001b[0m \u001b[1;33m\u001b[0m\u001b[0m\n\u001b[0;32m----> 3\u001b[0;31m \u001b[0mstation_name\u001b[0m \u001b[1;33m=\u001b[0m \u001b[0mstation\u001b[0m\u001b[1;33m[\u001b[0m\u001b[1;34m'嘉義站'\u001b[0m\u001b[1;33m]\u001b[0m\u001b[1;33m\u001b[0m\u001b[0m\n\u001b[0m\u001b[1;32m      4\u001b[0m \u001b[0mlanguages\u001b[0m \u001b[1;33m=\u001b[0m \u001b[1;33m[\u001b[0m\u001b[1;34m'Chinese'\u001b[0m\u001b[1;33m,\u001b[0m \u001b[1;34m'Japanese'\u001b[0m\u001b[1;33m,\u001b[0m \u001b[1;34m'English'\u001b[0m\u001b[1;33m]\u001b[0m\u001b[1;33m\u001b[0m\u001b[0m\n\u001b[1;32m      5\u001b[0m quake_forecast = [\n",
      "\u001b[0;31mKeyError\u001b[0m: '嘉義站'"
     ]
    }
   ],
   "source": [
    "insert_files(1)\n",
    "\n",
    "station_name = station['嘉義站']\n",
    "languages = ['Chinese', 'Japanese', 'English']\n",
    "quake_forecast = [\n",
    "    {'color': Red,\n",
    "    'time': 12,\n",
    "    'location': {\n",
    "        'Chinese': '緬甸、南台灣、東台灣、菲律賓、南日本、印尼或智利，',\n",
    "        'Japanese': 'ミャンマー、南台湾、東台湾、フィリピン、南日本、インドネシアまたはチリ、',\n",
    "        'English': 'Myanmar, South Taiwan, East Taiwan, Philippines, South Japan, Indonesia or Chile, '},\n",
    "    'magnitude': 'M7+ ~ M8+'}]\n",
    "\n",
    "time_stamp = get_time_stamp()\n",
    "(blog_title, blog_title_str) = publish_Quake_Forecast(quake_forecast, \n",
    "                                    station_name, languages, time_stamp)\n",
    "view_blog()\n",
    "close_Blogger_article_list()\n",
    "\n",
    "blog_address = get_blog_address()\n",
    "post_Quake_Forecast(quake_forecast, station_name, time_stamp,\n",
    "            blog_address, blog_title_str)"
   ]
  },
  {
   "cell_type": "code",
   "execution_count": 106,
   "metadata": {
    "collapsed": false
   },
   "outputs": [],
   "source": [
    "blog_address = get_blog_address()\n",
    "post_Quake_Forecast(quake_forecast, station_name, time_stamp,\n",
    "            blog_address, blog_title_str)"
   ]
  },
  {
   "cell_type": "code",
   "execution_count": 78,
   "metadata": {
    "collapsed": false
   },
   "outputs": [],
   "source": [
    "post_to_Facebook(1)\n",
    "post_to_Facebook(2)\n",
    "post_to_Facebook(3)"
   ]
  },
  {
   "cell_type": "code",
   "execution_count": null,
   "metadata": {
    "collapsed": true
   },
   "outputs": [],
   "source": []
  }
 ],
 "metadata": {
  "anaconda-cloud": {},
  "kernelspec": {
   "display_name": "Python 3",
   "language": "python",
   "name": "python3"
  },
  "language_info": {
   "codemirror_mode": {
    "name": "ipython",
    "version": 3
   },
   "file_extension": ".py",
   "mimetype": "text/x-python",
   "name": "python",
   "nbconvert_exporter": "python",
   "pygments_lexer": "ipython3",
   "version": "3.6.0"
  }
 },
 "nbformat": 4,
 "nbformat_minor": 1
}
