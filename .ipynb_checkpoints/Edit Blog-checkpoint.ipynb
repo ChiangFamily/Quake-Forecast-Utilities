{
 "cells": [
  {
   "cell_type": "code",
   "execution_count": 1,
   "metadata": {
    "collapsed": false
   },
   "outputs": [],
   "source": [
    "import time\n",
    "import pyperclip"
   ]
  },
  {
   "cell_type": "code",
   "execution_count": 2,
   "metadata": {
    "collapsed": true
   },
   "outputs": [],
   "source": [
    "def get_time_stamp():\n",
    "    time_stamp = time.strftime(\"%Y-%m-%d\")\n",
    "    time_stamp += ' '\n",
    "    time_stamp += time.strftime(\"%H:%M\")\n",
    "    time_stamp += ' UTC+8'\n",
    "    return time_stamp"
   ]
  },
  {
   "cell_type": "code",
   "execution_count": 3,
   "metadata": {
    "collapsed": true
   },
   "outputs": [],
   "source": [
    "quake_forecast_title = {\n",
    "    'Chinese': '地震預報：',\n",
    "    'Japanese': '地震予報：',\n",
    "    'English': 'Quake Forecast: '\n",
    "}\n",
    "\n",
    "author = {\n",
    "    'Chinese': '台灣地震預測研究所 所長\\n林湧森',\n",
    "    'Japanese': '台湾地震予測研究所 所長\\n林湧森',\n",
    "    'English': 'Dyson Lin\\nFounder & CEO, Taiwan Quake Forecast Institute'}"
   ]
  },
  {
   "cell_type": "code",
   "execution_count": 4,
   "metadata": {
    "collapsed": false
   },
   "outputs": [],
   "source": [
    "Within = {\n",
    "    'Chinese': '',\n",
    "    'Japanese': '',\n",
    "    'English': 'Within '}\n",
    "\n",
    "Days = {\n",
    "    'Chinese': '日以內，',\n",
    "    'Japanese': '日以內に、',\n",
    "    'English': ' days, '}"
   ]
  },
  {
   "cell_type": "code",
   "execution_count": 5,
   "metadata": {
    "collapsed": true
   },
   "outputs": [],
   "source": [
    "Red = {\n",
    "    'Chinese': '紅：',\n",
    "    'Japanese': '赤：',\n",
    "    'English': 'Red: '}\n",
    "\n",
    "Orange = {\n",
    "    'Chinese': '橙：',\n",
    "    'Japanese': 'オレンジ：',\n",
    "    'English': 'Orange: '}\n",
    "\n",
    "Yellow = {\n",
    "    'Chinese': '黃：',\n",
    "    'Japanese': '黃：',\n",
    "    'English': 'Yellow: '}\n"
   ]
  },
  {
   "cell_type": "code",
   "execution_count": 40,
   "metadata": {
    "collapsed": true
   },
   "outputs": [],
   "source": [
    "station = {}\n",
    "\n",
    "station['台灣各站'] = {\n",
    "    'Chinese': '台灣各站', \n",
    "    'Japanese': '台湾各局', \n",
    "    'English': 'Taiwan Stations '}\n",
    "\n",
    "\n",
    "station['南非德本站'] = {\n",
    "    'Chinese': '南非德本站', \n",
    "    'Japanese': '南アフリカ ダーバン局', \n",
    "    'English': 'Durban, South Africa Station '}\n",
    "\n",
    "station['義大利法恩扎站'] = {\n",
    "    'Chinese': '義大利法恩扎站', \n",
    "    'Japanese': 'イタリア ファエンツァ局', \n",
    "    'English': 'Faenza, Italy Station '}\n",
    "\n",
    "station['南投草屯站'] = {\n",
    "    'Chinese': '南投草屯站', \n",
    "    'Japanese': '南投草屯局', \n",
    "    'English': 'Nantou Caotun Station '}\n",
    "\n",
    "station['台南熱心站'] = {\n",
    "    'Chinese': '台南熱心站', \n",
    "    'Japanese': '台南熱心局', \n",
    "    'English': 'Tainan Hot Heart Station '}\n",
    "\n",
    "station['台南喜福站'] = {\n",
    "    'Chinese': '台南喜福站', \n",
    "    'Japanese': '台南喜福局', \n",
    "    'English': 'Tainan Joy & Luck Station '}\n",
    "\n",
    "station['台南新生站'] = {\n",
    "    'Chinese': '台南新生站', \n",
    "    'Japanese': '台南新生局', \n",
    "    'English': 'Tainan Xinsheng Station '}\n",
    "\n",
    "station['高雄站'] = {\n",
    "    'Chinese': '高雄站', \n",
    "    'Japanese': '高雄局', \n",
    "    'English': 'Kaohsiung Station '}\n",
    "\n",
    "station['台中潭子站'] = {\n",
    "    'Chinese': '台中潭子站', \n",
    "    'Japanese': '台中潭子局', \n",
    "    'English': 'Taichung Tantzu Station '}\n",
    "\n",
    "station['桃園站'] = {\n",
    "    'Chinese': '桃園站', \n",
    "    'Japanese': '桃園局', \n",
    "    'English': 'Taoyuan Station '}\n",
    "\n",
    "station['宜蘭站'] = {\n",
    "    'Chinese': '宜蘭站', \n",
    "    'Japanese': '宜蘭局', \n",
    "    'English': 'Yilan Station '}"
   ]
  },
  {
   "cell_type": "code",
   "execution_count": 44,
   "metadata": {
    "collapsed": true
   },
   "outputs": [],
   "source": [
    "station_name = station['台南熱心站']"
   ]
  },
  {
   "cell_type": "code",
   "execution_count": 45,
   "metadata": {
    "collapsed": false
   },
   "outputs": [
    {
     "name": "stdout",
     "output_type": "stream",
     "text": [
      "2017-04-24 01:16 UTC+8 台南熱心站地震預報：(1)紅：2日以內，東台灣、南日本或菲律賓，M6+ ~ M7+ (2)橙：12日以內，東台灣、南日本或菲律賓，M6+ ~ M7+ 台南熱心局地震予報：(1)赤：2日以內に、東台湾、南日本またはフィリピン、M6+ ~ M7+ (2)オレンジ：12日以內に、東台湾、南日本またはフィリピン、M6+ ~ M7+ Tainan Hot Heart Station Quake Forecast: (1)Red: Within 2 days, East Taiwan, South Japan, or Philippines M6+ ~ M7+ (2)Orange: Within 12 days, East Taiwan, South Japan, or Philippines M6+ ~ M7+\n"
     ]
    }
   ],
   "source": [
    "quake_forecast = [\n",
    "    {'color': Red,\n",
    "    'time': 2,\n",
    "    'location': {\n",
    "        'Chinese': '東台灣、南日本或菲律賓，',\n",
    "        'Japanese': '東台湾、南日本またはフィリピン、',\n",
    "        'English': 'East Taiwan, South Japan, or Philippines '},\n",
    "    'magnitude': 'M6+ ~ M7+'},\n",
    "    {'color': Orange,\n",
    "    'time': 12,\n",
    "    'location': {\n",
    "        'Chinese': '東台灣、南日本或菲律賓，',\n",
    "        'Japanese': '東台湾、南日本またはフィリピン、',\n",
    "        'English': 'East Taiwan, South Japan, or Philippines '},\n",
    "    'magnitude': 'M6+ ~ M7+'}]\n",
    "\n",
    "time_stamp = get_time_stamp()\n",
    "languages = ['Chinese', 'Japanese', 'English']\n",
    "\n",
    "blog_title = {}\n",
    "for language in languages:\n",
    "    blog_title[language] = station_name[language]\n",
    "    blog_title[language] += quake_forecast_title[language]\n",
    "    quake_number = 0\n",
    "    for quake in quake_forecast:\n",
    "        quake_number += 1\n",
    "        blog_title[language] += '('\n",
    "        blog_title[language] += str(quake_number)\n",
    "        blog_title[language] += ')'\n",
    "        blog_title[language] += quake['color'][language]\n",
    "        blog_title[language] += Within[language]\n",
    "        blog_title[language] += str(quake['time'])\n",
    "        blog_title[language] += Days[language]\n",
    "        blog_title[language] += quake['location'][language]\n",
    "        blog_title[language] += quake['magnitude']\n",
    "        blog_title[language] += ' '\n",
    "blog_title_str = (time_stamp + ' ')\n",
    "blog_title_str += (blog_title['Chinese'])\n",
    "blog_title_str += (blog_title['Japanese'])\n",
    "blog_title_str += blog_title['English']\n",
    "blog_title_str = blog_title_str.strip() # remove extra white space\n",
    "print(blog_title_str)\n",
    "pyperclip.copy(blog_title_str) # copy to clipboard"
   ]
  },
  {
   "cell_type": "code",
   "execution_count": 46,
   "metadata": {
    "collapsed": false
   },
   "outputs": [
    {
     "name": "stdout",
     "output_type": "stream",
     "text": [
      "台南熱心站地震預報：\n",
      "(1)紅：2日以內，東台灣、南日本或菲律賓，M6+ ~ M7+\n",
      "(2)橙：12日以內，東台灣、南日本或菲律賓，M6+ ~ M7+\n",
      "\n",
      "台灣地震預測研究所 所長\n",
      "林湧森\n",
      "2017-04-24 01:16 UTC+8\n",
      "\n",
      "\n",
      "台南熱心局地震予報：\n",
      "(1)赤：2日以內に、東台湾、南日本またはフィリピン、M6+ ~ M7+\n",
      "(2)オレンジ：12日以內に、東台湾、南日本またはフィリピン、M6+ ~ M7+\n",
      "\n",
      "台湾地震予測研究所 所長\n",
      "林湧森\n",
      "2017-04-24 01:16 UTC+8\n",
      "\n",
      "\n",
      "Tainan Hot Heart Station Quake Forecast: \n",
      "(1)Red: Within 2 days, East Taiwan, South Japan, or Philippines M6+ ~ M7+\n",
      "(2)Orange: Within 12 days, East Taiwan, South Japan, or Philippines M6+ ~ M7+\n",
      "\n",
      "Dyson Lin\n",
      "Founder & CEO, Taiwan Quake Forecast Institute\n",
      "2017-04-24 01:16 UTC+8\n"
     ]
    }
   ],
   "source": [
    "blog_text = {}\n",
    "for language in languages:\n",
    "    blog_text[language] = station_name[language]\n",
    "    blog_text[language] += quake_forecast_title[language] + '\\n'\n",
    "    quake_number = 0\n",
    "    for quake in quake_forecast:\n",
    "        quake_number += 1\n",
    "        blog_text[language] += '('\n",
    "        blog_text[language] += str(quake_number)\n",
    "        blog_text[language] += ')'\n",
    "        blog_text[language] += quake['color'][language]\n",
    "        blog_text[language] += Within[language]\n",
    "        blog_text[language] += str(quake['time'])\n",
    "        blog_text[language] += Days[language]\n",
    "        blog_text[language] += quake['location'][language]\n",
    "        blog_text[language] += quake['magnitude']\n",
    "        blog_text[language] += '\\n'\n",
    "    blog_text[language] += '\\n'    \n",
    "    blog_text[language] += author[language]\n",
    "    blog_text[language] += '\\n'\n",
    "    blog_text[language] += time_stamp\n",
    "    blog_text[language] += '\\n\\n\\n'\n",
    "\n",
    "blog_text_str = '\\n'        \n",
    "for language in languages:\n",
    "    blog_text_str += blog_text[language]\n",
    "blog_text_str = blog_text_str.strip() # remove extra white space\n",
    "print(blog_text_str)\n",
    "pyperclip.copy(blog_text_str) # copy to clipboard"
   ]
  },
  {
   "cell_type": "code",
   "execution_count": null,
   "metadata": {
    "collapsed": true
   },
   "outputs": [],
   "source": []
  }
 ],
 "metadata": {
  "anaconda-cloud": {},
  "kernelspec": {
   "display_name": "Python 3",
   "language": "python",
   "name": "python3"
  },
  "language_info": {
   "codemirror_mode": {
    "name": "ipython",
    "version": 3
   },
   "file_extension": ".py",
   "mimetype": "text/x-python",
   "name": "python",
   "nbconvert_exporter": "python",
   "pygments_lexer": "ipython3",
   "version": "3.6.0"
  }
 },
 "nbformat": 4,
 "nbformat_minor": 1
}
