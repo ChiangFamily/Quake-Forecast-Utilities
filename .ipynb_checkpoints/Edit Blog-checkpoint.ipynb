{
 "cells": [
  {
   "cell_type": "code",
   "execution_count": null,
   "metadata": {
    "collapsed": false
   },
   "outputs": [],
   "source": [
    "import time\n",
    "from quake_forecast import insert_files, station, get_time_stamp\n",
    "from quake_forecast import Red, Orange, Yellow, Green, Blue, Purple\n",
    "from quake_forecast import get_Quake_Signals_title, set_blog_title\n",
    "from quake_forecast import get_Quake_Signals_text, set_blog_text\n",
    "from quake_forecast import publish_blog\n",
    "from quake_forecast import publish_Quake_Forecast, view_blog\n",
    "from quake_forecast import close_Blogger_article_list, get_blog_address\n",
    "from quake_forecast import post_Quake_Forecast, post_to_Facebook"
   ]
  },
  {
   "cell_type": "code",
   "execution_count": null,
   "metadata": {
    "collapsed": false
   },
   "outputs": [],
   "source": [
    "insert_files(4)\n",
    "\n",
    "station_name = station['台南熱心站']\n",
    "languages = ['Chinese', 'Japanese', 'English']\n",
    "quake_forecast = [\n",
    "    {'color': Red,\n",
    "    'time': 4,\n",
    "    'location': {\n",
    "        'Chinese': '智利、印尼、菲律賓、南日本或東台灣，',\n",
    "        'Japanese': 'チリ、インドネシア、フィリピン、南日本または東台湾、',\n",
    "        'English': 'Chile, Indonesia, Philippines, South Japan or East Taiwan, '},\n",
    "    'magnitude': 'M7+ ~ M8+'}]\n",
    "\n",
    "time_stamp = get_time_stamp()\n",
    "(blog_title, blog_title_str) = publish_Quake_Forecast(languages)\n",
    "view_blog()\n",
    "close_Blogger_article_list()\n",
    "\n",
    "blog_address = get_blog_address()\n",
    "post_Quake_Forecast(blog_address, blog_title_str)"
   ]
  },
  {
   "cell_type": "code",
   "execution_count": null,
   "metadata": {
    "collapsed": false
   },
   "outputs": [],
   "source": [
    "blog_address = get_blog_address()\n",
    "post_Quake_Forecast(blog_address, blog_title_str)"
   ]
  },
  {
   "cell_type": "code",
   "execution_count": null,
   "metadata": {
    "collapsed": false
   },
   "outputs": [],
   "source": [
    "post_to_Facebook(1)\n",
    "post_to_Facebook(2)\n",
    "post_to_Facebook(3)"
   ]
  },
  {
   "cell_type": "code",
   "execution_count": null,
   "metadata": {
    "collapsed": false
   },
   "outputs": [],
   "source": [
    "insert_files(2)\n",
    "\n",
    "station_name = station['桃園站']\n",
    "languages = ['Chinese', 'Japanese', 'English']\n",
    "quake_forecast = [\n",
    "    {'color': Red,\n",
    "    'time': 4,\n",
    "    'location': {\n",
    "        'Chinese': '智利、印尼、菲律賓、南日本或東台灣，',\n",
    "        'Japanese': 'チリ、インドネシア、フィリピン、南日本または東台湾、',\n",
    "        'English': 'Chile, Indonesia, Philippines, South Japan or East Taiwan, '},\n",
    "    'magnitude': 'M7+ ~ M8+'},\n",
    "    {'color': Orange,\n",
    "    'time': 7,\n",
    "    'location': {\n",
    "        'Chinese': '南日本或台灣，',\n",
    "        'Japanese': '南日本または台湾、',\n",
    "        'English': 'South Japan or Taiwan, '},\n",
    "    'magnitude': 'M6+ ~ M7+'}]\n",
    "\n",
    "time_stamp = get_time_stamp()\n",
    "(blog_title, blog_title_str) = publish_Quake_Forecast(languages)\n",
    "view_blog()\n",
    "close_Blogger_article_list()\n",
    "\n",
    "blog_address = get_blog_address()\n",
    "post_Quake_Forecast(blog_address, blog_title_str)"
   ]
  },
  {
   "cell_type": "code",
   "execution_count": null,
   "metadata": {
    "collapsed": false
   },
   "outputs": [],
   "source": [
    "insert_files(2)\n",
    "\n",
    "station_name = station['上海站']\n",
    "languages = ['Chinese', 'Japanese', 'English']\n",
    "quake_forecast = [\n",
    "    {'color': Red,\n",
    "    'time': 7,\n",
    "    'location': {\n",
    "        'Chinese': '南日本或台灣，',\n",
    "        'Japanese': '南日本または台湾、',\n",
    "        'English': 'South Japan or Taiwan, '},\n",
    "    'magnitude': 'M6.2'}]\n",
    "\n",
    "time_stamp = get_time_stamp()\n",
    "(blog_title, blog_title_str) = publish_Quake_Forecast(languages)\n",
    "view_blog()\n",
    "close_Blogger_article_list()\n",
    "\n",
    "blog_address = get_blog_address()\n",
    "post_Quake_Forecast(blog_address, blog_title_str)"
   ]
  },
  {
   "cell_type": "code",
   "execution_count": null,
   "metadata": {
    "collapsed": false
   },
   "outputs": [],
   "source": [
    "insert_files(1)\n",
    "\n",
    "station_name = station['日本輻射值']\n",
    "languages = ['Chinese', 'Japanese', 'English']\n",
    "signals = [\n",
    "    {'color': Red,\n",
    "    'time': '2017-06-03 01:26 UTC+8',\n",
    "    'location': {\n",
    "        'Chinese': '日本沖繩',\n",
    "        'Japanese': '日本沖縄',\n",
    "        'English': 'Hirara, Japan'},\n",
    "    'magnitude': 'M5.1'}]\n",
    "\n",
    "time_stamp = get_time_stamp()\n",
    "(blog_title, blog_title_str) = get_Quake_Signals_title(languages, signals)\n",
    "set_blog_title()\n",
    "get_Quake_Signals_text(languages, signals)\n",
    "set_blog_text()\n",
    "publish_blog()\n",
    "time.sleep(1)"
   ]
  }
 ],
 "metadata": {
  "anaconda-cloud": {},
  "kernelspec": {
   "display_name": "Python 3",
   "language": "python",
   "name": "python3"
  },
  "language_info": {
   "codemirror_mode": {
    "name": "ipython",
    "version": 3
   },
   "file_extension": ".py",
   "mimetype": "text/x-python",
   "name": "python",
   "nbconvert_exporter": "python",
   "pygments_lexer": "ipython3",
   "version": "3.6.0"
  }
 },
 "nbformat": 4,
 "nbformat_minor": 1
}
