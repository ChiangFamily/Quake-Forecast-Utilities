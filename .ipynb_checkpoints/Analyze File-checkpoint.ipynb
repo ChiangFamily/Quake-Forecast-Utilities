{
 "cells": [
  {
   "cell_type": "code",
   "execution_count": null,
   "metadata": {
    "collapsed": false
   },
   "outputs": [],
   "source": [
    "import locate\n",
    "import pyautogui\n",
    "import time\n",
    "import pyperclip\n",
    "pyautogui.PAUSE = 0.1\n",
    "pyautogui.FAILSAFE = True"
   ]
  },
  {
   "cell_type": "code",
   "execution_count": null,
   "metadata": {
    "collapsed": false
   },
   "outputs": [],
   "source": [
    "# Duplicate file\n",
    "def duplicate_file():\n",
    "    pyautogui.rightClick()\n",
    "    time.sleep(1)\n",
    "    for i in range(0, 5):\n",
    "        pyautogui.press('up')\n",
    "    pyautogui.press('c')\n",
    "    \n",
    "    pyautogui.moveRel(100, 0)\n",
    "    pyautogui.rightClick()\n",
    "    for i in range(0, 4):\n",
    "        pyautogui.press('down')\n",
    "    pyautogui.press('p')\n",
    "    time.sleep(1)"
   ]
  },
  {
   "cell_type": "code",
   "execution_count": null,
   "metadata": {
    "collapsed": true
   },
   "outputs": [],
   "source": [
    "# Ramane file_name to file_name - Analysis\n",
    "def rename_file():\n",
    "    pyautogui.click()\n",
    "    time.sleep(1)\n",
    "    pyautogui.moveRel(0, 34)\n",
    "    pyautogui.click()\n",
    "    time.sleep(1)\n",
    "    pyautogui.press('end')\n",
    "    for i in range(0, 4):\n",
    "        pyautogui.press('left')\n",
    "    for i in range(0, 2):\n",
    "        pyautogui.press('backspace')\n",
    "    pyautogui.typewrite('Analysis')\n",
    "    pyautogui.press('enter')"
   ]
  },
  {
   "cell_type": "code",
   "execution_count": null,
   "metadata": {
    "collapsed": false
   },
   "outputs": [],
   "source": [
    "# Open file with Painter\n",
    "def open_file():\n",
    "    pyautogui.doubleClick()\n",
    "    time.sleep(2)\n",
    "    pyautogui.moveTo(445, 65)\n",
    "    pyautogui.click() # select Rectangle\n",
    "    time.sleep(1)\n",
    "    pyautogui.moveTo(814, 63)\n",
    "    pyautogui.click() # select Red"
   ]
  },
  {
   "cell_type": "code",
   "execution_count": null,
   "metadata": {
    "collapsed": true
   },
   "outputs": [],
   "source": [
    "# Duplicate file, ramane it and open it with Painter\n",
    "def analyze_file(file_number):\n",
    "    (x, y) = locate.get_file_location(file_number, 'original')\n",
    "    pyautogui.moveTo(x, y)\n",
    "    duplicate_file()\n",
    "    rename_file()\n",
    "    open_file()"
   ]
  },
  {
   "cell_type": "code",
   "execution_count": null,
   "metadata": {
    "collapsed": false
   },
   "outputs": [],
   "source": [
    "analyze_file(1)"
   ]
  },
  {
   "cell_type": "code",
   "execution_count": null,
   "metadata": {
    "collapsed": false
   },
   "outputs": [],
   "source": [
    "analyze_file(2)"
   ]
  },
  {
   "cell_type": "code",
   "execution_count": null,
   "metadata": {
    "collapsed": false
   },
   "outputs": [],
   "source": [
    "analyze_file(3)"
   ]
  },
  {
   "cell_type": "code",
   "execution_count": null,
   "metadata": {
    "collapsed": false
   },
   "outputs": [],
   "source": [
    "analyze_file(4)"
   ]
  },
  {
   "cell_type": "code",
   "execution_count": null,
   "metadata": {
    "collapsed": true
   },
   "outputs": [],
   "source": []
  }
 ],
 "metadata": {
  "anaconda-cloud": {},
  "kernelspec": {
   "display_name": "Python 3",
   "language": "python",
   "name": "python3"
  },
  "language_info": {
   "codemirror_mode": {
    "name": "ipython",
    "version": 3
   },
   "file_extension": ".py",
   "mimetype": "text/x-python",
   "name": "python",
   "nbconvert_exporter": "python",
   "pygments_lexer": "ipython3",
   "version": "3.6.0"
  }
 },
 "nbformat": 4,
 "nbformat_minor": 1
}
