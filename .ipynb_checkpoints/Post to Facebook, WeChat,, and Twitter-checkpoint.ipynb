{
 "cells": [
  {
   "cell_type": "code",
   "execution_count": 20,
   "metadata": {
    "collapsed": true
   },
   "outputs": [],
   "source": [
    "import pyautogui\n",
    "import time\n",
    "import pyperclip\n",
    "pyautogui.PAUSE = 0.5\n",
    "pyautogui.FAILSAFE = True"
   ]
  },
  {
   "cell_type": "code",
   "execution_count": 21,
   "metadata": {
    "collapsed": true
   },
   "outputs": [],
   "source": [
    "def locate_and_click(png_file_name):\n",
    "    x, y = pyautogui.locateCenterOnScreen(png_file_name) # locate\n",
    "    #print(png_file_name + ': (' + str(x) + ', ' + str(y) + ')')\n",
    "    pyautogui.click(x, y) # click"
   ]
  },
  {
   "cell_type": "code",
   "execution_count": 22,
   "metadata": {
    "collapsed": true
   },
   "outputs": [],
   "source": [
    "def click_Blogger_tab():\n",
    "    locate_and_click('BloggerTab.png')"
   ]
  },
  {
   "cell_type": "code",
   "execution_count": 51,
   "metadata": {
    "collapsed": false
   },
   "outputs": [
    {
     "name": "stdout",
     "output_type": "stream",
     "text": [
      "BloggerTab.png: (1416, 30)\n",
      "Blog address: http://quakeforecast.blogspot.tw/2017/04/2017-04-24-1351-utc8-12m6-m7-212m6-m7.html\n",
      "Blog title: 2017-04-24 13:51 UTC+8 義大利法恩扎站地震預報：(1)紅：2日以內，東台灣、南日本或菲律賓，M6+ ~ M7+ (2)橙：12日以內，東台灣、南日本或菲律賓，M6+ ~ M7+ イタリア ファエンツァ局地震予報：(1)赤：2日以內に、東台湾、南日本またはフィリピン、M6+ ~ M7+ (2)オレンジ：12日以內に、東台湾、南日本またはフィリピン、M6+ ~ M7+ Faenza, Italy Station Quake Forecast: (1)Red: Within 2 days, East Taiwan, South Japan, or Philippines M6+ ~ M7+ (2)Orange: Within 12 days, East Taiwan, South Japan, or Philippines M6+ ~ M7+ \n"
     ]
    }
   ],
   "source": [
    "click_Blogger_tab()\n",
    "\n",
    "# get blog address\n",
    "pyautogui.moveRel(-500, 30)\n",
    "pyautogui.tripleClick()\n",
    "pyautogui.rightClick()\n",
    "time.sleep(0.5)\n",
    "pyautogui.press('down')\n",
    "pyautogui.press('down')\n",
    "pyautogui.press('c') # copy blog address to clipboard\n",
    "blog_address = pyperclip.paste() # read blog address from clipboard\n",
    "print('Blog address: ' + blog_address)\n",
    "\n",
    "# get blog title\n",
    "time.sleep(1)\n",
    "pyautogui.moveRel(0, 505)\n",
    "pyautogui.tripleClick()\n",
    "pyautogui.rightClick()\n",
    "time.sleep(0.5)\n",
    "pyautogui.press('down')\n",
    "pyautogui.press('c') # copy blog title to clipboard\n",
    "blog_title = pyperclip.paste() # read blog title from clipboard\n",
    "print('Blog title: ' + blog_title)"
   ]
  },
  {
   "cell_type": "code",
   "execution_count": 48,
   "metadata": {
    "collapsed": false
   },
   "outputs": [],
   "source": [
    "def get_Analysis_file_name(file_number):\n",
    "    x = 265\n",
    "    y = 70 + (file_number - 1) * 155\n",
    "    print('(x, y) = ('+ str(x) + ', ' + str(y) +')')\n",
    "    \n",
    "    pyautogui.moveTo(x, y)\n",
    "    pyautogui.click()\n",
    "    time.sleep(0.5)\n",
    "    pyautogui.moveRel(0, 50)\n",
    "    time.sleep(0.5)\n",
    "    pyautogui.click()\n",
    "    time.sleep(0.5)\n",
    "    pyautogui.rightClick()\n",
    "    time.sleep(0.5)\n",
    "    pyautogui.press('down')\n",
    "    pyautogui.press('down')\n",
    "    pyautogui.press('down')\n",
    "    pyautogui.press('c') # copy file name to clip board\n",
    "    file_name = pyperclip.paste() # read file name from clipboard\n",
    "    print('Analysis file name: ' + file_name)\n",
    "    return file_name"
   ]
  },
  {
   "cell_type": "code",
   "execution_count": null,
   "metadata": {
    "collapsed": false
   },
   "outputs": [],
   "source": [
    "def insert_Analysis_file(file_number):\n",
    "    locate_and_click('BloggerTab.png')  \n",
    "    if (file_number is 1):\n",
    "        locate_and_click('EditArea.png')\n",
    "    locate_and_click('ImageButton.png')\n",
    "    locate_and_click('SelectFileButton.png')\n",
    "    file_name = get_Analysis_file_name(file_number)\n",
    "    locate_and_click('FileNameField.png')\n",
    "    \n",
    "    pyautogui.rightClick()\n",
    "    pyautogui.press('down')\n",
    "    pyautogui.press('down')\n",
    "    pyautogui.press('down')\n",
    "    pyautogui.press('down')\n",
    "    pyautogui.press('p')\n",
    "    \n",
    "    pyautogui.press('up')\n",
    "    pyautogui.press('enter')\n",
    "    \n",
    "    time.sleep(1)\n",
    "    \n",
    "    if (file_number is 1):\n",
    "        x = 700\n",
    "        y = 550\n",
    "    elif (file_number is 2):\n",
    "        x = 700 + 200\n",
    "        y = 550\n",
    "    elif (file_number is 3):\n",
    "        x = 700 + 200 + 200\n",
    "        y = 550\n",
    "    \n",
    "    pyautogui.moveTo(x, y)\n",
    "    time.sleep(1)\n",
    "    pyautogui.click()"
   ]
  },
  {
   "cell_type": "code",
   "execution_count": null,
   "metadata": {
    "collapsed": false
   },
   "outputs": [],
   "source": [
    "insert_Analysis_file(1)"
   ]
  },
  {
   "cell_type": "code",
   "execution_count": null,
   "metadata": {
    "collapsed": false
   },
   "outputs": [],
   "source": [
    "insert_Analysis_file(2)"
   ]
  },
  {
   "cell_type": "code",
   "execution_count": null,
   "metadata": {
    "collapsed": false
   },
   "outputs": [],
   "source": [
    "insert_Analysis_file(3)"
   ]
  },
  {
   "cell_type": "code",
   "execution_count": null,
   "metadata": {
    "collapsed": true
   },
   "outputs": [],
   "source": []
  }
 ],
 "metadata": {
  "kernelspec": {
   "display_name": "Python 3",
   "language": "python",
   "name": "python3"
  },
  "language_info": {
   "codemirror_mode": {
    "name": "ipython",
    "version": 3
   },
   "file_extension": ".py",
   "mimetype": "text/x-python",
   "name": "python",
   "nbconvert_exporter": "python",
   "pygments_lexer": "ipython3",
   "version": "3.6.0"
  }
 },
 "nbformat": 4,
 "nbformat_minor": 2
}
