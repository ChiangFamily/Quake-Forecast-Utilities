{
 "cells": [
  {
   "cell_type": "code",
   "execution_count": 31,
   "metadata": {
    "collapsed": true
   },
   "outputs": [],
   "source": [
    "import pyautogui\n",
    "import time\n",
    "import pyperclip\n",
    "pyautogui.PAUSE = 0.5\n",
    "pyautogui.FAILSAFE = True"
   ]
  },
  {
   "cell_type": "code",
   "execution_count": 32,
   "metadata": {
    "collapsed": true
   },
   "outputs": [],
   "source": [
    "def locate_and_click(png_file_name):\n",
    "    x, y = pyautogui.locateCenterOnScreen(png_file_name) # locate\n",
    "    print(png_file_name + ': (' + str(x) + ', ' + str(y) + ')')\n",
    "    pyautogui.click(x, y) # click"
   ]
  },
  {
   "cell_type": "code",
   "execution_count": 33,
   "metadata": {
    "collapsed": false
   },
   "outputs": [],
   "source": [
    "def get_Analysis_file_name(file_number):\n",
    "    x = 265\n",
    "    y = 70 + (file_number - 1) * 155\n",
    "    print('(x, y) = ('+ str(x) + ', ' + str(y) +')')\n",
    "    \n",
    "    pyautogui.moveTo(x, y)\n",
    "    pyautogui.click()\n",
    "    time.sleep(0.5)\n",
    "    pyautogui.moveRel(0, 50)\n",
    "    time.sleep(0.5)\n",
    "    pyautogui.click()\n",
    "    time.sleep(0.5)\n",
    "    pyautogui.rightClick()\n",
    "    time.sleep(0.5)\n",
    "    pyautogui.press('down')\n",
    "    pyautogui.press('down')\n",
    "    pyautogui.press('down')\n",
    "    pyautogui.press('c') # copy file name to clip board\n",
    "    file_name = pyperclip.paste() # read file name from clipboard\n",
    "    print('Analysis file name: ' + file_name)\n",
    "    return file_name"
   ]
  },
  {
   "cell_type": "code",
   "execution_count": 34,
   "metadata": {
    "collapsed": true
   },
   "outputs": [],
   "source": [
    "def click_Blogger_tab():\n",
    "    locate_and_click('BloggerTab.png')"
   ]
  },
  {
   "cell_type": "code",
   "execution_count": 53,
   "metadata": {
    "collapsed": false
   },
   "outputs": [
    {
     "name": "stdout",
     "output_type": "stream",
     "text": [
      "BloggerTab.png: (1134, 30)\n",
      "(x, y) = (265, 70)\n",
      "Analysis file name: 2017-04-24 台中大里站 Taichung Dali Station 空氣2號 Air 2 (Arduino Uno + TL081) - Analysis\n"
     ]
    }
   ],
   "source": [
    "file_number = 1\n",
    "\n",
    "click_Blogger_tab()\n",
    "\n",
    "# click Edit area\n",
    "pyautogui.moveTo(450, 950)\n",
    "time.sleep(0.5)\n",
    "pyautogui.click()\n",
    "\n",
    "# click Image button\n",
    "pyautogui.moveTo(1065, 325)\n",
    "time.sleep(0.5)\n",
    "pyautogui.click()\n",
    "\n",
    "# click Select File button\n",
    "pyautogui.moveTo(561, 365)\n",
    "time.sleep(0.5)\n",
    "pyautogui.click()\n",
    "\n",
    "file_name = get_Analysis_file_name(file_number)\n",
    "\n",
    "# click File Name field\n",
    "pyautogui.moveTo(553, 648)\n",
    "time.sleep(0.5)\n",
    "pyautogui.click()\n",
    "\n",
    "# paste file name from clipboard\n",
    "pyautogui.rightClick()\n",
    "pyautogui.press('down')\n",
    "pyautogui.press('down')\n",
    "pyautogui.press('down')\n",
    "pyautogui.press('down')\n",
    "pyautogui.press('p')\n",
    "time.sleep(1)\n",
    "\n",
    "# select the correct file\n",
    "pyautogui.press('up')\n",
    "pyautogui.press('enter')\n",
    "time.sleep(1)\n",
    "\n",
    "if (file_number is 1):\n",
    "    x = 576\n",
    "    y = 561\n",
    "\n",
    "# select the image\n",
    "pyautogui.click(x, y)\n",
    "time.sleep(1)\n",
    "\n",
    "# click Select Image button\n",
    "pyautogui.moveTo(570, 907)\n",
    "time.sleep(1)\n",
    "pyautogui.click()\n",
    "\n",
    "# click image in Edit area\n",
    "pyautogui.moveTo(929, 518)\n",
    "time.sleep(1)\n",
    "pyautogui.click()"
   ]
  },
  {
   "cell_type": "code",
   "execution_count": 51,
   "metadata": {
    "collapsed": false
   },
   "outputs": [],
   "source": [
    "def insert_Analysis_file(file_number):\n",
    "    click_Blogger_tab() \n",
    "    \n",
    "    # click Edit area\n",
    "    pyautogui.moveTo(450, 950)\n",
    "    time.sleep(0.5)\n",
    "    pyautogui.click()\n",
    "        \n",
    "    # click Image button\n",
    "    pyautogui.moveTo(1065, 325)\n",
    "    time.sleep(0.5)\n",
    "    pyautogui.click()\n",
    "    \n",
    "    # click Select File button\n",
    "    pyautogui.moveTo(561, 365)\n",
    "    time.sleep(0.5)\n",
    "    pyautogui.click()\n",
    "    \n",
    "    file_name = get_Analysis_file_name(file_number)\n",
    "    \n",
    "    # click File Name field\n",
    "    pyautogui.moveTo(553, 648)\n",
    "    time.sleep(0.5)\n",
    "    pyautogui.click()\n",
    "    \n",
    "    # paste file name from clipboard\n",
    "    pyautogui.rightClick()\n",
    "    pyautogui.press('down')\n",
    "    pyautogui.press('down')\n",
    "    pyautogui.press('down')\n",
    "    pyautogui.press('down')\n",
    "    pyautogui.press('p')\n",
    "    time.sleep(1)\n",
    "    \n",
    "    # select the correct file\n",
    "    pyautogui.press('up')\n",
    "    pyautogui.press('enter')\n",
    "    time.sleep(1)\n",
    "    \n",
    "    if (file_number is 1):\n",
    "        x = 576\n",
    "        y = 561\n",
    "    elif (file_number is 2):\n",
    "        x = 700 + 200\n",
    "        y = 550\n",
    "    elif (file_number is 3):\n",
    "        x = 700 + 200 + 200\n",
    "        y = 550\n",
    "    \n",
    "    pyautogui.moveTo(x, y)\n",
    "    time.sleep(1)\n",
    "    pyautogui.click()"
   ]
  },
  {
   "cell_type": "code",
   "execution_count": 28,
   "metadata": {
    "collapsed": false
   },
   "outputs": [
    {
     "name": "stdout",
     "output_type": "stream",
     "text": [
      "BloggerTab.png: (1432, 30)\n",
      "EditArea.png: (560, 948)\n",
      "ImageButton.png: (1066, 325)\n"
     ]
    },
    {
     "ename": "TypeError",
     "evalue": "'NoneType' object is not iterable",
     "output_type": "error",
     "traceback": [
      "\u001b[0;31m---------------------------------------------------------------------------\u001b[0m",
      "\u001b[0;31mTypeError\u001b[0m                                 Traceback (most recent call last)",
      "\u001b[0;32m<ipython-input-28-7f09a294b6d7>\u001b[0m in \u001b[0;36m<module>\u001b[0;34m()\u001b[0m\n\u001b[0;32m----> 1\u001b[0;31m \u001b[0minsert_Analysis_file\u001b[0m\u001b[1;33m(\u001b[0m\u001b[1;36m1\u001b[0m\u001b[1;33m)\u001b[0m\u001b[1;33m\u001b[0m\u001b[0m\n\u001b[0m",
      "\u001b[0;32m<ipython-input-12-43af575ca02d>\u001b[0m in \u001b[0;36minsert_Analysis_file\u001b[0;34m(file_number)\u001b[0m\n\u001b[1;32m      4\u001b[0m         \u001b[0mlocate_and_click\u001b[0m\u001b[1;33m(\u001b[0m\u001b[1;34m'EditArea.png'\u001b[0m\u001b[1;33m)\u001b[0m\u001b[1;33m\u001b[0m\u001b[0m\n\u001b[1;32m      5\u001b[0m     \u001b[0mlocate_and_click\u001b[0m\u001b[1;33m(\u001b[0m\u001b[1;34m'ImageButton.png'\u001b[0m\u001b[1;33m)\u001b[0m\u001b[1;33m\u001b[0m\u001b[0m\n\u001b[0;32m----> 6\u001b[0;31m     \u001b[0mlocate_and_click\u001b[0m\u001b[1;33m(\u001b[0m\u001b[1;34m'SelectFileButton.png'\u001b[0m\u001b[1;33m)\u001b[0m\u001b[1;33m\u001b[0m\u001b[0m\n\u001b[0m\u001b[1;32m      7\u001b[0m     \u001b[0mfile_name\u001b[0m \u001b[1;33m=\u001b[0m \u001b[0mget_Analysis_file_name\u001b[0m\u001b[1;33m(\u001b[0m\u001b[0mfile_number\u001b[0m\u001b[1;33m)\u001b[0m\u001b[1;33m\u001b[0m\u001b[0m\n\u001b[1;32m      8\u001b[0m     \u001b[0mlocate_and_click\u001b[0m\u001b[1;33m(\u001b[0m\u001b[1;34m'FileNameField.png'\u001b[0m\u001b[1;33m)\u001b[0m\u001b[1;33m\u001b[0m\u001b[0m\n",
      "\u001b[0;32m<ipython-input-8-3abe36ec094c>\u001b[0m in \u001b[0;36mlocate_and_click\u001b[0;34m(png_file_name)\u001b[0m\n\u001b[1;32m      1\u001b[0m \u001b[1;32mdef\u001b[0m \u001b[0mlocate_and_click\u001b[0m\u001b[1;33m(\u001b[0m\u001b[0mpng_file_name\u001b[0m\u001b[1;33m)\u001b[0m\u001b[1;33m:\u001b[0m\u001b[1;33m\u001b[0m\u001b[0m\n\u001b[0;32m----> 2\u001b[0;31m     \u001b[0mx\u001b[0m\u001b[1;33m,\u001b[0m \u001b[0my\u001b[0m \u001b[1;33m=\u001b[0m \u001b[0mpyautogui\u001b[0m\u001b[1;33m.\u001b[0m\u001b[0mlocateCenterOnScreen\u001b[0m\u001b[1;33m(\u001b[0m\u001b[0mpng_file_name\u001b[0m\u001b[1;33m)\u001b[0m \u001b[1;31m# locate\u001b[0m\u001b[1;33m\u001b[0m\u001b[0m\n\u001b[0m\u001b[1;32m      3\u001b[0m     \u001b[0mprint\u001b[0m\u001b[1;33m(\u001b[0m\u001b[0mpng_file_name\u001b[0m \u001b[1;33m+\u001b[0m \u001b[1;34m': ('\u001b[0m \u001b[1;33m+\u001b[0m \u001b[0mstr\u001b[0m\u001b[1;33m(\u001b[0m\u001b[0mx\u001b[0m\u001b[1;33m)\u001b[0m \u001b[1;33m+\u001b[0m \u001b[1;34m', '\u001b[0m \u001b[1;33m+\u001b[0m \u001b[0mstr\u001b[0m\u001b[1;33m(\u001b[0m\u001b[0my\u001b[0m\u001b[1;33m)\u001b[0m \u001b[1;33m+\u001b[0m \u001b[1;34m')'\u001b[0m\u001b[1;33m)\u001b[0m\u001b[1;33m\u001b[0m\u001b[0m\n\u001b[1;32m      4\u001b[0m     \u001b[0mpyautogui\u001b[0m\u001b[1;33m.\u001b[0m\u001b[0mclick\u001b[0m\u001b[1;33m(\u001b[0m\u001b[0mx\u001b[0m\u001b[1;33m,\u001b[0m \u001b[0my\u001b[0m\u001b[1;33m)\u001b[0m \u001b[1;31m# click\u001b[0m\u001b[1;33m\u001b[0m\u001b[0m\n",
      "\u001b[0;31mTypeError\u001b[0m: 'NoneType' object is not iterable"
     ]
    }
   ],
   "source": [
    "insert_Analysis_file(1)"
   ]
  },
  {
   "cell_type": "code",
   "execution_count": 91,
   "metadata": {
    "collapsed": false
   },
   "outputs": [
    {
     "name": "stdout",
     "output_type": "stream",
     "text": [
      "(x, y) = (265, 225)\n",
      "Analysis file name: 2017-04-23 宜蘭站 Yilan Station  空氣2號 Air 2 (Arduino Uno + AD820) - Analysis\n"
     ]
    }
   ],
   "source": [
    "insert_Analysis_file(2)"
   ]
  },
  {
   "cell_type": "code",
   "execution_count": 114,
   "metadata": {
    "collapsed": false
   },
   "outputs": [
    {
     "ename": "TypeError",
     "evalue": "'NoneType' object is not iterable",
     "output_type": "error",
     "traceback": [
      "\u001b[0;31m---------------------------------------------------------------------------\u001b[0m",
      "\u001b[0;31mTypeError\u001b[0m                                 Traceback (most recent call last)",
      "\u001b[0;32m<ipython-input-114-c85b0808bf8a>\u001b[0m in \u001b[0;36m<module>\u001b[0;34m()\u001b[0m\n\u001b[0;32m----> 1\u001b[0;31m \u001b[0minsert_Analysis_file\u001b[0m\u001b[1;33m(\u001b[0m\u001b[1;36m3\u001b[0m\u001b[1;33m)\u001b[0m\u001b[1;33m\u001b[0m\u001b[0m\n\u001b[0m",
      "\u001b[0;32m<ipython-input-113-541b417972ac>\u001b[0m in \u001b[0;36minsert_Analysis_file\u001b[0;34m(file_number)\u001b[0m\n\u001b[1;32m      3\u001b[0m     \u001b[0mtime\u001b[0m\u001b[1;33m.\u001b[0m\u001b[0msleep\u001b[0m\u001b[1;33m(\u001b[0m\u001b[1;36m0.5\u001b[0m\u001b[1;33m)\u001b[0m\u001b[1;33m\u001b[0m\u001b[0m\n\u001b[1;32m      4\u001b[0m \u001b[1;33m\u001b[0m\u001b[0m\n\u001b[0;32m----> 5\u001b[0;31m     \u001b[0mlocate_and_click\u001b[0m\u001b[1;33m(\u001b[0m\u001b[1;34m'EditArea.png'\u001b[0m\u001b[1;33m)\u001b[0m\u001b[1;33m\u001b[0m\u001b[0m\n\u001b[0m\u001b[1;32m      6\u001b[0m     \u001b[0mtime\u001b[0m\u001b[1;33m.\u001b[0m\u001b[0msleep\u001b[0m\u001b[1;33m(\u001b[0m\u001b[1;36m0.5\u001b[0m\u001b[1;33m)\u001b[0m\u001b[1;33m\u001b[0m\u001b[0m\n\u001b[1;32m      7\u001b[0m \u001b[1;33m\u001b[0m\u001b[0m\n",
      "\u001b[0;32m<ipython-input-111-3abe36ec094c>\u001b[0m in \u001b[0;36mlocate_and_click\u001b[0;34m(png_file_name)\u001b[0m\n\u001b[1;32m      1\u001b[0m \u001b[1;32mdef\u001b[0m \u001b[0mlocate_and_click\u001b[0m\u001b[1;33m(\u001b[0m\u001b[0mpng_file_name\u001b[0m\u001b[1;33m)\u001b[0m\u001b[1;33m:\u001b[0m\u001b[1;33m\u001b[0m\u001b[0m\n\u001b[0;32m----> 2\u001b[0;31m     \u001b[0mx\u001b[0m\u001b[1;33m,\u001b[0m \u001b[0my\u001b[0m \u001b[1;33m=\u001b[0m \u001b[0mpyautogui\u001b[0m\u001b[1;33m.\u001b[0m\u001b[0mlocateCenterOnScreen\u001b[0m\u001b[1;33m(\u001b[0m\u001b[0mpng_file_name\u001b[0m\u001b[1;33m)\u001b[0m \u001b[1;31m# locate\u001b[0m\u001b[1;33m\u001b[0m\u001b[0m\n\u001b[0m\u001b[1;32m      3\u001b[0m     \u001b[0mprint\u001b[0m\u001b[1;33m(\u001b[0m\u001b[0mpng_file_name\u001b[0m \u001b[1;33m+\u001b[0m \u001b[1;34m': ('\u001b[0m \u001b[1;33m+\u001b[0m \u001b[0mstr\u001b[0m\u001b[1;33m(\u001b[0m\u001b[0mx\u001b[0m\u001b[1;33m)\u001b[0m \u001b[1;33m+\u001b[0m \u001b[1;34m', '\u001b[0m \u001b[1;33m+\u001b[0m \u001b[0mstr\u001b[0m\u001b[1;33m(\u001b[0m\u001b[0my\u001b[0m\u001b[1;33m)\u001b[0m \u001b[1;33m+\u001b[0m \u001b[1;34m')'\u001b[0m\u001b[1;33m)\u001b[0m\u001b[1;33m\u001b[0m\u001b[0m\n\u001b[1;32m      4\u001b[0m     \u001b[0mpyautogui\u001b[0m\u001b[1;33m.\u001b[0m\u001b[0mclick\u001b[0m\u001b[1;33m(\u001b[0m\u001b[0mx\u001b[0m\u001b[1;33m,\u001b[0m \u001b[0my\u001b[0m\u001b[1;33m)\u001b[0m \u001b[1;31m# click\u001b[0m\u001b[1;33m\u001b[0m\u001b[0m\n",
      "\u001b[0;31mTypeError\u001b[0m: 'NoneType' object is not iterable"
     ]
    }
   ],
   "source": [
    "insert_Analysis_file(3)"
   ]
  },
  {
   "cell_type": "code",
   "execution_count": null,
   "metadata": {
    "collapsed": true
   },
   "outputs": [],
   "source": []
  }
 ],
 "metadata": {
  "kernelspec": {
   "display_name": "Python 3",
   "language": "python",
   "name": "python3"
  },
  "language_info": {
   "codemirror_mode": {
    "name": "ipython",
    "version": 3
   },
   "file_extension": ".py",
   "mimetype": "text/x-python",
   "name": "python",
   "nbconvert_exporter": "python",
   "pygments_lexer": "ipython3",
   "version": "3.6.0"
  }
 },
 "nbformat": 4,
 "nbformat_minor": 2
}
