{
 "cells": [
  {
   "cell_type": "code",
   "execution_count": 66,
   "metadata": {
    "collapsed": false
   },
   "outputs": [],
   "source": [
    "import pyautogui\n",
    "import time\n",
    "import pyperclip\n",
    "pyautogui.PAUSE = 0.5\n",
    "pyautogui.FAILSAFE = True"
   ]
  },
  {
   "cell_type": "code",
   "execution_count": 77,
   "metadata": {
    "collapsed": false
   },
   "outputs": [],
   "source": [
    "# Duplicate file\n",
    "def duplicate_file():\n",
    "    pyautogui.rightClick()\n",
    "    time.sleep(1)\n",
    "    for i in range(0, 5):\n",
    "        pyautogui.press('up')\n",
    "    pyautogui.press('c')\n",
    "    \n",
    "    pyautogui.moveRel(100, 0)\n",
    "    pyautogui.rightClick()\n",
    "    for i in range(0, 4):\n",
    "        pyautogui.press('down')\n",
    "    pyautogui.press('p')\n",
    "    time.sleep(1)"
   ]
  },
  {
   "cell_type": "code",
   "execution_count": 68,
   "metadata": {
    "collapsed": true
   },
   "outputs": [],
   "source": [
    "# Ramane file to file name - Analysis\n",
    "def rename_file():\n",
    "    pyautogui.click()\n",
    "    time.sleep(1)\n",
    "    #pyautogui.moveRel(0, 60)\n",
    "    pyautogui.moveRel(0, 42)\n",
    "    pyautogui.click()\n",
    "    time.sleep(1)\n",
    "    pyautogui.press('end')\n",
    "    for i in range(0, 4):\n",
    "        pyautogui.press('left')\n",
    "    for i in range(0, 2):\n",
    "        pyautogui.press('backspace')\n",
    "    pyautogui.typewrite('Analysis')\n",
    "    pyautogui.press('enter')"
   ]
  },
  {
   "cell_type": "code",
   "execution_count": 69,
   "metadata": {
    "collapsed": false
   },
   "outputs": [],
   "source": [
    "# Open file with Painter\n",
    "def open_file():\n",
    "    pyautogui.doubleClick()\n",
    "    time.sleep(2)\n",
    "    pyautogui.moveTo(445, 65)\n",
    "    pyautogui.click() # select Rectangle tool"
   ]
  },
  {
   "cell_type": "code",
   "execution_count": 70,
   "metadata": {
    "collapsed": true
   },
   "outputs": [],
   "source": [
    "# Duplicate file, ramane it and open it with Painter\n",
    "def analyze_file(file_number):\n",
    "    x = 160\n",
    "    y = 70 + (file_number - 1) * 150\n",
    "       \n",
    "    print('(x, y) = ('+ str(x) + ', ' + str(y) +')')\n",
    "    pyautogui.moveTo(x, y)\n",
    "    duplicate_file()\n",
    "    rename_file()\n",
    "    open_file()"
   ]
  },
  {
   "cell_type": "code",
   "execution_count": 79,
   "metadata": {
    "collapsed": false
   },
   "outputs": [
    {
     "name": "stdout",
     "output_type": "stream",
     "text": [
      "(x, y) = (160, 70)\n"
     ]
    }
   ],
   "source": [
    "analyze_file(1)"
   ]
  },
  {
   "cell_type": "code",
   "execution_count": 80,
   "metadata": {
    "collapsed": false
   },
   "outputs": [
    {
     "name": "stdout",
     "output_type": "stream",
     "text": [
      "(x, y) = (160, 220)\n"
     ]
    }
   ],
   "source": [
    "analyze_file(2)"
   ]
  },
  {
   "cell_type": "code",
   "execution_count": 64,
   "metadata": {
    "collapsed": false
   },
   "outputs": [
    {
     "name": "stdout",
     "output_type": "stream",
     "text": [
      "(x, y) = (160, 380)\n"
     ]
    }
   ],
   "source": [
    "analyze_file(3)"
   ]
  },
  {
   "cell_type": "code",
   "execution_count": 33,
   "metadata": {
    "collapsed": false
   },
   "outputs": [
    {
     "name": "stdout",
     "output_type": "stream",
     "text": [
      "(x, y) = (160, 535)\n"
     ]
    }
   ],
   "source": [
    "analyze_file(4)"
   ]
  },
  {
   "cell_type": "code",
   "execution_count": null,
   "metadata": {
    "collapsed": true
   },
   "outputs": [],
   "source": []
  }
 ],
 "metadata": {
  "anaconda-cloud": {},
  "kernelspec": {
   "display_name": "Python 3",
   "language": "python",
   "name": "python3"
  },
  "language_info": {
   "codemirror_mode": {
    "name": "ipython",
    "version": 3
   },
   "file_extension": ".py",
   "mimetype": "text/x-python",
   "name": "python",
   "nbconvert_exporter": "python",
   "pygments_lexer": "ipython3",
   "version": "3.6.0"
  }
 },
 "nbformat": 4,
 "nbformat_minor": 1
}
