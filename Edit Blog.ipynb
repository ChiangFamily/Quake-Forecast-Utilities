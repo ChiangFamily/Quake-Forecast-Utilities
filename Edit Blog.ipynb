{
 "cells": [
  {
   "cell_type": "code",
   "execution_count": 1,
   "metadata": {
    "collapsed": false
   },
   "outputs": [],
   "source": [
    "import pyautogui\n",
    "import time\n",
    "import pyperclip\n",
    "import locate\n",
    "from date_stamp import get_time_stamp\n",
    "from locate import locate_and_click, click_Blogger_tab, click_Blog_Title\n",
    "from locate import click_Publish_button, scroll_down\n",
    "from locate import click_Facebook_Publish_button\n",
    "from quake_forecast import station\n",
    "from quake_forecast import quake_forecast_title, quake_signals_title, author\n",
    "from quake_forecast import Already_happened, Within, Days\n",
    "from quake_forecast import Red, Orange, Yellow, Green, Blue, Purple\n",
    "\n",
    "pyautogui.PAUSE = 0.1\n",
    "pyautogui.FAILSAFE = True"
   ]
  },
  {
   "cell_type": "code",
   "execution_count": 2,
   "metadata": {
    "collapsed": true
   },
   "outputs": [],
   "source": [
    "Facebook_tab_1_x = 0\n",
    "Facebook_tab_2_x = 0\n",
    "Facebook_tab_3_x = 0"
   ]
  },
  {
   "cell_type": "code",
   "execution_count": 3,
   "metadata": {
    "collapsed": true
   },
   "outputs": [],
   "source": [
    "already_happened = [\n",
    "    {'color': Red,\n",
    "    'time': '2017-04-15 16:19 UTC+8',\n",
    "    'location': {\n",
    "        'Chinese': '智利',\n",
    "        'Japanese': 'チリ',\n",
    "        'English': 'Chile'},\n",
    "    'magnitude': 'M6.2'},\n",
    "    {'color': Orange,\n",
    "    'time': '2017-04-25 05:38 UTC+8',\n",
    "    'location': {\n",
    "        'Chinese': '智利',\n",
    "        'Japanese': 'チリ',\n",
    "        'English': 'Chile'},\n",
    "    'magnitude': 'M6.9'}]\n",
    "\n",
    "print_already_happened = True"
   ]
  },
  {
   "cell_type": "code",
   "execution_count": 4,
   "metadata": {
    "collapsed": false
   },
   "outputs": [],
   "source": [
    "# 發生了： 発生了： Happened:\n",
    "# (1)2017-04-15 16:19 UTC+8 智利 チリ Chile M6.2\n",
    "# (2)2017-04-25 05:38 UTC+8 智利 チリ Chile M6.9\n"
   ]
  },
  {
   "cell_type": "code",
   "execution_count": 5,
   "metadata": {
    "collapsed": false
   },
   "outputs": [],
   "source": [
    "#發生了： 発生了： Happened:\n",
    "#2017-04-29 04:23 UTC+8 M6.8 菲律賓 フィリピン Philippines\n"
   ]
  },
  {
   "cell_type": "code",
   "execution_count": 6,
   "metadata": {
    "collapsed": true
   },
   "outputs": [],
   "source": [
    "def set_blog_title():\n",
    "    click_Blogger_tab()\n",
    "    click_Blog_Title()\n",
    "    \n",
    "    # paste from clipboard\n",
    "    pyautogui.rightClick()\n",
    "    pyautogui.press('down')\n",
    "    pyautogui.press('down')\n",
    "    pyautogui.press('p')\n",
    "    time.sleep(0.1)\n",
    "    pyautogui.press('enter')"
   ]
  },
  {
   "cell_type": "code",
   "execution_count": 7,
   "metadata": {
    "collapsed": true
   },
   "outputs": [],
   "source": [
    "def get_Quake_Forecast_title(languages): \n",
    "    blog_title = {}\n",
    "    for language in languages:\n",
    "        blog_title[language] = station_name[language]\n",
    "        blog_title[language] += quake_forecast_title[language]\n",
    "        quake_number = 0\n",
    "        for quake in quake_forecast:\n",
    "            quake_number += 1\n",
    "            blog_title[language] += '('\n",
    "            blog_title[language] += str(quake_number)\n",
    "            blog_title[language] += ')'\n",
    "            blog_title[language] += quake['color'][language]\n",
    "            blog_title[language] += Within[language]\n",
    "            blog_title[language] += str(quake['time'])\n",
    "            blog_title[language] += Days[language]\n",
    "            blog_title[language] += quake['location'][language]\n",
    "            blog_title[language] += quake['magnitude']\n",
    "            blog_title[language] += ' '\n",
    "    \n",
    "    blog_title_str = (time_stamp + ' ')\n",
    "    \n",
    "    for language in languages:\n",
    "        blog_title_str += (blog_title[language])\n",
    "    \n",
    "    blog_title_str = blog_title_str.strip() # remove extra white space\n",
    "    #print(blog_title_str)\n",
    "    pyperclip.copy(blog_title_str) # copy to clipboard\n",
    "    \n",
    "    return (blog_title, blog_title_str)"
   ]
  },
  {
   "cell_type": "code",
   "execution_count": 8,
   "metadata": {
    "collapsed": true
   },
   "outputs": [],
   "source": [
    "def get_Quake_Forecast_text(languages):\n",
    "    blog_text = {}\n",
    "    for language in languages:\n",
    "        blog_text[language] = station_name[language]\n",
    "        blog_text[language] += quake_forecast_title[language] + '\\n'\n",
    "        quake_number = 0\n",
    "        for quake in quake_forecast:\n",
    "            quake_number += 1\n",
    "            blog_text[language] += '('\n",
    "            blog_text[language] += str(quake_number)\n",
    "            blog_text[language] += ')'\n",
    "            blog_text[language] += quake['color'][language]\n",
    "            blog_text[language] += Within[language]\n",
    "            blog_text[language] += str(quake['time'])\n",
    "            blog_text[language] += Days[language]\n",
    "            blog_text[language] += quake['location'][language]\n",
    "            blog_text[language] += quake['magnitude']\n",
    "            blog_text[language] += '\\n'\n",
    "        blog_text[language] += '\\n'    \n",
    "        blog_text[language] += author[language]\n",
    "        blog_text[language] += '\\n'\n",
    "        blog_text[language] += time_stamp\n",
    "        blog_text[language] += '\\n\\n\\n'\n",
    "\n",
    "    blog_text_str = ''        \n",
    "    for language in languages:\n",
    "        blog_text_str += blog_text[language]\n",
    "    blog_text_str = blog_text_str.strip() # remove extra white space\n",
    "    #print(blog_text_str)\n",
    "    pyperclip.copy(blog_text_str) # copy to clipboard"
   ]
  },
  {
   "cell_type": "code",
   "execution_count": 9,
   "metadata": {
    "collapsed": true
   },
   "outputs": [],
   "source": [
    "def get_Quake_Signals_title(languages): \n",
    "    blog_title = {}\n",
    "    for language in languages:\n",
    "        blog_title[language] = station_name[language]\n",
    "        blog_title[language] += quake_signals_title[language]\n",
    "        blog_title[language] += Already_happened[language]\n",
    "        quake_number = 0\n",
    "        for quake in quake_signals:\n",
    "            quake_number += 1\n",
    "            blog_title[language] += '('\n",
    "            blog_title[language] += str(quake_number)\n",
    "            blog_title[language] += ')'\n",
    "            blog_title[language] += quake['color'][language]\n",
    "            #blog_title[language] += Within[language]\n",
    "            blog_title[language] += str(quake['time'])\n",
    "            blog_title[language] += ' '\n",
    "            blog_title[language] += quake['location'][language]\n",
    "            blog_title[language] += ' '\n",
    "            blog_title[language] += quake['magnitude']\n",
    "            blog_title[language] += ' '\n",
    "    \n",
    "    blog_title_str = (time_stamp + ' ')\n",
    "    \n",
    "    for language in languages:\n",
    "        blog_title_str += (blog_title[language])\n",
    "    \n",
    "    blog_title_str = blog_title_str.strip() # remove extra white space\n",
    "    #print(blog_title_str)\n",
    "    pyperclip.copy(blog_title_str) # copy to clipboard\n",
    "    \n",
    "    return (blog_title, blog_title_str)"
   ]
  },
  {
   "cell_type": "code",
   "execution_count": 10,
   "metadata": {
    "collapsed": true
   },
   "outputs": [],
   "source": [
    "def get_Quake_Signals_text(languages):\n",
    "    blog_text = {}\n",
    "    for language in languages:\n",
    "        blog_text[language] = station_name[language]\n",
    "        blog_text[language] += quake_signals_title[language] + '\\n'\n",
    "        blog_text[language] += Already_happened[language] + '\\n'\n",
    "        quake_number = 0\n",
    "        for quake in quake_signals:\n",
    "            quake_number += 1\n",
    "            blog_text[language] += '('\n",
    "            blog_text[language] += str(quake_number)\n",
    "            blog_text[language] += ')'\n",
    "            blog_text[language] += quake['color'][language]\n",
    "            #blog_text[language] += Within[language]\n",
    "            blog_text[language] += str(quake['time'])\n",
    "            blog_text[language] += ' '\n",
    "            #blog_text[language] += Days[language]\n",
    "            blog_text[language] += quake['location'][language]\n",
    "            blog_text[language] += ' '\n",
    "            blog_text[language] += quake['magnitude']\n",
    "            blog_text[language] += '\\n'\n",
    "        blog_text[language] += '\\n'    \n",
    "        blog_text[language] += author[language]\n",
    "        blog_text[language] += '\\n'\n",
    "        blog_text[language] += time_stamp\n",
    "        blog_text[language] += '\\n\\n\\n'\n",
    "\n",
    "    blog_text_str = ''        \n",
    "    for language in languages:\n",
    "        blog_text_str += blog_text[language]\n",
    "    blog_text_str = blog_text_str.strip() # remove extra white space\n",
    "    #print(blog_text_str)\n",
    "    pyperclip.copy(blog_text_str) # copy to clipboard"
   ]
  },
  {
   "cell_type": "code",
   "execution_count": 11,
   "metadata": {
    "collapsed": true
   },
   "outputs": [],
   "source": [
    "def click_Edit_area():    \n",
    "    pyautogui.moveTo(1100, 1000)\n",
    "    time.sleep(1)\n",
    "    pyautogui.click()\n",
    "    time.sleep(1)"
   ]
  },
  {
   "cell_type": "code",
   "execution_count": 12,
   "metadata": {
    "collapsed": true
   },
   "outputs": [],
   "source": [
    "def get_blog_address():\n",
    "    click_Blogger_tab()\n",
    "\n",
    "    pyautogui.moveTo(710, 61)\n",
    "    pyautogui.tripleClick()\n",
    "    pyautogui.rightClick()\n",
    "    time.sleep(0.5)\n",
    "    pyautogui.press('down')\n",
    "    pyautogui.press('down')\n",
    "    pyautogui.press('c') # copy blog address to clipboard\n",
    "    blog_address = pyperclip.paste() # read blog address from clipboard\n",
    "    #print('Blog address: ' + blog_address)\n",
    "    #print()\n",
    "    return blog_address"
   ]
  },
  {
   "cell_type": "code",
   "execution_count": 13,
   "metadata": {
    "collapsed": true
   },
   "outputs": [],
   "source": [
    "def set_blog_text():\n",
    "    click_Blogger_tab()\n",
    "    scroll_down()\n",
    "    click_Edit_area()\n",
    "    pyautogui.press('backspace')\n",
    "\n",
    "    pyautogui.rightClick()\n",
    "    pyautogui.press('down')\n",
    "    pyautogui.press('down')\n",
    "    pyautogui.press('p') # paste from clipboard"
   ]
  },
  {
   "cell_type": "code",
   "execution_count": 14,
   "metadata": {
    "collapsed": true
   },
   "outputs": [],
   "source": [
    "def click_Facebook_tab(tab_number):\n",
    "    global Facebook_tab_1_x\n",
    "    global Facebook_tab_2_x\n",
    "    global Facebook_tab_3_x\n",
    "    \n",
    "    if tab_number is 1:\n",
    "        (x, y) = (520, 30)\n",
    "    elif tab_number is 2:\n",
    "        (x, y) = (630, 30)\n",
    "    elif tab_number is 3:\n",
    "        (x, y) = (733, 30)\n",
    "    else:\n",
    "        print('Wrong tab number:', str(tab_number))\n",
    "    \n",
    "    pyautogui.moveTo(x, y)\n",
    "    time.sleep(1)\n",
    "    pyautogui.click() # click"
   ]
  },
  {
   "cell_type": "code",
   "execution_count": 15,
   "metadata": {
    "collapsed": true
   },
   "outputs": [],
   "source": [
    "def click_WeChat_icon():\n",
    "    pyautogui.moveTo(1000, 1079)\n",
    "    time.sleep(1)\n",
    "    pyautogui.moveTo(564, 1058)\n",
    "    time.sleep(1)\n",
    "    pyautogui.click()\n",
    "    time.sleep(1)"
   ]
  },
  {
   "cell_type": "code",
   "execution_count": 16,
   "metadata": {
    "collapsed": true
   },
   "outputs": [],
   "source": [
    "def click_WeChat_Edit_area():\n",
    "    pyautogui.moveTo(1090, 935)\n",
    "    time.sleep(1)\n",
    "    pyautogui.click()\n",
    "    time.sleep(1)"
   ]
  },
  {
   "cell_type": "code",
   "execution_count": 17,
   "metadata": {
    "collapsed": true
   },
   "outputs": [],
   "source": [
    "def post_to_WeChat():\n",
    "    click_WeChat_icon()\n",
    "    click_WeChat_Edit_area()\n",
    "    \n",
    "    # paste Quake Forecast from clipboard\n",
    "    pyautogui.hotkey('ctrl', 'v')\n",
    "    \n",
    "    # darg analysis file 1 to WeChat\n",
    "    x = 160\n",
    "    y = 70\n",
    "    pyautogui.moveTo(x, y)\n",
    "    time.sleep(1)\n",
    "    pyautogui.click()\n",
    "    time.sleep(1)\n",
    "    \n",
    "    pyautogui.dragTo(1090, 935, 2)\n",
    "    pyautogui.click()\n",
    "    time.sleep(1)\n",
    "\n",
    "    pyautogui.press('enter')\n",
    "    time.sleep(3)"
   ]
  },
  {
   "cell_type": "code",
   "execution_count": 18,
   "metadata": {
    "collapsed": true
   },
   "outputs": [],
   "source": [
    "def click_Twitter_tab():\n",
    "    (x, y) = (404, 30)\n",
    "    pyautogui.moveTo(x, y)\n",
    "    time.sleep(1)\n",
    "    pyautogui.click() # click"
   ]
  },
  {
   "cell_type": "code",
   "execution_count": 19,
   "metadata": {
    "collapsed": true
   },
   "outputs": [],
   "source": [
    "def click_Twit_button():\n",
    "    (x, y) = (1775, 122)\n",
    "    pyautogui.moveTo(x, y)\n",
    "    time.sleep(1)\n",
    "    pyautogui.click() # click"
   ]
  },
  {
   "cell_type": "code",
   "execution_count": 20,
   "metadata": {
    "collapsed": true
   },
   "outputs": [],
   "source": [
    "def click_Twitter_Edit_area():\n",
    "    (x, y) = (1068, 466)\n",
    "    pyautogui.moveTo(x, y)\n",
    "    time.sleep(1)\n",
    "    pyautogui.click() # click"
   ]
  },
  {
   "cell_type": "code",
   "execution_count": 21,
   "metadata": {
    "collapsed": true
   },
   "outputs": [],
   "source": [
    "def post_to_Twitter():\n",
    "    click_Twitter_tab()\n",
    "    click_Twit_button()\n",
    "\n",
    "    # paste Quake Forecast from clipboard\n",
    "    pyautogui.hotkey('ctrl', 'v')\n",
    "\n",
    "    # darg analysis file 1 to Twitter\n",
    "    x = 160\n",
    "    y = 70\n",
    "    pyautogui.moveTo(x, y)\n",
    "    time.sleep(1)\n",
    "    pyautogui.click()\n",
    "    time.sleep(1)\n",
    "    \n",
    "    pyautogui.dragTo(1068, 466, 2)\n",
    "    pyautogui.click()\n",
    "    time.sleep(1)\n",
    "\n",
    "    for i in range(0, 6):\n",
    "        pyautogui.press('tab')\n",
    "    pyautogui.press('enter')\n",
    "    \n",
    "    time.sleep(3)\n",
    "    \n",
    "    #pyautogui.scroll(-100) # scroll down"
   ]
  },
  {
   "cell_type": "code",
   "execution_count": 22,
   "metadata": {
    "collapsed": true
   },
   "outputs": [],
   "source": [
    "def publish_blog():\n",
    "    pyautogui.moveTo(1717, 237)\n",
    "    time.sleep(2)\n",
    "    pyautogui.click()"
   ]
  },
  {
   "cell_type": "code",
   "execution_count": 23,
   "metadata": {
    "collapsed": true
   },
   "outputs": [],
   "source": [
    "def view_blog():\n",
    "    click_Blogger_tab()\n",
    "    time.sleep(7)\n",
    "    pyautogui.moveTo(833, 504)\n",
    "    time.sleep(3)\n",
    "    pyautogui.click()\n",
    "    time.sleep(3)"
   ]
  },
  {
   "cell_type": "code",
   "execution_count": 24,
   "metadata": {
    "collapsed": true
   },
   "outputs": [],
   "source": [
    "def close_Blogger_article_list():\n",
    "    click_Blogger_tab()\n",
    "    time.sleep(1)\n",
    "    \n",
    "    pyautogui.click()\n",
    "    time.sleep(1)\n",
    "    \n",
    "    pyautogui.rightClick()\n",
    "    time.sleep(1)\n",
    "\n",
    "    for i in range(0, 6):\n",
    "        pyautogui.press('down')\n",
    "    \n",
    "    time.sleep(1)\n",
    "    pyautogui.press('enter')\n",
    "\n",
    "    pyautogui.moveRel(30, 0)\n",
    "    time.sleep(1)"
   ]
  },
  {
   "cell_type": "code",
   "execution_count": null,
   "metadata": {
    "collapsed": false
   },
   "outputs": [],
   "source": [
    "station_name = station['洛杉磯站']\n",
    "time_stamp = get_time_stamp()\n",
    "languages = ['Chinese', 'Japanese', 'English']\n",
    "quake_signals = [\n",
    "    {'color': Red,\n",
    "    'time': '2017-05-09 21:52 UTC+8',\n",
    "    'location': {\n",
    "        'Chinese': '萬那杜',\n",
    "        'Japanese': 'バヌアツ',\n",
    "        'English': 'Vanuatu'},\n",
    "    'magnitude': 'M6.8'}]"
   ]
  },
  {
   "cell_type": "code",
   "execution_count": null,
   "metadata": {
    "collapsed": false
   },
   "outputs": [],
   "source": [
    "(blog_title, blog_title_str) = get_Quake_Signals_title(languages)\n",
    "set_blog_title()\n",
    "get_Quake_Signals_text(languages)\n",
    "set_blog_text()\n",
    "publish_blog()\n",
    "time.sleep(1)"
   ]
  },
  {
   "cell_type": "code",
   "execution_count": null,
   "metadata": {
    "collapsed": true
   },
   "outputs": [],
   "source": [
    "# '日本、俄羅斯或阿拉斯加，',\n",
    "# '日本、ロシアまたはアラスカ、',\n",
    "# 'Japan, Russia or Alaska, '},\n",
    "\n",
    "# '南太平洋或南美洲，',\n",
    "# '南太平洋または南米',\n",
    "# 'South Pacific or South America, '},"
   ]
  },
  {
   "cell_type": "code",
   "execution_count": 25,
   "metadata": {
    "collapsed": true
   },
   "outputs": [],
   "source": [
    "def post_Quake_Forecast(blog_address, blog_title_str):\n",
    "    # Post to Facebook, WeChat and Twitter\n",
    "\n",
    "    #Twitter_languages = ['Chinese', 'Japanese']\n",
    "    Twitter_languages = ['Japanese']\n",
    "    (blog_title_Twitter, blog_title_str_Twitter) = get_Quake_Forecast_title(Twitter_languages)\n",
    "\n",
    "    post_text_Twitter = blog_title_str_Twitter + '\\n' + blog_address\n",
    "    print(post_text_Twitter)\n",
    "\n",
    "    pyperclip.copy(post_text_Twitter) # copy to clipboard\n",
    "    post_to_Twitter()\n",
    "    \n",
    "    \n",
    "    post_text = blog_title_str + '\\n' + blog_address\n",
    "    print(post_text)\n",
    "    \n",
    "    pyperclip.copy(post_text) # copy to clipboard\n",
    "    post_to_WeChat()\n",
    "\n",
    "    pyperclip.copy(post_text) # copy to clipboard\n",
    "    post_to_Facebook(1)\n",
    "\n",
    "    pyperclip.copy(post_text) # copy to clipboard\n",
    "    post_to_Facebook(2)\n",
    "\n",
    "    pyperclip.copy(post_text) # copy to clipboard\n",
    "    post_to_Facebook(3)"
   ]
  },
  {
   "cell_type": "code",
   "execution_count": 26,
   "metadata": {
    "collapsed": true
   },
   "outputs": [],
   "source": [
    "def publish_Quake_Forecast(languages):\n",
    "    (blog_title, blog_title_str) = get_Quake_Forecast_title(languages)\n",
    "    set_blog_title()\n",
    "    get_Quake_Forecast_text(languages)\n",
    "    set_blog_text()\n",
    "    publish_blog()\n",
    "    time.sleep(5)\n",
    "    #time.sleep(15)\n",
    "    return (blog_title, blog_title_str)"
   ]
  },
  {
   "cell_type": "code",
   "execution_count": 96,
   "metadata": {
    "collapsed": true
   },
   "outputs": [],
   "source": [
    "def post_to_Facebook(tab_number):\n",
    "    click_Facebook_tab(tab_number)\n",
    "\n",
    "    if tab_number is 1:\n",
    "        (x, y) = (1244, 945)\n",
    "    elif tab_number is 2:\n",
    "        (x, y) = (1002, 832)\n",
    "    elif tab_number is 3:\n",
    "        (x, y) = (977, 972)\n",
    "    else:\n",
    "        print('Wrong tab number:', str(tab_number))\n",
    "        \n",
    "    pyautogui.moveTo(x, y)\n",
    "    time.sleep(1)\n",
    "    pyautogui.scroll(10000) # scroll up\n",
    "    time.sleep(1)\n",
    "\n",
    "    pyautogui.moveTo(x, y)\n",
    "    pyautogui.click()\n",
    "    time.sleep(1)\n",
    "\n",
    "    # paste Quake Forecast from clipboard\n",
    "    pyautogui.hotkey('ctrl', 'v')\n",
    "    time.sleep(4)\n",
    "\n",
    "    pyautogui.moveTo(x+100, y)\n",
    "    time.sleep(1)\n",
    "    pyautogui.scroll(-700) # scroll down\n",
    "    #pyautogui.scroll(-1000) # scroll down\n",
    "    time.sleep(2)\n",
    "    \n",
    "    #click_Publish_button() # Publish\n",
    "    if tab_number is 1:\n",
    "        for i in range(0, 9):\n",
    "            pyautogui.press('tab')\n",
    "            time.sleep(1)\n",
    "        pyautogui.press('enter')\n",
    "        time.sleep(1)\n",
    "        #pyautogui.scroll(-100) # scroll down\n",
    "    elif tab_number is 2:\n",
    "        for i in range(0, 9):\n",
    "            pyautogui.press('tab')\n",
    "            time.sleep(1)\n",
    "        pyautogui.press('enter')\n",
    "        time.sleep(1)\n",
    "        #pyautogui.scroll(-100) # scroll down\n",
    "    elif tab_number is 3:\n",
    "        for i in range(0, 12):\n",
    "            pyautogui.press('tab')\n",
    "            time.sleep(1)\n",
    "        pyautogui.press('enter')\n",
    "        time.sleep(1)\n",
    "        pyautogui.scroll(-700) # scroll down\n",
    "    else:\n",
    "        print('Wrong tab number:', str(tab_number))\n",
    "    \n",
    "    time.sleep(4)\n",
    "    #time.sleep(5)"
   ]
  },
  {
   "cell_type": "code",
   "execution_count": 95,
   "metadata": {
    "collapsed": false
   },
   "outputs": [
    {
     "name": "stdout",
     "output_type": "stream",
     "text": [
      "2017-05-21 17:53 UTC+8 台中潭子局地震予報：(1)赤：9日以內に、チリ、インドネシアまたはフィリピン、M7+ ~ M8+\n",
      "http://quakeforecast.blogspot.tw/2017/05/2017-05-21-1753-utc8-19m7-m8-19m7-m8.html\n",
      "2017-05-21 17:53 UTC+8 台中潭子站地震預報：(1)紅：9日以內，智利、印尼或菲律賓，M7+ ~ M8+ 台中潭子局地震予報：(1)赤：9日以內に、チリ、インドネシアまたはフィリピン、M7+ ~ M8+ Taichung Tantzu Station Quake Forecast: (1)Red: Within 9 days, Chile, Indonesia or Philippines, M7+ ~ M8+\n",
      "http://quakeforecast.blogspot.tw/2017/05/2017-05-21-1753-utc8-19m7-m8-19m7-m8.html\n"
     ]
    }
   ],
   "source": [
    "station_name = station['台中潭子站']\n",
    "time_stamp = get_time_stamp()\n",
    "languages = ['Chinese', 'Japanese', 'English']\n",
    "quake_forecast = [\n",
    "    {'color': Red,\n",
    "    'time': 9,\n",
    "    'location': {\n",
    "        'Chinese': '智利、印尼或菲律賓，',\n",
    "        'Japanese': 'チリ、インドネシアまたはフィリピン、',\n",
    "        'English': 'Chile, Indonesia or Philippines, '},\n",
    "    'magnitude': 'M7+ ~ M8+'}]\n",
    "\n",
    "(blog_title, blog_title_str) = publish_Quake_Forecast(languages)\n",
    "view_blog()\n",
    "close_Blogger_article_list()\n",
    "\n",
    "blog_address = get_blog_address()\n",
    "post_Quake_Forecast(blog_address, blog_title_str)"
   ]
  },
  {
   "cell_type": "code",
   "execution_count": 92,
   "metadata": {
    "collapsed": false
   },
   "outputs": [
    {
     "name": "stdout",
     "output_type": "stream",
     "text": [
      "2017-05-20 21:52 UTC+8 桃園局地震予報：(1)赤：10日以內に、チリ、インドネシアまたはフィリピン、M7+ ~ M8+\n",
      "http://quakeforecast.blogspot.tw/2017/05/2017-05-20-2152-utc8-110m7-m8-110m7-m8.html\n",
      "2017-05-20 21:52 UTC+8 桃園站地震預報：(1)紅：10日以內，智利、印尼或菲律賓，M7+ ~ M8+ 桃園局地震予報：(1)赤：10日以內に、チリ、インドネシアまたはフィリピン、M7+ ~ M8+ Taoyuan Station Quake Forecast: (1)Red: Within 10 days, Chile, Indonesia or Philippines, M7+ ~ M8+\n",
      "http://quakeforecast.blogspot.tw/2017/05/2017-05-20-2152-utc8-110m7-m8-110m7-m8.html\n"
     ]
    }
   ],
   "source": [
    "blog_address = get_blog_address()\n",
    "post_Quake_Forecast(blog_address, blog_title_str)"
   ]
  },
  {
   "cell_type": "code",
   "execution_count": 88,
   "metadata": {
    "collapsed": false
   },
   "outputs": [
    {
     "ename": "FailSafeException",
     "evalue": "PyAutoGUI fail-safe triggered from mouse moving to upper-left corner. To disable this fail-safe, set pyautogui.FAILSAFE to False.",
     "output_type": "error",
     "traceback": [
      "\u001b[0;31m---------------------------------------------------------------------------\u001b[0m",
      "\u001b[0;31mFailSafeException\u001b[0m                         Traceback (most recent call last)",
      "\u001b[0;32m<ipython-input-88-0504f2317a14>\u001b[0m in \u001b[0;36m<module>\u001b[0;34m()\u001b[0m\n\u001b[0;32m----> 1\u001b[0;31m \u001b[0mpost_to_Facebook\u001b[0m\u001b[1;33m(\u001b[0m\u001b[1;36m1\u001b[0m\u001b[1;33m)\u001b[0m\u001b[1;33m\u001b[0m\u001b[0m\n\u001b[0m\u001b[1;32m      2\u001b[0m \u001b[0mpost_to_Facebook\u001b[0m\u001b[1;33m(\u001b[0m\u001b[1;36m2\u001b[0m\u001b[1;33m)\u001b[0m\u001b[1;33m\u001b[0m\u001b[0m\n\u001b[1;32m      3\u001b[0m \u001b[0mpost_to_Facebook\u001b[0m\u001b[1;33m(\u001b[0m\u001b[1;36m3\u001b[0m\u001b[1;33m)\u001b[0m\u001b[1;33m\u001b[0m\u001b[0m\n",
      "\u001b[0;32m<ipython-input-62-22dedefeab16>\u001b[0m in \u001b[0;36mpost_to_Facebook\u001b[0;34m(tab_number)\u001b[0m\n\u001b[1;32m     33\u001b[0m     \u001b[1;32mif\u001b[0m \u001b[0mtab_number\u001b[0m \u001b[1;32mis\u001b[0m \u001b[1;36m1\u001b[0m\u001b[1;33m:\u001b[0m\u001b[1;33m\u001b[0m\u001b[0m\n\u001b[1;32m     34\u001b[0m         \u001b[1;32mfor\u001b[0m \u001b[0mi\u001b[0m \u001b[1;32min\u001b[0m \u001b[0mrange\u001b[0m\u001b[1;33m(\u001b[0m\u001b[1;36m0\u001b[0m\u001b[1;33m,\u001b[0m \u001b[1;36m9\u001b[0m\u001b[1;33m)\u001b[0m\u001b[1;33m:\u001b[0m\u001b[1;33m\u001b[0m\u001b[0m\n\u001b[0;32m---> 35\u001b[0;31m             \u001b[0mpyautogui\u001b[0m\u001b[1;33m.\u001b[0m\u001b[0mpress\u001b[0m\u001b[1;33m(\u001b[0m\u001b[1;34m'tab'\u001b[0m\u001b[1;33m)\u001b[0m\u001b[1;33m\u001b[0m\u001b[0m\n\u001b[0m\u001b[1;32m     36\u001b[0m             \u001b[0mtime\u001b[0m\u001b[1;33m.\u001b[0m\u001b[0msleep\u001b[0m\u001b[1;33m(\u001b[0m\u001b[1;36m1\u001b[0m\u001b[1;33m)\u001b[0m\u001b[1;33m\u001b[0m\u001b[0m\n\u001b[1;32m     37\u001b[0m         \u001b[0mpyautogui\u001b[0m\u001b[1;33m.\u001b[0m\u001b[0mpress\u001b[0m\u001b[1;33m(\u001b[0m\u001b[1;34m'enter'\u001b[0m\u001b[1;33m)\u001b[0m\u001b[1;33m\u001b[0m\u001b[0m\n",
      "\u001b[0;32mC:\\Users\\Dyson\\Anaconda3\\lib\\site-packages\\pyautogui\\__init__.py\u001b[0m in \u001b[0;36mpress\u001b[0;34m(keys, presses, interval, pause, _pause)\u001b[0m\n\u001b[1;32m    926\u001b[0m     \u001b[1;32mfor\u001b[0m \u001b[0mi\u001b[0m \u001b[1;32min\u001b[0m \u001b[0mrange\u001b[0m\u001b[1;33m(\u001b[0m\u001b[0mpresses\u001b[0m\u001b[1;33m)\u001b[0m\u001b[1;33m:\u001b[0m\u001b[1;33m\u001b[0m\u001b[0m\n\u001b[1;32m    927\u001b[0m         \u001b[1;32mfor\u001b[0m \u001b[0mk\u001b[0m \u001b[1;32min\u001b[0m \u001b[0mkeys\u001b[0m\u001b[1;33m:\u001b[0m\u001b[1;33m\u001b[0m\u001b[0m\n\u001b[0;32m--> 928\u001b[0;31m             \u001b[0m_failSafeCheck\u001b[0m\u001b[1;33m(\u001b[0m\u001b[1;33m)\u001b[0m\u001b[1;33m\u001b[0m\u001b[0m\n\u001b[0m\u001b[1;32m    929\u001b[0m             \u001b[0mplatformModule\u001b[0m\u001b[1;33m.\u001b[0m\u001b[0m_keyDown\u001b[0m\u001b[1;33m(\u001b[0m\u001b[0mk\u001b[0m\u001b[1;33m)\u001b[0m\u001b[1;33m\u001b[0m\u001b[0m\n\u001b[1;32m    930\u001b[0m             \u001b[0mplatformModule\u001b[0m\u001b[1;33m.\u001b[0m\u001b[0m_keyUp\u001b[0m\u001b[1;33m(\u001b[0m\u001b[0mk\u001b[0m\u001b[1;33m)\u001b[0m\u001b[1;33m\u001b[0m\u001b[0m\n",
      "\u001b[0;32mC:\\Users\\Dyson\\Anaconda3\\lib\\site-packages\\pyautogui\\__init__.py\u001b[0m in \u001b[0;36m_failSafeCheck\u001b[0;34m()\u001b[0m\n\u001b[1;32m   1008\u001b[0m \u001b[1;32mdef\u001b[0m \u001b[0m_failSafeCheck\u001b[0m\u001b[1;33m(\u001b[0m\u001b[1;33m)\u001b[0m\u001b[1;33m:\u001b[0m\u001b[1;33m\u001b[0m\u001b[0m\n\u001b[1;32m   1009\u001b[0m     \u001b[1;32mif\u001b[0m \u001b[0mFAILSAFE\u001b[0m \u001b[1;32mand\u001b[0m \u001b[0mposition\u001b[0m\u001b[1;33m(\u001b[0m\u001b[1;33m)\u001b[0m \u001b[1;33m==\u001b[0m \u001b[1;33m(\u001b[0m\u001b[1;36m0\u001b[0m\u001b[1;33m,\u001b[0m \u001b[1;36m0\u001b[0m\u001b[1;33m)\u001b[0m\u001b[1;33m:\u001b[0m\u001b[1;33m\u001b[0m\u001b[0m\n\u001b[0;32m-> 1010\u001b[0;31m         \u001b[1;32mraise\u001b[0m \u001b[0mFailSafeException\u001b[0m\u001b[1;33m(\u001b[0m\u001b[1;34m'PyAutoGUI fail-safe triggered from mouse moving to upper-left corner. To disable this fail-safe, set pyautogui.FAILSAFE to False.'\u001b[0m\u001b[1;33m)\u001b[0m\u001b[1;33m\u001b[0m\u001b[0m\n\u001b[0m\u001b[1;32m   1011\u001b[0m \u001b[1;33m\u001b[0m\u001b[0m\n\u001b[1;32m   1012\u001b[0m \u001b[1;33m\u001b[0m\u001b[0m\n",
      "\u001b[0;31mFailSafeException\u001b[0m: PyAutoGUI fail-safe triggered from mouse moving to upper-left corner. To disable this fail-safe, set pyautogui.FAILSAFE to False."
     ]
    }
   ],
   "source": [
    "post_to_Facebook(1)\n",
    "post_to_Facebook(2)\n",
    "post_to_Facebook(3)"
   ]
  },
  {
   "cell_type": "code",
   "execution_count": null,
   "metadata": {
    "collapsed": true
   },
   "outputs": [],
   "source": []
  },
  {
   "cell_type": "code",
   "execution_count": 94,
   "metadata": {
    "collapsed": false
   },
   "outputs": [
    {
     "name": "stdout",
     "output_type": "stream",
     "text": [
      "2017-05-20 22:23 UTC+8 台南新生局地震予報：(1)赤：10日以內に、チリ、インドネシアまたはフィリピン、M7+ ~ M8+ (2)オレンジ：5日以內に、南日本(沖縄)または東台湾、M5+ ~ M6+\n",
      "http://quakeforecast.blogspot.tw/2017/05/2017-05-20-2223-utc8-110m7-m8-25m5-m6.html\n",
      "2017-05-20 22:23 UTC+8 台南新生站地震預報：(1)紅：10日以內，智利、印尼或菲律賓，M7+ ~ M8+ (2)橙：5日以內，南日本(沖繩)或東台灣，M5+ ~ M6+ 台南新生局地震予報：(1)赤：10日以內に、チリ、インドネシアまたはフィリピン、M7+ ~ M8+ (2)オレンジ：5日以內に、南日本(沖縄)または東台湾、M5+ ~ M6+ Tainan Xinsheng Station Quake Forecast: (1)Red: Within 10 days, Chile, Indonesia or Philippines, M7+ ~ M8+ (2)Orange: Within 5 days, South Japan(Okinawa) or East Taiwan, M5+ ~ M6+\n",
      "http://quakeforecast.blogspot.tw/2017/05/2017-05-20-2223-utc8-110m7-m8-25m5-m6.html\n"
     ]
    }
   ],
   "source": [
    "station_name = station['台南新生站']\n",
    "time_stamp = get_time_stamp()\n",
    "languages = ['Chinese', 'Japanese', 'English']\n",
    "quake_forecast = [\n",
    "    {'color': Red,\n",
    "    'time': 9,\n",
    "    'location': {\n",
    "        'Chinese': '智利、印尼或菲律賓，',\n",
    "        'Japanese': 'チリ、インドネシアまたはフィリピン、',\n",
    "        'English': 'Chile, Indonesia or Philippines, '},\n",
    "    'magnitude': 'M7+ ~ M8+'},\n",
    "    {'color': Orange,\n",
    "    'time': 9,\n",
    "    'location': {\n",
    "        'Chinese': '南日本(沖繩)或東台灣，',\n",
    "        'Japanese': '南日本(沖縄)または東台湾、',\n",
    "        'English': 'South Japan(Okinawa) or East Taiwan, '},\n",
    "    'magnitude': 'M5+ ~ M6+'}]\n",
    "\n",
    "(blog_title, blog_title_str) = publish_Quake_Forecast(languages)\n",
    "view_blog()\n",
    "close_Blogger_article_list()\n",
    "\n",
    "blog_address = get_blog_address()\n",
    "post_Quake_Forecast(blog_address, blog_title_str)"
   ]
  },
  {
   "cell_type": "code",
   "execution_count": null,
   "metadata": {
    "collapsed": false
   },
   "outputs": [],
   "source": [
    "blog_address = get_blog_address()\n",
    "post_Quake_Forecast(blog_address, blog_title_str)"
   ]
  },
  {
   "cell_type": "code",
   "execution_count": 74,
   "metadata": {
    "collapsed": false
   },
   "outputs": [],
   "source": [
    "post_to_Facebook(1)\n",
    "post_to_Facebook(2)\n",
    "post_to_Facebook(3)"
   ]
  },
  {
   "cell_type": "code",
   "execution_count": null,
   "metadata": {
    "collapsed": false
   },
   "outputs": [],
   "source": [
    "blog_address = get_blog_address()\n",
    "post_Quake_Forecast(blog_address, blog_title_str)"
   ]
  },
  {
   "cell_type": "code",
   "execution_count": null,
   "metadata": {
    "collapsed": true
   },
   "outputs": [],
   "source": []
  }
 ],
 "metadata": {
  "anaconda-cloud": {},
  "kernelspec": {
   "display_name": "Python 3",
   "language": "python",
   "name": "python3"
  },
  "language_info": {
   "codemirror_mode": {
    "name": "ipython",
    "version": 3
   },
   "file_extension": ".py",
   "mimetype": "text/x-python",
   "name": "python",
   "nbconvert_exporter": "python",
   "pygments_lexer": "ipython3",
   "version": "3.6.0"
  }
 },
 "nbformat": 4,
 "nbformat_minor": 1
}
