{
 "cells": [
  {
   "cell_type": "code",
   "execution_count": 1,
   "metadata": {
    "collapsed": false
   },
   "outputs": [],
   "source": [
    "import time\n",
    "from quake_forecast import get_date_stamp, get_time_stamp\n",
    "from quake_forecast import name_new_files, analyze_file\n",
    "from quake_forecast import insert_files, station\n",
    "from quake_forecast import Red, Orange, Yellow, Green, Blue, Purple\n",
    "from quake_forecast import get_Quake_Signals_title, set_blog_title\n",
    "from quake_forecast import get_Quake_Signals_text, set_blog_text\n",
    "from quake_forecast import publish_blog\n",
    "from quake_forecast import publish_Quake_Forecast, view_blog\n",
    "from quake_forecast import close_Blogger_article_list, get_blog_address\n",
    "from quake_forecast import post_Quake_Forecast, post_to_Facebook\n",
    "from quake_forecast import click_Facebook_tab\n",
    "import pyautogui"
   ]
  },
  {
   "cell_type": "code",
   "execution_count": 93,
   "metadata": {
    "collapsed": false
   },
   "outputs": [],
   "source": [
    "name_new_files(file_number=1, to_WeChat=False, date_stamp='2017-07-17')"
   ]
  },
  {
   "cell_type": "code",
   "execution_count": 79,
   "metadata": {
    "collapsed": false
   },
   "outputs": [],
   "source": [
    "name_new_files(file_number=2, to_WeChat=True, date_stamp='2017-07-17')"
   ]
  },
  {
   "cell_type": "code",
   "execution_count": null,
   "metadata": {
    "collapsed": true
   },
   "outputs": [],
   "source": [
    "2017-05-09 09:54 UTC+8\n",
    "沖繩 沖縄 Okinawa \n",
    "M6.0\n",
    "\n",
    "2017-05-09 21:52 UTC+8 \n",
    "萬那杜 バヌアツ Vanuatu \n",
    "M6.9 "
   ]
  },
  {
   "cell_type": "code",
   "execution_count": null,
   "metadata": {
    "collapsed": true
   },
   "outputs": [],
   "source": [
    "2017/06/03-06:24 UTC+8\n",
    "阿拉斯加 アラスカ Alaska \n",
    "M6.8\n",
    "\n",
    "2017-06-14 15:29 UTC+8 \n",
    "瓜地馬拉 グアテマラ Guatemala \n",
    "M6.9\n",
    "\n",
    "2017/06/22 20:31 UTC+8 \n",
    "瓜地馬拉 グアテマラ Guatemala\n",
    "M6.8"
   ]
  },
  {
   "cell_type": "code",
   "execution_count": null,
   "metadata": {
    "collapsed": false
   },
   "outputs": [],
   "source": [
    "2017-07-06 16:03 UTC+8\n",
    "菲律賓 フィリピン Philippines \n",
    "M6.5"
   ]
  },
  {
   "cell_type": "code",
   "execution_count": null,
   "metadata": {
    "collapsed": true
   },
   "outputs": [],
   "source": [
    "2017/07/13 11:36 UTC+8\n",
    "巴布亞紐幾內亞 \n",
    "パプアニューギニア \n",
    "Papua New Guinea\n",
    "M6.4"
   ]
  },
  {
   "cell_type": "code",
   "execution_count": 94,
   "metadata": {
    "collapsed": false
   },
   "outputs": [],
   "source": [
    "analyze_file(1)"
   ]
  },
  {
   "cell_type": "code",
   "execution_count": 90,
   "metadata": {
    "collapsed": false
   },
   "outputs": [],
   "source": [
    "analyze_file(2)"
   ]
  },
  {
   "cell_type": "code",
   "execution_count": 91,
   "metadata": {
    "collapsed": false
   },
   "outputs": [],
   "source": [
    "analyze_file(3)"
   ]
  },
  {
   "cell_type": "code",
   "execution_count": 77,
   "metadata": {
    "collapsed": true
   },
   "outputs": [],
   "source": [
    "analyze_file(4)"
   ]
  },
  {
   "cell_type": "code",
   "execution_count": 95,
   "metadata": {
    "collapsed": false
   },
   "outputs": [],
   "source": [
    "insert_files(1)\n",
    "\n",
    "station_name = station['台中大里站']\n",
    "languages = ['Chinese', 'Japanese', 'English']\n",
    "quake_forecast = [\n",
    "    {'color': Yellow,\n",
    "    'time': 2,\n",
    "    'location': {\n",
    "        'Chinese': '南日本、菲律賓、東台灣或南台灣，',\n",
    "        'Japanese': '南日本、フィリピン、東台湾または南台灣、',\n",
    "        'English': 'South Japan, Philippines, East Twiwan or South Taiwan, '},\n",
    "    'magnitude': 'M6+~M7+'}]\n",
    "\n",
    "time_stamp = get_time_stamp()\n",
    "(blog_title, blog_title_str) = publish_Quake_Forecast(quake_forecast, \n",
    "                                    station_name, languages, time_stamp)\n",
    "view_blog()\n",
    "close_Blogger_article_list()\n",
    "\n",
    "blog_address = get_blog_address()\n",
    "post_Quake_Forecast(quake_forecast, station_name, time_stamp,\n",
    "            blog_address, blog_title_str)"
   ]
  },
  {
   "cell_type": "code",
   "execution_count": 92,
   "metadata": {
    "collapsed": true
   },
   "outputs": [],
   "source": [
    "insert_files(4)\n",
    "\n",
    "station_name = station['台南喜福站']\n",
    "languages = ['Chinese', 'Japanese', 'English']\n",
    "quake_forecast = [\n",
    "    {'color': Yellow,\n",
    "    'time': 2,\n",
    "    'location': {\n",
    "        'Chinese': '南日本、菲律賓、東台灣或南台灣，',\n",
    "        'Japanese': '南日本、フィリピン、東台湾または南台灣、',\n",
    "        'English': 'South Japan, Philippines, East Twiwan or South Taiwan, '},\n",
    "    'magnitude': 'M6+~M7+'},\n",
    "    {'color': Red,\n",
    "    'time': 9,\n",
    "    'location': {\n",
    "        'Chinese': '南日本、菲律賓、東台灣或南台灣，',\n",
    "        'Japanese': '南日本、フィリピン、東台湾または南台灣、',\n",
    "        'English': 'South Japan, Philippines, East Twiwan or South Taiwan, '},\n",
    "    'magnitude': 'M7+~M8+'},\n",
    "    {'color': Green,\n",
    "    'time': 14,\n",
    "    'location': {\n",
    "        'Chinese': '南日本、菲律賓、東台灣或南台灣，',\n",
    "        'Japanese': '南日本、フィリピン、東台湾または南台灣、',\n",
    "        'English': 'South Japan, Philippines, East Twiwan or South Taiwan, '},\n",
    "    'magnitude': 'M6+~M7+'}]\n",
    "\n",
    "time_stamp = get_time_stamp()\n",
    "(blog_title, blog_title_str) = publish_Quake_Forecast(quake_forecast, \n",
    "                                    station_name, languages, time_stamp)\n",
    "view_blog()\n",
    "close_Blogger_article_list()\n",
    "\n",
    "blog_address = get_blog_address()\n",
    "post_Quake_Forecast(quake_forecast, station_name, time_stamp,\n",
    "            blog_address, blog_title_str)"
   ]
  },
  {
   "cell_type": "code",
   "execution_count": 86,
   "metadata": {
    "collapsed": false
   },
   "outputs": [],
   "source": [
    "insert_files(4)\n",
    "\n",
    "station_name = station['台南喜福站']\n",
    "languages = ['Chinese', 'Japanese', 'English']\n",
    "quake_forecast = [\n",
    "    {'color': Red,\n",
    "    'time': 9,\n",
    "    'location': {\n",
    "        'Chinese': '菲律賓或台東，',\n",
    "        'Japanese': 'フィリピンまたは台東、',\n",
    "        'English': 'Philippines or Taitung, '},\n",
    "    'magnitude': 'M7+~M8+'}]\n",
    "\n",
    "time_stamp = get_time_stamp()\n",
    "(blog_title, blog_title_str) = publish_Quake_Forecast(quake_forecast, \n",
    "                                    station_name, languages, time_stamp)\n",
    "view_blog()\n",
    "close_Blogger_article_list()\n",
    "\n",
    "blog_address = get_blog_address()\n",
    "post_Quake_Forecast(quake_forecast, station_name, time_stamp,\n",
    "            blog_address, blog_title_str)"
   ]
  },
  {
   "cell_type": "code",
   "execution_count": 78,
   "metadata": {
    "collapsed": false
   },
   "outputs": [],
   "source": [
    "insert_files(6)\n",
    "\n",
    "station_name = station['宜蘭站']\n",
    "languages = ['Chinese', 'Japanese', 'English']\n",
    "quake_forecast = [\n",
    "    {'color': Yellow,\n",
    "    'time': 2,\n",
    "    'location': {\n",
    "        'Chinese': '南日本、菲律賓、東台灣或南台灣，',\n",
    "        'Japanese': '南日本、フィリピン、東台湾または南台灣、',\n",
    "        'English': 'South Japan, Philippines, East Twiwan or South Taiwan, '},\n",
    "    'magnitude': 'M6+ ~ M7+'},\n",
    "    {'color': Red,\n",
    "    'time': 9,\n",
    "    'location': {\n",
    "        'Chinese': '南日本、菲律賓、東台灣或南台灣，',\n",
    "        'Japanese': '南日本、フィリピン、東台湾または南台灣、',\n",
    "        'English': 'South Japan, Philippines, East Twiwan or South Taiwan, '},\n",
    "    'magnitude': 'M7+~M8+'}]\n",
    "\n",
    "time_stamp = get_time_stamp()\n",
    "(blog_title, blog_title_str) = publish_Quake_Forecast(quake_forecast, \n",
    "                                    station_name, languages, time_stamp)\n",
    "view_blog()\n",
    "close_Blogger_article_list()\n",
    "\n",
    "blog_address = get_blog_address()\n",
    "post_Quake_Forecast(quake_forecast, station_name, time_stamp,\n",
    "            blog_address, blog_title_str)"
   ]
  },
  {
   "cell_type": "code",
   "execution_count": null,
   "metadata": {
    "collapsed": false
   },
   "outputs": [],
   "source": [
    "blog_address = get_blog_address()\n",
    "post_Quake_Forecast(quake_forecast, station_name, time_stamp,\n",
    "            blog_address, blog_title_str)"
   ]
  },
  {
   "cell_type": "code",
   "execution_count": null,
   "metadata": {
    "collapsed": false
   },
   "outputs": [],
   "source": [
    "post_to_Facebook(1)\n",
    "post_to_Facebook(2)\n",
    "post_to_Facebook(3)"
   ]
  },
  {
   "cell_type": "code",
   "execution_count": null,
   "metadata": {
    "collapsed": false
   },
   "outputs": [],
   "source": [
    "blog_address = get_blog_address()\n",
    "post_Quake_Forecast(quake_forecast, station_name, time_stamp,\n",
    "            blog_address, blog_title_str)"
   ]
  },
  {
   "cell_type": "code",
   "execution_count": 10,
   "metadata": {
    "collapsed": false
   },
   "outputs": [
    {
     "ename": "FailSafeException",
     "evalue": "PyAutoGUI fail-safe triggered from mouse moving to upper-left corner. To disable this fail-safe, set pyautogui.FAILSAFE to False.",
     "output_type": "error",
     "traceback": [
      "\u001b[0;31m---------------------------------------------------------------------------\u001b[0m",
      "\u001b[0;31mFailSafeException\u001b[0m                         Traceback (most recent call last)",
      "\u001b[0;32m<ipython-input-10-0504f2317a14>\u001b[0m in \u001b[0;36m<module>\u001b[0;34m()\u001b[0m\n\u001b[1;32m      1\u001b[0m \u001b[0mpost_to_Facebook\u001b[0m\u001b[1;33m(\u001b[0m\u001b[1;36m1\u001b[0m\u001b[1;33m)\u001b[0m\u001b[1;33m\u001b[0m\u001b[0m\n\u001b[1;32m      2\u001b[0m \u001b[0mpost_to_Facebook\u001b[0m\u001b[1;33m(\u001b[0m\u001b[1;36m2\u001b[0m\u001b[1;33m)\u001b[0m\u001b[1;33m\u001b[0m\u001b[0m\n\u001b[0;32m----> 3\u001b[0;31m \u001b[0mpost_to_Facebook\u001b[0m\u001b[1;33m(\u001b[0m\u001b[1;36m3\u001b[0m\u001b[1;33m)\u001b[0m\u001b[1;33m\u001b[0m\u001b[0m\n\u001b[0m",
      "\u001b[0;32mC:\\Users\\Dyson\\Desktop\\Quake-Forecast-Utilities\\quake_forecast.py\u001b[0m in \u001b[0;36mpost_to_Facebook\u001b[0;34m(tab_number)\u001b[0m\n\u001b[1;32m    793\u001b[0m         \u001b[1;32mfor\u001b[0m \u001b[0mi\u001b[0m \u001b[1;32min\u001b[0m \u001b[0mrange\u001b[0m\u001b[1;33m(\u001b[0m\u001b[1;36m0\u001b[0m\u001b[1;33m,\u001b[0m \u001b[1;36m14\u001b[0m\u001b[1;33m)\u001b[0m\u001b[1;33m:\u001b[0m\u001b[1;33m\u001b[0m\u001b[0m\n\u001b[1;32m    794\u001b[0m         \u001b[1;31m#for i in range(0, 13):\u001b[0m\u001b[1;33m\u001b[0m\u001b[1;33m\u001b[0m\u001b[0m\n\u001b[0;32m--> 795\u001b[0;31m             \u001b[0mpyautogui\u001b[0m\u001b[1;33m.\u001b[0m\u001b[0mpress\u001b[0m\u001b[1;33m(\u001b[0m\u001b[1;34m'tab'\u001b[0m\u001b[1;33m)\u001b[0m\u001b[1;33m\u001b[0m\u001b[0m\n\u001b[0m\u001b[1;32m    796\u001b[0m             \u001b[0mtime\u001b[0m\u001b[1;33m.\u001b[0m\u001b[0msleep\u001b[0m\u001b[1;33m(\u001b[0m\u001b[1;36m1\u001b[0m\u001b[1;33m)\u001b[0m\u001b[1;33m\u001b[0m\u001b[0m\n\u001b[1;32m    797\u001b[0m         \u001b[0mpyautogui\u001b[0m\u001b[1;33m.\u001b[0m\u001b[0mpress\u001b[0m\u001b[1;33m(\u001b[0m\u001b[1;34m'enter'\u001b[0m\u001b[1;33m)\u001b[0m\u001b[1;33m\u001b[0m\u001b[0m\n",
      "\u001b[0;32mC:\\Users\\Dyson\\Anaconda3\\lib\\site-packages\\pyautogui\\__init__.py\u001b[0m in \u001b[0;36mpress\u001b[0;34m(keys, presses, interval, pause, _pause)\u001b[0m\n\u001b[1;32m    926\u001b[0m     \u001b[1;32mfor\u001b[0m \u001b[0mi\u001b[0m \u001b[1;32min\u001b[0m \u001b[0mrange\u001b[0m\u001b[1;33m(\u001b[0m\u001b[0mpresses\u001b[0m\u001b[1;33m)\u001b[0m\u001b[1;33m:\u001b[0m\u001b[1;33m\u001b[0m\u001b[0m\n\u001b[1;32m    927\u001b[0m         \u001b[1;32mfor\u001b[0m \u001b[0mk\u001b[0m \u001b[1;32min\u001b[0m \u001b[0mkeys\u001b[0m\u001b[1;33m:\u001b[0m\u001b[1;33m\u001b[0m\u001b[0m\n\u001b[0;32m--> 928\u001b[0;31m             \u001b[0m_failSafeCheck\u001b[0m\u001b[1;33m(\u001b[0m\u001b[1;33m)\u001b[0m\u001b[1;33m\u001b[0m\u001b[0m\n\u001b[0m\u001b[1;32m    929\u001b[0m             \u001b[0mplatformModule\u001b[0m\u001b[1;33m.\u001b[0m\u001b[0m_keyDown\u001b[0m\u001b[1;33m(\u001b[0m\u001b[0mk\u001b[0m\u001b[1;33m)\u001b[0m\u001b[1;33m\u001b[0m\u001b[0m\n\u001b[1;32m    930\u001b[0m             \u001b[0mplatformModule\u001b[0m\u001b[1;33m.\u001b[0m\u001b[0m_keyUp\u001b[0m\u001b[1;33m(\u001b[0m\u001b[0mk\u001b[0m\u001b[1;33m)\u001b[0m\u001b[1;33m\u001b[0m\u001b[0m\n",
      "\u001b[0;32mC:\\Users\\Dyson\\Anaconda3\\lib\\site-packages\\pyautogui\\__init__.py\u001b[0m in \u001b[0;36m_failSafeCheck\u001b[0;34m()\u001b[0m\n\u001b[1;32m   1008\u001b[0m \u001b[1;32mdef\u001b[0m \u001b[0m_failSafeCheck\u001b[0m\u001b[1;33m(\u001b[0m\u001b[1;33m)\u001b[0m\u001b[1;33m:\u001b[0m\u001b[1;33m\u001b[0m\u001b[0m\n\u001b[1;32m   1009\u001b[0m     \u001b[1;32mif\u001b[0m \u001b[0mFAILSAFE\u001b[0m \u001b[1;32mand\u001b[0m \u001b[0mposition\u001b[0m\u001b[1;33m(\u001b[0m\u001b[1;33m)\u001b[0m \u001b[1;33m==\u001b[0m \u001b[1;33m(\u001b[0m\u001b[1;36m0\u001b[0m\u001b[1;33m,\u001b[0m \u001b[1;36m0\u001b[0m\u001b[1;33m)\u001b[0m\u001b[1;33m:\u001b[0m\u001b[1;33m\u001b[0m\u001b[0m\n\u001b[0;32m-> 1010\u001b[0;31m         \u001b[1;32mraise\u001b[0m \u001b[0mFailSafeException\u001b[0m\u001b[1;33m(\u001b[0m\u001b[1;34m'PyAutoGUI fail-safe triggered from mouse moving to upper-left corner. To disable this fail-safe, set pyautogui.FAILSAFE to False.'\u001b[0m\u001b[1;33m)\u001b[0m\u001b[1;33m\u001b[0m\u001b[0m\n\u001b[0m\u001b[1;32m   1011\u001b[0m \u001b[1;33m\u001b[0m\u001b[0m\n\u001b[1;32m   1012\u001b[0m \u001b[1;33m\u001b[0m\u001b[0m\n",
      "\u001b[0;31mFailSafeException\u001b[0m: PyAutoGUI fail-safe triggered from mouse moving to upper-left corner. To disable this fail-safe, set pyautogui.FAILSAFE to False."
     ]
    }
   ],
   "source": [
    "post_to_Facebook(1)\n",
    "post_to_Facebook(2)\n",
    "post_to_Facebook(3)"
   ]
  }
 ],
 "metadata": {
  "anaconda-cloud": {},
  "kernelspec": {
   "display_name": "Python 3",
   "language": "python",
   "name": "python3"
  },
  "language_info": {
   "codemirror_mode": {
    "name": "ipython",
    "version": 3
   },
   "file_extension": ".py",
   "mimetype": "text/x-python",
   "name": "python",
   "nbconvert_exporter": "python",
   "pygments_lexer": "ipython3",
   "version": "3.6.0"
  }
 },
 "nbformat": 4,
 "nbformat_minor": 1
}
