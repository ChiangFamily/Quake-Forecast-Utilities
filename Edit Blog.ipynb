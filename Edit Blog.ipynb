{
 "cells": [
  {
   "cell_type": "code",
   "execution_count": 1,
   "metadata": {
    "collapsed": false
   },
   "outputs": [],
   "source": [
    "import time\n",
    "from quake_forecast import get_date_stamp, get_time_stamp\n",
    "from quake_forecast import name_new_files, analyze_file\n",
    "from quake_forecast import insert_files, station\n",
    "from quake_forecast import Red, Orange, Yellow, Green, Blue, Purple\n",
    "from quake_forecast import get_Quake_Signals_title, set_blog_title\n",
    "from quake_forecast import get_Quake_Signals_text, set_blog_text\n",
    "from quake_forecast import publish_blog\n",
    "from quake_forecast import publish_Quake_Forecast, view_blog\n",
    "from quake_forecast import close_Blogger_article_list, get_blog_address\n",
    "from quake_forecast import post_Quake_Forecast, post_to_Facebook"
   ]
  },
  {
   "cell_type": "code",
   "execution_count": 25,
   "metadata": {
    "collapsed": false
   },
   "outputs": [],
   "source": [
    "name_new_files(file_number=1, to_WeChat=False, date_stamp='2017-06-20')"
   ]
  },
  {
   "cell_type": "code",
   "execution_count": 32,
   "metadata": {
    "collapsed": false
   },
   "outputs": [],
   "source": [
    "name_new_files(file_number=4, to_WeChat=True, date_stamp='2017-06-20')"
   ]
  },
  {
   "cell_type": "code",
   "execution_count": 33,
   "metadata": {
    "collapsed": false
   },
   "outputs": [],
   "source": [
    "analyze_file(1)"
   ]
  },
  {
   "cell_type": "code",
   "execution_count": 34,
   "metadata": {
    "collapsed": true
   },
   "outputs": [],
   "source": [
    "analyze_file(2)"
   ]
  },
  {
   "cell_type": "code",
   "execution_count": 35,
   "metadata": {
    "collapsed": true
   },
   "outputs": [],
   "source": [
    "analyze_file(3)"
   ]
  },
  {
   "cell_type": "code",
   "execution_count": 36,
   "metadata": {
    "collapsed": true
   },
   "outputs": [],
   "source": [
    "analyze_file(4)"
   ]
  },
  {
   "cell_type": "code",
   "execution_count": null,
   "metadata": {
    "collapsed": true
   },
   "outputs": [],
   "source": [
    "analyze_file(5)"
   ]
  },
  {
   "cell_type": "code",
   "execution_count": 37,
   "metadata": {
    "collapsed": false
   },
   "outputs": [],
   "source": [
    "insert_files(7)\n",
    "\n",
    "station_name = station['宜蘭站']\n",
    "languages = ['Chinese', 'Japanese', 'English']\n",
    "quake_forecast = [\n",
    "    {'color': Red,\n",
    "    'time': 6,\n",
    "    'location': {\n",
    "        'Chinese': '緬甸、菲律賓、東台灣、南台灣、南日本、印尼或智利，',\n",
    "        'Japanese': 'ミャンマー、フィリピン、東台湾、南台湾、南日本、インドネシアまたはチリ、',\n",
    "        'English': 'Myanmar, Philippines, East Taiwan, South Taiwan, South Japan, Indonesia or Chile, '},\n",
    "    'magnitude': 'M7+ ~ M8+'}]\n",
    "\n",
    "time_stamp = get_time_stamp()\n",
    "(blog_title, blog_title_str) = publish_Quake_Forecast(quake_forecast, \n",
    "                                    station_name, languages, time_stamp)\n",
    "view_blog()\n",
    "close_Blogger_article_list()\n",
    "\n",
    "blog_address = get_blog_address()\n",
    "post_Quake_Forecast(quake_forecast, station_name, time_stamp,\n",
    "            blog_address, blog_title_str)"
   ]
  },
  {
   "cell_type": "code",
   "execution_count": 14,
   "metadata": {
    "collapsed": false
   },
   "outputs": [],
   "source": [
    "blog_address = get_blog_address()\n",
    "post_Quake_Forecast(quake_forecast, station_name, time_stamp,\n",
    "            blog_address, blog_title_str)"
   ]
  },
  {
   "cell_type": "code",
   "execution_count": null,
   "metadata": {
    "collapsed": false
   },
   "outputs": [],
   "source": [
    "post_to_Facebook(1)\n",
    "post_to_Facebook(2)\n",
    "post_to_Facebook(3)"
   ]
  },
  {
   "cell_type": "code",
   "execution_count": null,
   "metadata": {
    "collapsed": true
   },
   "outputs": [],
   "source": [
    "insert_files(1)\n",
    "\n",
    "station_name = station['上海站']\n",
    "languages = ['Chinese', 'Japanese', 'English']\n",
    "quake_forecast = [\n",
    "    {'color': Red,\n",
    "    'time': 10,\n",
    "    'location': {\n",
    "        'Chinese': '南美洲，',\n",
    "        'Japanese': '南米、',\n",
    "        'English': 'South America, '},\n",
    "    'magnitude': 'M7+'}]\n",
    "\n",
    "time_stamp = get_time_stamp()\n",
    "(blog_title, blog_title_str) = publish_Quake_Forecast(quake_forecast, \n",
    "                                    station_name, languages, time_stamp)\n",
    "view_blog()\n",
    "close_Blogger_article_list()\n",
    "\n",
    "blog_address = get_blog_address()\n",
    "post_Quake_Forecast(quake_forecast, station_name, time_stamp,\n",
    "            blog_address, blog_title_str)"
   ]
  },
  {
   "cell_type": "code",
   "execution_count": null,
   "metadata": {
    "collapsed": true
   },
   "outputs": [],
   "source": [
    "insert_files(1)\n",
    "\n",
    "station_name = station['洛杉磯站']\n",
    "languages = ['Chinese', 'Japanese', 'English']\n",
    "quake_forecast = [\n",
    "    {'color': Red,\n",
    "    'time': 7,\n",
    "    'location': {\n",
    "        'Chinese': '緬甸、菲律賓、東台灣、南台灣、南日本、印尼或智利，',\n",
    "        'Japanese': 'ミャンマー、フィリピン、東台湾、南台湾、南日本、インドネシアまたはチリ、',\n",
    "        'English': 'Myanmar, Philippines, East Taiwan, South Taiwan, South Japan, Indonesia or Chile, '},\n",
    "    'magnitude': 'M7+ ~ M8+'},\n",
    "    {'color': Orange,\n",
    "    'time': 10,\n",
    "    'location': {\n",
    "        'Chinese': '北日本、俄羅斯或阿拉斯加，',\n",
    "        'Japanese': '北日本、ロシアまたはアラスカ、',\n",
    "        'English': 'North Japan, Russia or Alaska, '},\n",
    "    'magnitude': 'M6+ ~ M7+'}]\n",
    "\n",
    "time_stamp = get_time_stamp()\n",
    "(blog_title, blog_title_str) = publish_Quake_Forecast(quake_forecast, \n",
    "                                    station_name, languages, time_stamp)\n",
    "view_blog()\n",
    "close_Blogger_article_list()\n",
    "\n",
    "blog_address = get_blog_address()\n",
    "post_Quake_Forecast(quake_forecast, station_name, time_stamp,\n",
    "            blog_address, blog_title_str)"
   ]
  }
 ],
 "metadata": {
  "anaconda-cloud": {},
  "kernelspec": {
   "display_name": "Python 3",
   "language": "python",
   "name": "python3"
  },
  "language_info": {
   "codemirror_mode": {
    "name": "ipython",
    "version": 3
   },
   "file_extension": ".py",
   "mimetype": "text/x-python",
   "name": "python",
   "nbconvert_exporter": "python",
   "pygments_lexer": "ipython3",
   "version": "3.6.0"
  }
 },
 "nbformat": 4,
 "nbformat_minor": 1
}
