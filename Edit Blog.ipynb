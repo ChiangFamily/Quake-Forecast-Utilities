{
 "cells": [
  {
   "cell_type": "code",
   "execution_count": 1,
   "metadata": {
    "collapsed": false
   },
   "outputs": [],
   "source": [
    "import pyautogui\n",
    "import time\n",
    "import pyperclip\n",
    "pyautogui.PAUSE = 0.1\n",
    "pyautogui.FAILSAFE = True"
   ]
  },
  {
   "cell_type": "code",
   "execution_count": 2,
   "metadata": {
    "collapsed": true
   },
   "outputs": [],
   "source": [
    "station = {}\n",
    "\n",
    "station['台灣各站'] = {\n",
    "    'Chinese': '台灣各站', \n",
    "    'Japanese': '台湾各局', \n",
    "    'English': 'Taiwan Stations '}\n",
    "\n",
    "station['南非德本站'] = {\n",
    "    'Chinese': '南非德本站', \n",
    "    'Japanese': '南アフリカ ダーバン局', \n",
    "    'English': 'Durban, South Africa Station '}\n",
    "\n",
    "station['義大利法恩扎站'] = {\n",
    "    'Chinese': '義大利法恩扎站', \n",
    "    'Japanese': 'イタリア ファエンツァ局', \n",
    "    'English': 'Faenza, Italy Station '}\n",
    "\n",
    "station['南投草屯站'] = {\n",
    "    'Chinese': '南投草屯站', \n",
    "    'Japanese': '南投草屯局', \n",
    "    'English': 'Nantou Caotun Station '}\n",
    "\n",
    "station['台南熱心站'] = {\n",
    "    'Chinese': '台南熱心站', \n",
    "    'Japanese': '台南熱心局', \n",
    "    'English': 'Tainan Hot Heart Station '}\n",
    "\n",
    "station['台南喜福站'] = {\n",
    "    'Chinese': '台南喜福站', \n",
    "    'Japanese': '台南喜福局', \n",
    "    'English': 'Tainan Joy & Luck Station '}\n",
    "\n",
    "station['台南新生站'] = {\n",
    "    'Chinese': '台南新生站', \n",
    "    'Japanese': '台南新生局', \n",
    "    'English': 'Tainan Xinsheng Station '}\n",
    "\n",
    "station['高雄站'] = {\n",
    "    'Chinese': '高雄站', \n",
    "    'Japanese': '高雄局', \n",
    "    'English': 'Kaohsiung Station '}\n",
    "\n",
    "station['台中潭子站'] = {\n",
    "    'Chinese': '台中潭子站', \n",
    "    'Japanese': '台中潭子局', \n",
    "    'English': 'Taichung Tantzu Station '}\n",
    "\n",
    "station['桃園站'] = {\n",
    "    'Chinese': '桃園站', \n",
    "    'Japanese': '桃園局', \n",
    "    'English': 'Taoyuan Station '}\n",
    "\n",
    "station['宜蘭站'] = {\n",
    "    'Chinese': '宜蘭站', \n",
    "    'Japanese': '宜蘭局', \n",
    "    'English': 'Yilan Station '}\n",
    "\n",
    "station['台中大里站'] = {\n",
    "    'Chinese': '台中大里站', \n",
    "    'Japanese': '台中大里局', \n",
    "    'English': 'Taichung Dali Station '}\n",
    "\n",
    "station['智利伊基克站'] = {\n",
    "    'Chinese': '智利伊基克站', \n",
    "    'Japanese': 'チリ イキケ局', \n",
    "    'English': 'Iquique, Chile Station '}\n"
   ]
  },
  {
   "cell_type": "code",
   "execution_count": 57,
   "metadata": {
    "collapsed": true
   },
   "outputs": [],
   "source": [
    "quake_forecast_title = {\n",
    "    'Chinese': '地震預報：',\n",
    "    'Japanese': '地震予報：',\n",
    "    'English': 'Quake Forecast: '\n",
    "}\n",
    "\n",
    "quake_signals_title = {\n",
    "    'Chinese': '地震訊號：',\n",
    "    'Japanese': '地震信号：',\n",
    "    'English': 'Quake Signals: '\n",
    "}\n",
    "\n",
    "author = {\n",
    "    'Chinese': '台灣地震預測研究所 所長\\n林湧森',\n",
    "    'Japanese': '台湾地震予測研究所 所長\\n林湧森',\n",
    "    'English': 'Dyson Lin\\nFounder & CEO, Taiwan Quake Forecast Institute'}"
   ]
  },
  {
   "cell_type": "code",
   "execution_count": 77,
   "metadata": {
    "collapsed": false
   },
   "outputs": [],
   "source": [
    "Already_happened = {\n",
    "    'Chinese': '已經發生：',\n",
    "    'Japanese': '発生しました：',\n",
    "    'English': 'Already happened: '}\n",
    "\n",
    "Within = {\n",
    "    'Chinese': '',\n",
    "    'Japanese': '',\n",
    "    'English': 'Within '}\n",
    "\n",
    "Days = {\n",
    "    'Chinese': '日以內，',\n",
    "    'Japanese': '日以內に、',\n",
    "    'English': ' days, '}"
   ]
  },
  {
   "cell_type": "code",
   "execution_count": 5,
   "metadata": {
    "collapsed": true
   },
   "outputs": [],
   "source": [
    "Red = {\n",
    "    'Chinese': '紅：',\n",
    "    'Japanese': '赤：',\n",
    "    'English': 'Red: '}\n",
    "\n",
    "Orange = {\n",
    "    'Chinese': '橙：',\n",
    "    'Japanese': 'オレンジ：',\n",
    "    'English': 'Orange: '}\n",
    "\n",
    "Yellow = {\n",
    "    'Chinese': '黃：',\n",
    "    'Japanese': '黃：',\n",
    "    'English': 'Yellow: '}\n",
    "\n",
    "Green = {\n",
    "    'Chinese': '綠：',\n",
    "    'Japanese': '綠：',\n",
    "    'English': 'Green: '}\n",
    "\n",
    "Blue = {\n",
    "    'Chinese': '藍：',\n",
    "    'Japanese': '青：',\n",
    "    'English': 'Blue: '}\n",
    "\n",
    "Purple = {\n",
    "    'Chinese': '紫：',\n",
    "    'Japanese': '紫：',\n",
    "    'English': 'Purple: '}"
   ]
  },
  {
   "cell_type": "code",
   "execution_count": 6,
   "metadata": {
    "collapsed": true
   },
   "outputs": [],
   "source": [
    "def get_time_stamp():\n",
    "    time_stamp = time.strftime(\"%Y-%m-%d\")\n",
    "    time_stamp += ' '\n",
    "    time_stamp += time.strftime(\"%H:%M\")\n",
    "    time_stamp += ' UTC+8'\n",
    "    return time_stamp"
   ]
  },
  {
   "cell_type": "code",
   "execution_count": 7,
   "metadata": {
    "collapsed": true
   },
   "outputs": [],
   "source": [
    "def locate_and_click(png_file_name):\n",
    "    x, y = pyautogui.locateCenterOnScreen(png_file_name) # locate\n",
    "    pyautogui.moveTo(x, y)\n",
    "    time.sleep(0.1)\n",
    "    pyautogui.click() # click"
   ]
  },
  {
   "cell_type": "code",
   "execution_count": 8,
   "metadata": {
    "collapsed": true
   },
   "outputs": [],
   "source": [
    "def click_Blogger_tab():\n",
    "    locate_and_click('BloggerTab.png')\n",
    "    #x, y = pyautogui.locateCenterOnScreen('BloggerTab.png', region=(0,0, 1919, 50)) # locate\n",
    "    #pyautogui.moveTo(x, y)\n",
    "    #time.sleep(1)\n",
    "    #pyautogui.click() # click"
   ]
  },
  {
   "cell_type": "code",
   "execution_count": 9,
   "metadata": {
    "collapsed": true
   },
   "outputs": [],
   "source": [
    "def click_Blog_Title():\n",
    "    #locate_and_click('BlogTitle.png')\n",
    "    pyautogui.moveTo(1147, 216)\n",
    "    time.sleep(0.1)\n",
    "    pyautogui.click() # click"
   ]
  },
  {
   "cell_type": "code",
   "execution_count": 10,
   "metadata": {
    "collapsed": true
   },
   "outputs": [],
   "source": [
    "Facebook_tab_1_x = 0\n",
    "Facebook_tab_2_x = 0\n",
    "Facebook_tab_3_x = 0"
   ]
  },
  {
   "cell_type": "code",
   "execution_count": 11,
   "metadata": {
    "collapsed": true
   },
   "outputs": [],
   "source": [
    "def click_Publish_button():\n",
    "    #x, y = pyautogui.locateCenterOnScreen('PublishButton.png', region=(1400,135, 469, 945)) # locate\n",
    "    x, y = pyautogui.locateCenterOnScreen('PublishButton.png') # locate\n",
    "    pyautogui.moveTo(x, y)\n",
    "    time.sleep(0.1)\n",
    "    pyautogui.click() # click"
   ]
  },
  {
   "cell_type": "code",
   "execution_count": 12,
   "metadata": {
    "collapsed": true
   },
   "outputs": [],
   "source": [
    "already_happened = [\n",
    "    {'color': Red,\n",
    "    'time': '2017-04-15 16:19 UTC+8',\n",
    "    'location': {\n",
    "        'Chinese': '智利',\n",
    "        'Japanese': 'チリ',\n",
    "        'English': 'Chile'},\n",
    "    'magnitude': 'M6.2'},\n",
    "    {'color': Orange,\n",
    "    'time': '2017-04-25 05:38 UTC+8',\n",
    "    'location': {\n",
    "        'Chinese': '智利',\n",
    "        'Japanese': 'チリ',\n",
    "        'English': 'Chile'},\n",
    "    'magnitude': 'M6.9'}]\n",
    "\n",
    "print_already_happened = True"
   ]
  },
  {
   "cell_type": "code",
   "execution_count": 13,
   "metadata": {
    "collapsed": false
   },
   "outputs": [],
   "source": [
    "# 發生了： 発生了： Happened:\n",
    "# (1)2017-04-15 16:19 UTC+8 智利 チリ Chile M6.2\n",
    "# (2)2017-04-25 05:38 UTC+8 智利 チリ Chile M6.9\n"
   ]
  },
  {
   "cell_type": "code",
   "execution_count": 38,
   "metadata": {
    "collapsed": false
   },
   "outputs": [],
   "source": [
    "#發生了： 発生了： Happened:\n",
    "#2017-04-29 04:23 UTC+8 M6.8 菲律賓 フィリピン Philippines\n"
   ]
  },
  {
   "cell_type": "code",
   "execution_count": 39,
   "metadata": {
    "collapsed": true
   },
   "outputs": [],
   "source": [
    "def set_blog_title():\n",
    "    click_Blogger_tab()\n",
    "    click_Blog_Title()\n",
    "    \n",
    "    # paste from clipboard\n",
    "    pyautogui.rightClick()\n",
    "    pyautogui.press('down')\n",
    "    pyautogui.press('down')\n",
    "    pyautogui.press('p')\n",
    "    time.sleep(0.1)\n",
    "    pyautogui.press('enter')"
   ]
  },
  {
   "cell_type": "code",
   "execution_count": 122,
   "metadata": {
    "collapsed": true
   },
   "outputs": [],
   "source": [
    "def get_Quake_Forecast_title(languages): \n",
    "    blog_title = {}\n",
    "    for language in languages:\n",
    "        blog_title[language] = station_name[language]\n",
    "        blog_title[language] += quake_forecast_title[language]\n",
    "        quake_number = 0\n",
    "        for quake in quake_forecast:\n",
    "            quake_number += 1\n",
    "            blog_title[language] += '('\n",
    "            blog_title[language] += str(quake_number)\n",
    "            blog_title[language] += ')'\n",
    "            blog_title[language] += quake['color'][language]\n",
    "            blog_title[language] += Within[language]\n",
    "            blog_title[language] += str(quake['time'])\n",
    "            blog_title[language] += Days[language]\n",
    "            blog_title[language] += quake['location'][language]\n",
    "            blog_title[language] += quake['magnitude']\n",
    "            blog_title[language] += ' '\n",
    "    \n",
    "    blog_title_str = (time_stamp + ' ')\n",
    "    \n",
    "    for language in languages:\n",
    "        blog_title_str += (blog_title[language])\n",
    "    \n",
    "    blog_title_str = blog_title_str.strip() # remove extra white space\n",
    "    print(blog_title_str)\n",
    "    pyperclip.copy(blog_title_str) # copy to clipboard\n",
    "    \n",
    "    return (blog_title, blog_title_str)"
   ]
  },
  {
   "cell_type": "code",
   "execution_count": 123,
   "metadata": {
    "collapsed": true
   },
   "outputs": [],
   "source": [
    "def get_Quake_Forecast_text(languages):\n",
    "    blog_text = {}\n",
    "    for language in languages:\n",
    "        blog_text[language] = station_name[language]\n",
    "        blog_text[language] += quake_forecast_title[language] + '\\n'\n",
    "        quake_number = 0\n",
    "        for quake in quake_forecast:\n",
    "            quake_number += 1\n",
    "            blog_text[language] += '('\n",
    "            blog_text[language] += str(quake_number)\n",
    "            blog_text[language] += ')'\n",
    "            blog_text[language] += quake['color'][language]\n",
    "            blog_text[language] += Within[language]\n",
    "            blog_text[language] += str(quake['time'])\n",
    "            blog_text[language] += Days[language]\n",
    "            blog_text[language] += quake['location'][language]\n",
    "            blog_text[language] += quake['magnitude']\n",
    "            blog_text[language] += '\\n'\n",
    "        blog_text[language] += '\\n'    \n",
    "        blog_text[language] += author[language]\n",
    "        blog_text[language] += '\\n'\n",
    "        blog_text[language] += time_stamp\n",
    "        blog_text[language] += '\\n\\n\\n'\n",
    "\n",
    "    blog_text_str = ''        \n",
    "    for language in languages:\n",
    "        blog_text_str += blog_text[language]\n",
    "    blog_text_str = blog_text_str.strip() # remove extra white space\n",
    "    print(blog_text_str)\n",
    "    pyperclip.copy(blog_text_str) # copy to clipboard"
   ]
  },
  {
   "cell_type": "code",
   "execution_count": 117,
   "metadata": {
    "collapsed": true
   },
   "outputs": [],
   "source": [
    "def get_Quake_Signals_title(languages): \n",
    "    blog_title = {}\n",
    "    for language in languages:\n",
    "        blog_title[language] = station_name[language]\n",
    "        blog_title[language] += quake_signals_title[language]\n",
    "        blog_title[language] += Already_happened[language]\n",
    "        quake_number = 0\n",
    "        for quake in quake_signals:\n",
    "            quake_number += 1\n",
    "            blog_title[language] += '('\n",
    "            blog_title[language] += str(quake_number)\n",
    "            blog_title[language] += ')'\n",
    "            blog_title[language] += quake['color'][language]\n",
    "            #blog_title[language] += Within[language]\n",
    "            blog_title[language] += str(quake['time'])\n",
    "            blog_title[language] += ' '\n",
    "            blog_title[language] += quake['location'][language]\n",
    "            blog_title[language] += ' '\n",
    "            blog_title[language] += quake['magnitude']\n",
    "            blog_title[language] += ' '\n",
    "    \n",
    "    blog_title_str = (time_stamp + ' ')\n",
    "    \n",
    "    for language in languages:\n",
    "        blog_title_str += (blog_title[language])\n",
    "    \n",
    "    blog_title_str = blog_title_str.strip() # remove extra white space\n",
    "    print(blog_title_str)\n",
    "    pyperclip.copy(blog_title_str) # copy to clipboard\n",
    "    \n",
    "    return (blog_title, blog_title_str)"
   ]
  },
  {
   "cell_type": "code",
   "execution_count": 116,
   "metadata": {
    "collapsed": true
   },
   "outputs": [],
   "source": [
    "def get_Quake_Signals_text(languages):\n",
    "    blog_text = {}\n",
    "    for language in languages:\n",
    "        blog_text[language] = station_name[language]\n",
    "        blog_text[language] += quake_signals_title[language] + '\\n'\n",
    "        blog_text[language] += Already_happened[language] + '\\n'\n",
    "        quake_number = 0\n",
    "        for quake in quake_signals:\n",
    "            quake_number += 1\n",
    "            blog_text[language] += '('\n",
    "            blog_text[language] += str(quake_number)\n",
    "            blog_text[language] += ')'\n",
    "            blog_text[language] += quake['color'][language]\n",
    "            #blog_text[language] += Within[language]\n",
    "            blog_text[language] += str(quake['time'])\n",
    "            blog_text[language] += ' '\n",
    "            #blog_text[language] += Days[language]\n",
    "            blog_text[language] += quake['location'][language]\n",
    "            blog_text[language] += ' '\n",
    "            blog_text[language] += quake['magnitude']\n",
    "            blog_text[language] += '\\n'\n",
    "        blog_text[language] += '\\n'    \n",
    "        blog_text[language] += author[language]\n",
    "        blog_text[language] += '\\n'\n",
    "        blog_text[language] += time_stamp\n",
    "        blog_text[language] += '\\n\\n\\n'\n",
    "\n",
    "    blog_text_str = ''        \n",
    "    for language in languages:\n",
    "        blog_text_str += blog_text[language]\n",
    "    blog_text_str = blog_text_str.strip() # remove extra white space\n",
    "    print(blog_text_str)\n",
    "    pyperclip.copy(blog_text_str) # copy to clipboard"
   ]
  },
  {
   "cell_type": "code",
   "execution_count": 42,
   "metadata": {
    "collapsed": true
   },
   "outputs": [],
   "source": [
    "def scroll_down():\n",
    "    pyautogui.moveTo(1100, 600)\n",
    "    time.sleep(1)\n",
    "    pyautogui.scroll(-10000) # scroll down\n",
    "    time.sleep(1)"
   ]
  },
  {
   "cell_type": "code",
   "execution_count": 43,
   "metadata": {
    "collapsed": true
   },
   "outputs": [],
   "source": [
    "def click_Edit_area():    \n",
    "    # click bottom of Edit area\n",
    "    pyautogui.moveTo(1100, 1000)\n",
    "    time.sleep(1)\n",
    "    pyautogui.click()\n",
    "    time.sleep(1)"
   ]
  },
  {
   "cell_type": "code",
   "execution_count": 44,
   "metadata": {
    "collapsed": true
   },
   "outputs": [],
   "source": [
    "def get_blog_address():\n",
    "    # get blog address\n",
    "\n",
    "    click_Blogger_tab()\n",
    "\n",
    "    pyautogui.moveTo(710, 61)\n",
    "    pyautogui.tripleClick()\n",
    "    pyautogui.rightClick()\n",
    "    time.sleep(0.5)\n",
    "    pyautogui.press('down')\n",
    "    pyautogui.press('down')\n",
    "    pyautogui.press('c') # copy blog address to clipboard\n",
    "    blog_address = pyperclip.paste() # read blog address from clipboard\n",
    "    print('Blog address: ' + blog_address)\n",
    "    print()\n",
    "    return blog_address"
   ]
  },
  {
   "cell_type": "code",
   "execution_count": 45,
   "metadata": {
    "collapsed": true
   },
   "outputs": [],
   "source": [
    "def set_blog_text():\n",
    "    click_Blogger_tab()\n",
    "    scroll_down()\n",
    "    click_Edit_area()\n",
    "    pyautogui.press('backspace')\n",
    "\n",
    "    pyautogui.rightClick()\n",
    "    pyautogui.press('down')\n",
    "    pyautogui.press('down')\n",
    "    pyautogui.press('p') # paste from clipboard"
   ]
  },
  {
   "cell_type": "code",
   "execution_count": 104,
   "metadata": {
    "collapsed": true
   },
   "outputs": [],
   "source": [
    "def click_Facebook_tab(tab_number):\n",
    "    global Facebook_tab_1_x\n",
    "    global Facebook_tab_2_x\n",
    "    global Facebook_tab_3_x\n",
    "    \n",
    "    if tab_number is 1:\n",
    "        (x, y) = (520, 30)\n",
    "    elif tab_number is 2:\n",
    "        (x, y) = (630, 30)\n",
    "    elif tab_number is 3:\n",
    "        (x, y) = (733, 30)\n",
    "    else:\n",
    "        print('Wrong tab number:', str(tab_number))\n",
    "    \n",
    "    pyautogui.moveTo(x, y)\n",
    "    time.sleep(1)\n",
    "    pyautogui.click() # click"
   ]
  },
  {
   "cell_type": "code",
   "execution_count": 105,
   "metadata": {
    "collapsed": true
   },
   "outputs": [],
   "source": [
    "def post_to_Facebook(tab_number):\n",
    "    click_Facebook_tab(tab_number)\n",
    "\n",
    "    if tab_number is 1:\n",
    "        (x, y) = (1244, 945)\n",
    "    elif tab_number is 2:\n",
    "        (x, y) = (1002, 832)\n",
    "    elif tab_number is 3:\n",
    "        (x, y) = (977, 972)\n",
    "    else:\n",
    "        print('Wrong tab number:', str(tab_number))\n",
    "        \n",
    "    pyautogui.moveTo(x, y)\n",
    "    time.sleep(1)\n",
    "    pyautogui.scroll(10000) # scroll up\n",
    "    time.sleep(1)\n",
    "\n",
    "    pyautogui.moveTo(x, y)\n",
    "    pyautogui.click()\n",
    "    time.sleep(1)\n",
    "\n",
    "    # paste Quake Forecast from clipboard\n",
    "    pyautogui.hotkey('ctrl', 'v')\n",
    "    #pyautogui.rightClick()\n",
    "    #pyautogui.press('down')\n",
    "    #pyautogui.press('p') # paste from clipboard\n",
    "    time.sleep(4)\n",
    "\n",
    "    pyautogui.moveTo(x+100, y)\n",
    "    time.sleep(1)\n",
    "    pyautogui.scroll(-700) # scroll down\n",
    "    time.sleep(2)\n",
    "    \n",
    "    #click_Publish_button() # Publish\n",
    "    if tab_number is 1:\n",
    "        for i in range(0, 9):\n",
    "            pyautogui.press('tab')\n",
    "        pyautogui.press('enter')\n",
    "        #pyautogui.scroll(-100) # scroll down\n",
    "    elif tab_number is 2:\n",
    "        for i in range(0, 9):\n",
    "            pyautogui.press('tab')\n",
    "        pyautogui.press('enter')\n",
    "        #pyautogui.scroll(-100) # scroll down\n",
    "    elif tab_number is 3:\n",
    "        for i in range(0, 11):\n",
    "            pyautogui.press('tab')\n",
    "        pyautogui.press('enter')\n",
    "        #pyautogui.scroll(-1500) # scroll down\n",
    "    else:\n",
    "        print('Wrong tab number:', str(tab_number))\n",
    "    \n",
    "    time.sleep(5)"
   ]
  },
  {
   "cell_type": "code",
   "execution_count": 106,
   "metadata": {
    "collapsed": true
   },
   "outputs": [],
   "source": [
    "def click_WeChat_icon():\n",
    "    pyautogui.moveTo(1000, 1079)\n",
    "    time.sleep(1)\n",
    "    pyautogui.moveTo(564, 1058)\n",
    "    time.sleep(1)\n",
    "    pyautogui.click()\n",
    "    time.sleep(1)"
   ]
  },
  {
   "cell_type": "code",
   "execution_count": 107,
   "metadata": {
    "collapsed": true
   },
   "outputs": [],
   "source": [
    "def click_WeChat_Edit_area():\n",
    "    pyautogui.moveTo(1090, 935)\n",
    "    time.sleep(1)\n",
    "    pyautogui.click()\n",
    "    time.sleep(1)"
   ]
  },
  {
   "cell_type": "code",
   "execution_count": 108,
   "metadata": {
    "collapsed": true
   },
   "outputs": [],
   "source": [
    "def post_to_WeChat():\n",
    "    click_WeChat_icon()\n",
    "    click_WeChat_Edit_area()\n",
    "    \n",
    "    # paste Quake Forecast from clipboard\n",
    "    pyautogui.hotkey('ctrl', 'v')\n",
    "    \n",
    "    # darg analysis file 1 to WeChat\n",
    "    #x = 265\n",
    "    x = 160\n",
    "    y = 70\n",
    "    pyautogui.moveTo(x, y)\n",
    "    time.sleep(1)\n",
    "    pyautogui.click()\n",
    "    time.sleep(1)\n",
    "    \n",
    "    pyautogui.dragTo(1090, 935, 2)\n",
    "    pyautogui.click()\n",
    "    time.sleep(1)\n",
    "\n",
    "    pyautogui.press('enter')\n",
    "    time.sleep(3)"
   ]
  },
  {
   "cell_type": "code",
   "execution_count": 109,
   "metadata": {
    "collapsed": true
   },
   "outputs": [],
   "source": [
    "def click_Twitter_tab():\n",
    "    (x, y) = (404, 30)\n",
    "    pyautogui.moveTo(x, y)\n",
    "    time.sleep(1)\n",
    "    pyautogui.click() # click"
   ]
  },
  {
   "cell_type": "code",
   "execution_count": 110,
   "metadata": {
    "collapsed": true
   },
   "outputs": [],
   "source": [
    "def click_Twit_button():\n",
    "    (x, y) = (1775, 122)\n",
    "    pyautogui.moveTo(x, y)\n",
    "    time.sleep(1)\n",
    "    pyautogui.click() # click"
   ]
  },
  {
   "cell_type": "code",
   "execution_count": 111,
   "metadata": {
    "collapsed": true
   },
   "outputs": [],
   "source": [
    "def click_Twitter_Edit_area():\n",
    "    (x, y) = (1068, 466)\n",
    "    pyautogui.moveTo(x, y)\n",
    "    time.sleep(1)\n",
    "    pyautogui.click() # click"
   ]
  },
  {
   "cell_type": "code",
   "execution_count": 112,
   "metadata": {
    "collapsed": true
   },
   "outputs": [],
   "source": [
    "def post_to_Twitter():\n",
    "    click_Twitter_tab()\n",
    "    click_Twit_button()\n",
    "\n",
    "    # paste Quake Forecast from clipboard\n",
    "    pyautogui.hotkey('ctrl', 'v')\n",
    "\n",
    "    # darg analysis file 1 to Twitter\n",
    "    #x = 265\n",
    "    x = 160\n",
    "    y = 70\n",
    "    pyautogui.moveTo(x, y)\n",
    "    time.sleep(1)\n",
    "    pyautogui.click()\n",
    "    time.sleep(1)\n",
    "    \n",
    "    pyautogui.dragTo(1068, 466, 2)\n",
    "    pyautogui.click()\n",
    "    time.sleep(1)\n",
    "\n",
    "    for i in range(0, 6):\n",
    "        pyautogui.press('tab')\n",
    "    pyautogui.press('enter')\n",
    "    \n",
    "    time.sleep(3)\n",
    "    \n",
    "    #pyautogui.scroll(-100) # scroll down"
   ]
  },
  {
   "cell_type": "code",
   "execution_count": 113,
   "metadata": {
    "collapsed": true
   },
   "outputs": [],
   "source": [
    "def publish_blog():\n",
    "    pyautogui.moveTo(1717, 237)\n",
    "    time.sleep(1)\n",
    "    pyautogui.click()"
   ]
  },
  {
   "cell_type": "code",
   "execution_count": 35,
   "metadata": {
    "collapsed": true
   },
   "outputs": [],
   "source": [
    "station_name = station['台中潭子站']\n",
    "time_stamp = get_time_stamp()\n",
    "languages = ['Chinese', 'Japanese', 'English']\n",
    "quake_forecast = [\n",
    "    {'color': Green,\n",
    "    'time': 7,\n",
    "    'location': {\n",
    "        'Chinese': '日本、俄羅斯或阿拉斯加，',\n",
    "        'Japanese': '日本、ロシアまたはアラスカ、',\n",
    "        'English': 'Japan, Russia or Alaska, '},\n",
    "    'magnitude': 'M6+ ~ M7+'},\n",
    "    {'color': Blue,\n",
    "    'time': 10,\n",
    "    'location': {\n",
    "        'Chinese': '南太平洋或南美洲，',\n",
    "        'Japanese': '南太平洋または南米',\n",
    "        'English': 'South Pacific or South America, '},\n",
    "    'magnitude': 'M6+ ~ M7+'}]"
   ]
  },
  {
   "cell_type": "code",
   "execution_count": 126,
   "metadata": {
    "collapsed": false
   },
   "outputs": [],
   "source": [
    "station_name = station['宜蘭站']\n",
    "time_stamp = get_time_stamp()\n",
    "languages = ['Chinese', 'Japanese', 'English']\n",
    "quake_forecast = [\n",
    "    {'color': Red,\n",
    "    'time': 7,\n",
    "    'location': {\n",
    "        'Chinese': '南太平洋或南美洲，',\n",
    "        'Japanese': '南太平洋または南米、',\n",
    "        'English': 'South Pacific or South America, '},\n",
    "    'magnitude': 'M6+ ~ M7+'}]"
   ]
  },
  {
   "cell_type": "code",
   "execution_count": 128,
   "metadata": {
    "collapsed": false
   },
   "outputs": [
    {
     "name": "stdout",
     "output_type": "stream",
     "text": [
      "2017-05-02 18:24 UTC+8 宜蘭站地震預報：(1)紅：7日以內，南太平洋或南美洲，M6+ ~ M7+ 宜蘭局地震予報：(1)赤：7日以內に、南太平洋または南米、M6+ ~ M7+ Yilan Station Quake Forecast: (1)Red: Within 7 days, South Pacific or South America, M6+ ~ M7+\n",
      "宜蘭站地震預報：\n",
      "(1)紅：7日以內，南太平洋或南美洲，M6+ ~ M7+\n",
      "\n",
      "台灣地震預測研究所 所長\n",
      "林湧森\n",
      "2017-05-02 18:24 UTC+8\n",
      "\n",
      "\n",
      "宜蘭局地震予報：\n",
      "(1)赤：7日以內に、南太平洋または南米、M6+ ~ M7+\n",
      "\n",
      "台湾地震予測研究所 所長\n",
      "林湧森\n",
      "2017-05-02 18:24 UTC+8\n",
      "\n",
      "\n",
      "Yilan Station Quake Forecast: \n",
      "(1)Red: Within 7 days, South Pacific or South America, M6+ ~ M7+\n",
      "\n",
      "Dyson Lin\n",
      "Founder & CEO, Taiwan Quake Forecast Institute\n",
      "2017-05-02 18:24 UTC+8\n"
     ]
    }
   ],
   "source": [
    "(blog_title, blog_title_str) = get_Quake_Forecast_title(languages)\n",
    "set_blog_title()\n",
    "get_Quake_Forecast_text(languages)\n",
    "set_blog_text()\n",
    "publish_blog()\n",
    "time.sleep(5)"
   ]
  },
  {
   "cell_type": "code",
   "execution_count": 99,
   "metadata": {
    "collapsed": true
   },
   "outputs": [],
   "source": [
    "station_name = station['台中大里站']\n",
    "time_stamp = get_time_stamp()\n",
    "languages = ['Chinese', 'Japanese', 'English']\n",
    "quake_signals = [\n",
    "    {'color': Red,\n",
    "    'time': '2017-04-30 09:57 UTC+8',\n",
    "    'location': {\n",
    "        'Chinese': '菲律賓',\n",
    "        'Japanese': 'フィリピン',\n",
    "        'English': 'Philippines'},\n",
    "    'magnitude': 'M5.4'},\n",
    "    {'color': Orange,\n",
    "    'time': '2017-05-01 20:31 UTC+8',\n",
    "    'location': {\n",
    "        'Chinese': '阿拉斯加',\n",
    "        'Japanese': 'アラスカ',\n",
    "        'English': 'Alaska'},\n",
    "    'magnitude': 'M6.3'}]"
   ]
  },
  {
   "cell_type": "code",
   "execution_count": 100,
   "metadata": {
    "collapsed": false
   },
   "outputs": [
    {
     "name": "stdout",
     "output_type": "stream",
     "text": [
      "2017-05-01 23:44 UTC+8 台中大里站地震訊號：已經發生：(1)紅：2017-04-30 09:57 UTC+8 菲律賓 M5.4 (2)橙：2017-05-01 20:31 UTC+8 阿拉斯加 M6.3 台中大里局地震信号：発生しました：(1)赤：2017-04-30 09:57 UTC+8 フィリピン M5.4 (2)オレンジ：2017-05-01 20:31 UTC+8 アラスカ M6.3 Taichung Dali Station Quake Signals: Already happened: (1)Red: 2017-04-30 09:57 UTC+8 Philippines M5.4 (2)Orange: 2017-05-01 20:31 UTC+8 Alaska M6.3\n",
      "台中大里站地震訊號：\n",
      "已經發生：\n",
      "(1)紅：2017-04-30 09:57 UTC+8 菲律賓 M5.4\n",
      "(2)橙：2017-05-01 20:31 UTC+8 阿拉斯加 M6.3\n",
      "\n",
      "台灣地震預測研究所 所長\n",
      "林湧森\n",
      "2017-05-01 23:44 UTC+8\n",
      "\n",
      "\n",
      "台中大里局地震信号：\n",
      "発生しました：\n",
      "(1)赤：2017-04-30 09:57 UTC+8 フィリピン M5.4\n",
      "(2)オレンジ：2017-05-01 20:31 UTC+8 アラスカ M6.3\n",
      "\n",
      "台湾地震予測研究所 所長\n",
      "林湧森\n",
      "2017-05-01 23:44 UTC+8\n",
      "\n",
      "\n",
      "Taichung Dali Station Quake Signals: \n",
      "Already happened: \n",
      "(1)Red: 2017-04-30 09:57 UTC+8 Philippines M5.4\n",
      "(2)Orange: 2017-05-01 20:31 UTC+8 Alaska M6.3\n",
      "\n",
      "Dyson Lin\n",
      "Founder & CEO, Taiwan Quake Forecast Institute\n",
      "2017-05-01 23:44 UTC+8\n"
     ]
    }
   ],
   "source": [
    "(blog_title, blog_title_str) = get_Quake_Signals_title(languages)\n",
    "set_blog_title()\n",
    "get_Quake_Signals_text(languages)\n",
    "set_blog_text()\n",
    "publish_blog()\n",
    "time.sleep(5)"
   ]
  },
  {
   "cell_type": "code",
   "execution_count": 130,
   "metadata": {
    "collapsed": true
   },
   "outputs": [],
   "source": [
    "# View blog\n",
    "click_Blogger_tab()\n",
    "pyautogui.moveTo(830, 506)\n",
    "time.sleep(1)\n",
    "pyautogui.click()\n",
    "time.sleep(10)"
   ]
  },
  {
   "cell_type": "code",
   "execution_count": 135,
   "metadata": {
    "collapsed": true
   },
   "outputs": [],
   "source": [
    "# Close Blogger article list\n",
    "click_Blogger_tab()\n",
    "#pyautogui.moveTo(1250, 30)\n",
    "time.sleep(1)\n",
    "pyautogui.click()\n",
    "time.sleep(1)\n",
    "#pyautogui.moveRel(-30, 0)\n",
    "#time.sleep(1)\n",
    "pyautogui.rightClick()\n",
    "time.sleep(1)\n",
    "\n",
    "for i in range(0, 6):\n",
    "    pyautogui.press('down')\n",
    "    \n",
    "time.sleep(1)\n",
    "pyautogui.press('enter')"
   ]
  },
  {
   "cell_type": "code",
   "execution_count": 136,
   "metadata": {
    "collapsed": false
   },
   "outputs": [
    {
     "name": "stdout",
     "output_type": "stream",
     "text": [
      "Blog address: http://quakeforecast.blogspot.tw/2017/05/2017-05-02-1824-utc8-17m6-m7-17m6-m7.html\n",
      "\n",
      "2017-05-02 18:24 UTC+8 宜蘭站地震預報：(1)紅：7日以內，南太平洋或南美洲，M6+ ~ M7+ 宜蘭局地震予報：(1)赤：7日以內に、南太平洋または南米、M6+ ~ M7+ Yilan Station Quake Forecast: (1)Red: Within 7 days, South Pacific or South America, M6+ ~ M7+\n",
      "http://quakeforecast.blogspot.tw/2017/05/2017-05-02-1824-utc8-17m6-m7-17m6-m7.html\n"
     ]
    },
    {
     "ename": "TypeError",
     "evalue": "get_blog_title() missing 1 required positional argument: 'quake_forecast'",
     "output_type": "error",
     "traceback": [
      "\u001b[0;31m---------------------------------------------------------------------------\u001b[0m",
      "\u001b[0;31mTypeError\u001b[0m                                 Traceback (most recent call last)",
      "\u001b[0;32m<ipython-input-136-142aaeacbea6>\u001b[0m in \u001b[0;36m<module>\u001b[0;34m()\u001b[0m\n\u001b[1;32m     18\u001b[0m \u001b[1;31m#Twitter_languages = ['Chinese', 'Japanese']\u001b[0m\u001b[1;33m\u001b[0m\u001b[1;33m\u001b[0m\u001b[0m\n\u001b[1;32m     19\u001b[0m \u001b[0mTwitter_languages\u001b[0m \u001b[1;33m=\u001b[0m \u001b[1;33m[\u001b[0m\u001b[1;34m'Japanese'\u001b[0m\u001b[1;33m]\u001b[0m\u001b[1;33m\u001b[0m\u001b[0m\n\u001b[0;32m---> 20\u001b[0;31m \u001b[1;33m(\u001b[0m\u001b[0mblog_title_Twitter\u001b[0m\u001b[1;33m,\u001b[0m \u001b[0mblog_title_str_Twitter\u001b[0m\u001b[1;33m)\u001b[0m \u001b[1;33m=\u001b[0m \u001b[0mget_blog_title\u001b[0m\u001b[1;33m(\u001b[0m\u001b[0mTwitter_languages\u001b[0m\u001b[1;33m)\u001b[0m\u001b[1;33m\u001b[0m\u001b[0m\n\u001b[0m\u001b[1;32m     21\u001b[0m \u001b[1;33m\u001b[0m\u001b[0m\n\u001b[1;32m     22\u001b[0m \u001b[0mpost_text_Twitter\u001b[0m \u001b[1;33m=\u001b[0m \u001b[0mblog_title_str_Twitter\u001b[0m \u001b[1;33m+\u001b[0m \u001b[1;34m'\\n'\u001b[0m \u001b[1;33m+\u001b[0m \u001b[0mblog_address\u001b[0m\u001b[1;33m\u001b[0m\u001b[0m\n",
      "\u001b[0;31mTypeError\u001b[0m: get_blog_title() missing 1 required positional argument: 'quake_forecast'"
     ]
    }
   ],
   "source": [
    "# Post to Facebook, WeChat and Twitter\n",
    "blog_address = get_blog_address()\n",
    "post_text = blog_title_str + '\\n' + blog_address\n",
    "print(post_text)\n",
    "\n",
    "pyperclip.copy(post_text) # copy to clipboard\n",
    "post_to_Facebook(1)\n",
    "\n",
    "pyperclip.copy(post_text) # copy to clipboard\n",
    "post_to_Facebook(2)\n",
    "\n",
    "pyperclip.copy(post_text) # copy to clipboard\n",
    "post_to_Facebook(3)\n",
    "\n",
    "pyperclip.copy(post_text) # copy to clipboard\n",
    "post_to_WeChat()\n",
    "\n",
    "#Twitter_languages = ['Chinese', 'Japanese']\n",
    "Twitter_languages = ['Japanese']\n",
    "(blog_title_Twitter, blog_title_str_Twitter) = get_Quake_Forecast_title(Twitter_languages)\n",
    "\n",
    "post_text_Twitter = blog_title_str_Twitter + '\\n' + blog_address\n",
    "print(post_text_Twitter)\n",
    "\n",
    "pyperclip.copy(post_text_Twitter) # copy to clipboard\n",
    "post_to_Twitter()"
   ]
  },
  {
   "cell_type": "code",
   "execution_count": 137,
   "metadata": {
    "collapsed": false
   },
   "outputs": [
    {
     "name": "stdout",
     "output_type": "stream",
     "text": [
      "2017-05-02 18:24 UTC+8 宜蘭局地震予報：(1)赤：7日以內に、南太平洋または南米、M6+ ~ M7+\n",
      "2017-05-02 18:24 UTC+8 宜蘭局地震予報：(1)赤：7日以內に、南太平洋または南米、M6+ ~ M7+\n",
      "http://quakeforecast.blogspot.tw/2017/05/2017-05-02-1824-utc8-17m6-m7-17m6-m7.html\n"
     ]
    }
   ],
   "source": [
    "#Twitter_languages = ['Chinese', 'Japanese']\n",
    "Twitter_languages = ['Japanese']\n",
    "(blog_title_Twitter, blog_title_str_Twitter) = get_Quake_Forecast_title(Twitter_languages)\n",
    "\n",
    "post_text_Twitter = blog_title_str_Twitter + '\\n' + blog_address\n",
    "print(post_text_Twitter)\n",
    "\n",
    "pyperclip.copy(post_text_Twitter) # copy to clipboard\n",
    "post_to_Twitter()"
   ]
  },
  {
   "cell_type": "code",
   "execution_count": 119,
   "metadata": {
    "collapsed": false
   },
   "outputs": [
    {
     "name": "stdout",
     "output_type": "stream",
     "text": [
      "2017-05-01 23:44 UTC+8 台中大里局地震信号：発生しました：(1)赤：2017-04-30 09:57 UTC+8 フィリピン M5.4 (2)オレンジ：2017-05-01 20:31 UTC+8 アラスカ M6.3\n",
      "2017-05-01 23:44 UTC+8 台中大里局地震信号：発生しました：(1)赤：2017-04-30 09:57 UTC+8 フィリピン M5.4 (2)オレンジ：2017-05-01 20:31 UTC+8 アラスカ M6.3\n",
      "http://quakeforecast.blogspot.tw/2017/05/2017-05-01-2344-utc8-12017-04-30-0957.html\n"
     ]
    }
   ],
   "source": [
    "pyperclip.copy(post_text) # copy to clipboard\n",
    "post_to_WeChat()\n",
    "\n",
    "#Twitter_languages = ['Chinese', 'Japanese']\n",
    "Twitter_languages = ['Japanese']\n",
    "(blog_title_Twitter, blog_title_str_Twitter) = get_Quake_Signals_title(Twitter_languages)\n",
    "\n",
    "post_text_Twitter = blog_title_str_Twitter + '\\n' + blog_address\n",
    "print(post_text_Twitter)\n",
    "\n",
    "pyperclip.copy(post_text_Twitter) # copy to clipboard\n",
    "post_to_Twitter()"
   ]
  },
  {
   "cell_type": "code",
   "execution_count": null,
   "metadata": {
    "collapsed": true
   },
   "outputs": [],
   "source": []
  }
 ],
 "metadata": {
  "anaconda-cloud": {},
  "kernelspec": {
   "display_name": "Python 3",
   "language": "python",
   "name": "python3"
  },
  "language_info": {
   "codemirror_mode": {
    "name": "ipython",
    "version": 3
   },
   "file_extension": ".py",
   "mimetype": "text/x-python",
   "name": "python",
   "nbconvert_exporter": "python",
   "pygments_lexer": "ipython3",
   "version": "3.6.0"
  }
 },
 "nbformat": 4,
 "nbformat_minor": 1
}
