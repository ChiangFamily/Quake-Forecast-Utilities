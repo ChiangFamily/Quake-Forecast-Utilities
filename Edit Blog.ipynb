{
 "cells": [
  {
   "cell_type": "code",
   "execution_count": 1,
   "metadata": {
    "collapsed": false
   },
   "outputs": [],
   "source": [
    "import time\n",
    "from quake_forecast import get_date_stamp, get_time_stamp\n",
    "from quake_forecast import name_new_files, analyze_file\n",
    "from quake_forecast import insert_files, station\n",
    "from quake_forecast import Red, Orange, Yellow, Green, Blue, Purple\n",
    "from quake_forecast import get_Quake_Signals_title, set_blog_title\n",
    "from quake_forecast import get_Quake_Signals_text, set_blog_text\n",
    "from quake_forecast import publish_blog\n",
    "from quake_forecast import publish_Quake_Forecast, view_blog\n",
    "from quake_forecast import close_Blogger_article_list, get_blog_address\n",
    "from quake_forecast import post_Quake_Forecast, post_to_Facebook"
   ]
  },
  {
   "cell_type": "code",
   "execution_count": 17,
   "metadata": {
    "collapsed": false
   },
   "outputs": [],
   "source": [
    "name_new_files(file_number=2, to_WeChat=False, date_stamp='2017-06-25')"
   ]
  },
  {
   "cell_type": "code",
   "execution_count": 9,
   "metadata": {
    "collapsed": false
   },
   "outputs": [],
   "source": [
    "name_new_files(file_number=2, to_WeChat=True, date_stamp='2017-06-25')"
   ]
  },
  {
   "cell_type": "code",
   "execution_count": 18,
   "metadata": {
    "collapsed": false
   },
   "outputs": [],
   "source": [
    "analyze_file(1)"
   ]
  },
  {
   "cell_type": "code",
   "execution_count": 19,
   "metadata": {
    "collapsed": true
   },
   "outputs": [],
   "source": [
    "analyze_file(2)"
   ]
  },
  {
   "cell_type": "code",
   "execution_count": 4,
   "metadata": {
    "collapsed": true
   },
   "outputs": [],
   "source": [
    "analyze_file(3)"
   ]
  },
  {
   "cell_type": "code",
   "execution_count": null,
   "metadata": {
    "collapsed": true
   },
   "outputs": [],
   "source": [
    "analyze_file(4)"
   ]
  },
  {
   "cell_type": "code",
   "execution_count": null,
   "metadata": {
    "collapsed": true
   },
   "outputs": [],
   "source": [
    "analyze_file(5)"
   ]
  },
  {
   "cell_type": "code",
   "execution_count": 16,
   "metadata": {
    "collapsed": false
   },
   "outputs": [],
   "source": [
    "insert_files(2)\n",
    "\n",
    "station_name = station['台南喜福站']\n",
    "languages = ['Chinese', 'Japanese', 'English']\n",
    "quake_forecast = [\n",
    "    {'color': Red,\n",
    "    'time': 12,\n",
    "    'location': {\n",
    "        'Chinese': '緬甸、菲律賓、東台灣、南台灣、南日本、印尼或智利，',\n",
    "        'Japanese': 'ミャンマー、フィリピン、東台湾、南台湾、南日本、インドネシアまたはチリ、',\n",
    "        'English': 'Myanmar, Philippines, East Taiwan, South Taiwan, South Japan, Indonesia or Chile, '},\n",
    "    'magnitude': 'M7+ ~ M8+'}]\n",
    "\n",
    "time_stamp = get_time_stamp()\n",
    "(blog_title, blog_title_str) = publish_Quake_Forecast(quake_forecast, \n",
    "                                    station_name, languages, time_stamp)\n",
    "view_blog()\n",
    "close_Blogger_article_list()\n",
    "\n",
    "blog_address = get_blog_address()\n",
    "post_Quake_Forecast(quake_forecast, station_name, time_stamp,\n",
    "            blog_address, blog_title_str)"
   ]
  },
  {
   "cell_type": "code",
   "execution_count": 20,
   "metadata": {
    "collapsed": false
   },
   "outputs": [
    {
     "ename": "FailSafeException",
     "evalue": "PyAutoGUI fail-safe triggered from mouse moving to upper-left corner. To disable this fail-safe, set pyautogui.FAILSAFE to False.",
     "output_type": "error",
     "traceback": [
      "\u001b[0;31m---------------------------------------------------------------------------\u001b[0m",
      "\u001b[0;31mFailSafeException\u001b[0m                         Traceback (most recent call last)",
      "\u001b[0;32m<ipython-input-20-ebd9efb8ab0f>\u001b[0m in \u001b[0;36m<module>\u001b[0;34m()\u001b[0m\n\u001b[1;32m     27\u001b[0m \u001b[0mblog_address\u001b[0m \u001b[1;33m=\u001b[0m \u001b[0mget_blog_address\u001b[0m\u001b[1;33m(\u001b[0m\u001b[1;33m)\u001b[0m\u001b[1;33m\u001b[0m\u001b[0m\n\u001b[1;32m     28\u001b[0m post_Quake_Forecast(quake_forecast, station_name, time_stamp,\n\u001b[0;32m---> 29\u001b[0;31m             blog_address, blog_title_str)\n\u001b[0m",
      "\u001b[0;32mC:\\Users\\Dyson\\Desktop\\Quake-Forecast-Utilities\\quake_forecast.py\u001b[0m in \u001b[0;36mpost_Quake_Forecast\u001b[0;34m(quake_forecast, station_name, time_stamp, blog_address, blog_title_str)\u001b[0m\n\u001b[1;32m    710\u001b[0m     \u001b[0mpost_text_Twitter\u001b[0m \u001b[1;33m=\u001b[0m \u001b[0mblog_title_str_Twitter\u001b[0m \u001b[1;33m+\u001b[0m \u001b[1;34m'\\n'\u001b[0m \u001b[1;33m+\u001b[0m \u001b[0mblog_address\u001b[0m\u001b[1;33m\u001b[0m\u001b[0m\n\u001b[1;32m    711\u001b[0m     \u001b[0mpyperclip\u001b[0m\u001b[1;33m.\u001b[0m\u001b[0mcopy\u001b[0m\u001b[1;33m(\u001b[0m\u001b[0mpost_text_Twitter\u001b[0m\u001b[1;33m)\u001b[0m \u001b[1;31m# copy to clipboard\u001b[0m\u001b[1;33m\u001b[0m\u001b[0m\n\u001b[0;32m--> 712\u001b[0;31m     \u001b[0mpost_to_Twitter\u001b[0m\u001b[1;33m(\u001b[0m\u001b[1;33m)\u001b[0m\u001b[1;33m\u001b[0m\u001b[0m\n\u001b[0m\u001b[1;32m    713\u001b[0m \u001b[1;33m\u001b[0m\u001b[0m\n\u001b[1;32m    714\u001b[0m \u001b[1;33m\u001b[0m\u001b[0m\n",
      "\u001b[0;32mC:\\Users\\Dyson\\Desktop\\Quake-Forecast-Utilities\\quake_forecast.py\u001b[0m in \u001b[0;36mpost_to_Twitter\u001b[0;34m()\u001b[0m\n\u001b[1;32m    654\u001b[0m     \u001b[0mtime\u001b[0m\u001b[1;33m.\u001b[0m\u001b[0msleep\u001b[0m\u001b[1;33m(\u001b[0m\u001b[1;36m1\u001b[0m\u001b[1;33m)\u001b[0m\u001b[1;33m\u001b[0m\u001b[0m\n\u001b[1;32m    655\u001b[0m \u001b[1;33m\u001b[0m\u001b[0m\n\u001b[0;32m--> 656\u001b[0;31m     \u001b[0mpyautogui\u001b[0m\u001b[1;33m.\u001b[0m\u001b[0mdragTo\u001b[0m\u001b[1;33m(\u001b[0m\u001b[1;36m1068\u001b[0m\u001b[1;33m,\u001b[0m \u001b[1;36m466\u001b[0m\u001b[1;33m,\u001b[0m \u001b[1;36m2\u001b[0m\u001b[1;33m)\u001b[0m\u001b[1;33m\u001b[0m\u001b[0m\n\u001b[0m\u001b[1;32m    657\u001b[0m     \u001b[0mpyautogui\u001b[0m\u001b[1;33m.\u001b[0m\u001b[0mclick\u001b[0m\u001b[1;33m(\u001b[0m\u001b[1;33m)\u001b[0m\u001b[1;33m\u001b[0m\u001b[0m\n\u001b[1;32m    658\u001b[0m     \u001b[0mtime\u001b[0m\u001b[1;33m.\u001b[0m\u001b[0msleep\u001b[0m\u001b[1;33m(\u001b[0m\u001b[1;36m1\u001b[0m\u001b[1;33m)\u001b[0m\u001b[1;33m\u001b[0m\u001b[0m\n",
      "\u001b[0;32mC:\\Users\\Dyson\\Anaconda3\\lib\\site-packages\\pyautogui\\__init__.py\u001b[0m in \u001b[0;36mdragTo\u001b[0;34m(x, y, duration, tween, button, pause, _pause)\u001b[0m\n\u001b[1;32m    683\u001b[0m         \u001b[0mx\u001b[0m\u001b[1;33m,\u001b[0m \u001b[0my\u001b[0m \u001b[1;33m=\u001b[0m \u001b[0mx\u001b[0m\u001b[1;33m[\u001b[0m\u001b[1;36m0\u001b[0m\u001b[1;33m]\u001b[0m\u001b[1;33m,\u001b[0m \u001b[0mx\u001b[0m\u001b[1;33m[\u001b[0m\u001b[1;36m1\u001b[0m\u001b[1;33m]\u001b[0m\u001b[1;33m\u001b[0m\u001b[0m\n\u001b[1;32m    684\u001b[0m     \u001b[0mmouseDown\u001b[0m\u001b[1;33m(\u001b[0m\u001b[0mbutton\u001b[0m\u001b[1;33m=\u001b[0m\u001b[0mbutton\u001b[0m\u001b[1;33m,\u001b[0m \u001b[0m_pause\u001b[0m\u001b[1;33m=\u001b[0m\u001b[1;32mFalse\u001b[0m\u001b[1;33m)\u001b[0m\u001b[1;33m\u001b[0m\u001b[0m\n\u001b[0;32m--> 685\u001b[0;31m     \u001b[0m_mouseMoveDrag\u001b[0m\u001b[1;33m(\u001b[0m\u001b[1;34m'drag'\u001b[0m\u001b[1;33m,\u001b[0m \u001b[0mx\u001b[0m\u001b[1;33m,\u001b[0m \u001b[0my\u001b[0m\u001b[1;33m,\u001b[0m \u001b[1;36m0\u001b[0m\u001b[1;33m,\u001b[0m \u001b[1;36m0\u001b[0m\u001b[1;33m,\u001b[0m \u001b[0mduration\u001b[0m\u001b[1;33m,\u001b[0m \u001b[0mtween\u001b[0m\u001b[1;33m,\u001b[0m \u001b[0mbutton\u001b[0m\u001b[1;33m)\u001b[0m\u001b[1;33m\u001b[0m\u001b[0m\n\u001b[0m\u001b[1;32m    686\u001b[0m     \u001b[0mmouseUp\u001b[0m\u001b[1;33m(\u001b[0m\u001b[0mbutton\u001b[0m\u001b[1;33m=\u001b[0m\u001b[0mbutton\u001b[0m\u001b[1;33m,\u001b[0m \u001b[0m_pause\u001b[0m\u001b[1;33m=\u001b[0m\u001b[1;32mFalse\u001b[0m\u001b[1;33m)\u001b[0m\u001b[1;33m\u001b[0m\u001b[0m\n\u001b[1;32m    687\u001b[0m \u001b[1;33m\u001b[0m\u001b[0m\n",
      "\u001b[0;32mC:\\Users\\Dyson\\Anaconda3\\lib\\site-packages\\pyautogui\\__init__.py\u001b[0m in \u001b[0;36m_mouseMoveDrag\u001b[0;34m(moveOrDrag, x, y, xOffset, yOffset, duration, tween, button)\u001b[0m\n\u001b[1;32m    823\u001b[0m             \u001b[0mtime\u001b[0m\u001b[1;33m.\u001b[0m\u001b[0msleep\u001b[0m\u001b[1;33m(\u001b[0m\u001b[0msleep_amount\u001b[0m\u001b[1;33m)\u001b[0m\u001b[1;33m\u001b[0m\u001b[0m\n\u001b[1;32m    824\u001b[0m \u001b[1;33m\u001b[0m\u001b[0m\n\u001b[0;32m--> 825\u001b[0;31m         \u001b[0m_failSafeCheck\u001b[0m\u001b[1;33m(\u001b[0m\u001b[1;33m)\u001b[0m\u001b[1;33m\u001b[0m\u001b[0m\n\u001b[0m\u001b[1;32m    826\u001b[0m         \u001b[0mtweenX\u001b[0m \u001b[1;33m=\u001b[0m \u001b[0mint\u001b[0m\u001b[1;33m(\u001b[0m\u001b[0mround\u001b[0m\u001b[1;33m(\u001b[0m\u001b[0mtweenX\u001b[0m\u001b[1;33m)\u001b[0m\u001b[1;33m)\u001b[0m\u001b[1;33m\u001b[0m\u001b[0m\n\u001b[1;32m    827\u001b[0m         \u001b[0mtweenY\u001b[0m \u001b[1;33m=\u001b[0m \u001b[0mint\u001b[0m\u001b[1;33m(\u001b[0m\u001b[0mround\u001b[0m\u001b[1;33m(\u001b[0m\u001b[0mtweenY\u001b[0m\u001b[1;33m)\u001b[0m\u001b[1;33m)\u001b[0m\u001b[1;33m\u001b[0m\u001b[0m\n",
      "\u001b[0;32mC:\\Users\\Dyson\\Anaconda3\\lib\\site-packages\\pyautogui\\__init__.py\u001b[0m in \u001b[0;36m_failSafeCheck\u001b[0;34m()\u001b[0m\n\u001b[1;32m   1008\u001b[0m \u001b[1;32mdef\u001b[0m \u001b[0m_failSafeCheck\u001b[0m\u001b[1;33m(\u001b[0m\u001b[1;33m)\u001b[0m\u001b[1;33m:\u001b[0m\u001b[1;33m\u001b[0m\u001b[0m\n\u001b[1;32m   1009\u001b[0m     \u001b[1;32mif\u001b[0m \u001b[0mFAILSAFE\u001b[0m \u001b[1;32mand\u001b[0m \u001b[0mposition\u001b[0m\u001b[1;33m(\u001b[0m\u001b[1;33m)\u001b[0m \u001b[1;33m==\u001b[0m \u001b[1;33m(\u001b[0m\u001b[1;36m0\u001b[0m\u001b[1;33m,\u001b[0m \u001b[1;36m0\u001b[0m\u001b[1;33m)\u001b[0m\u001b[1;33m:\u001b[0m\u001b[1;33m\u001b[0m\u001b[0m\n\u001b[0;32m-> 1010\u001b[0;31m         \u001b[1;32mraise\u001b[0m \u001b[0mFailSafeException\u001b[0m\u001b[1;33m(\u001b[0m\u001b[1;34m'PyAutoGUI fail-safe triggered from mouse moving to upper-left corner. To disable this fail-safe, set pyautogui.FAILSAFE to False.'\u001b[0m\u001b[1;33m)\u001b[0m\u001b[1;33m\u001b[0m\u001b[0m\n\u001b[0m\u001b[1;32m   1011\u001b[0m \u001b[1;33m\u001b[0m\u001b[0m\n\u001b[1;32m   1012\u001b[0m \u001b[1;33m\u001b[0m\u001b[0m\n",
      "\u001b[0;31mFailSafeException\u001b[0m: PyAutoGUI fail-safe triggered from mouse moving to upper-left corner. To disable this fail-safe, set pyautogui.FAILSAFE to False."
     ]
    }
   ],
   "source": [
    "insert_files(2)\n",
    "\n",
    "station_name = station['台南新生站']\n",
    "languages = ['Chinese', 'Japanese', 'English']\n",
    "quake_forecast = [\n",
    "    {'color': Purple,\n",
    "    'time': 5,\n",
    "    'location': {\n",
    "        'Chinese': '土耳其或瓜地馬拉，',\n",
    "        'Japanese': 'トルコまたはグアテマラ、',\n",
    "        'English': 'Turkey or Guatemala, '},\n",
    "    'magnitude': 'M6+ ~ M7+'},\n",
    "    {'color': Red,\n",
    "    'time': 12,\n",
    "    'location': {\n",
    "        'Chinese': '緬甸、菲律賓、東台灣、南台灣、南日本、印尼或智利，',\n",
    "        'Japanese': 'ミャンマー、フィリピン、東台湾、南台湾、南日本、インドネシアまたはチリ、',\n",
    "        'English': 'Myanmar, Philippines, East Taiwan, South Taiwan, South Japan, Indonesia or Chile, '},\n",
    "    'magnitude': 'M7+ ~ M8+'}]\n",
    "\n",
    "time_stamp = get_time_stamp()\n",
    "(blog_title, blog_title_str) = publish_Quake_Forecast(quake_forecast, \n",
    "                                    station_name, languages, time_stamp)\n",
    "view_blog()\n",
    "close_Blogger_article_list()\n",
    "\n",
    "blog_address = get_blog_address()\n",
    "post_Quake_Forecast(quake_forecast, station_name, time_stamp,\n",
    "            blog_address, blog_title_str)"
   ]
  },
  {
   "cell_type": "code",
   "execution_count": null,
   "metadata": {
    "collapsed": false
   },
   "outputs": [],
   "source": [
    "blog_address = get_blog_address()\n",
    "post_Quake_Forecast(quake_forecast, station_name, time_stamp,\n",
    "            blog_address, blog_title_str)"
   ]
  },
  {
   "cell_type": "code",
   "execution_count": null,
   "metadata": {
    "collapsed": false
   },
   "outputs": [],
   "source": [
    "post_to_Facebook(1)\n",
    "post_to_Facebook(2)\n",
    "post_to_Facebook(3)"
   ]
  },
  {
   "cell_type": "code",
   "execution_count": null,
   "metadata": {
    "collapsed": true
   },
   "outputs": [],
   "source": [
    "insert_files(1)\n",
    "\n",
    "station_name = station['台中大里站']\n",
    "languages = ['Chinese', 'Japanese', 'English']\n",
    "quake_forecast = [\n",
    "    {'color': Purple,\n",
    "    'time': 2,\n",
    "    'location': {\n",
    "        'Chinese': '南太平洋或南美洲，',\n",
    "        'Japanese': '南太平洋または南米、',\n",
    "        'English': 'South Pacific or South America, '},\n",
    "    'magnitude': 'M6+ ~ M7+'}]\n",
    "\n",
    "time_stamp = get_time_stamp()\n",
    "(blog_title, blog_title_str) = publish_Quake_Forecast(quake_forecast, \n",
    "                                    station_name, languages, time_stamp)\n",
    "view_blog()\n",
    "close_Blogger_article_list()\n",
    "\n",
    "blog_address = get_blog_address()\n",
    "post_Quake_Forecast(quake_forecast, station_name, time_stamp,\n",
    "            blog_address, blog_title_str)"
   ]
  },
  {
   "cell_type": "code",
   "execution_count": null,
   "metadata": {
    "collapsed": true
   },
   "outputs": [],
   "source": [
    "insert_files(1)\n",
    "\n",
    "station_name = station['洛杉磯站']\n",
    "languages = ['Chinese', 'Japanese', 'English']\n",
    "quake_forecast = [\n",
    "    {'color': Red,\n",
    "    'time': 7,\n",
    "    'location': {\n",
    "        'Chinese': '緬甸、菲律賓、東台灣、南台灣、南日本、印尼或智利，',\n",
    "        'Japanese': 'ミャンマー、フィリピン、東台湾、南台湾、南日本、インドネシアまたはチリ、',\n",
    "        'English': 'Myanmar, Philippines, East Taiwan, South Taiwan, South Japan, Indonesia or Chile, '},\n",
    "    'magnitude': 'M7+ ~ M8+'},\n",
    "    {'color': Orange,\n",
    "    'time': 10,\n",
    "    'location': {\n",
    "        'Chinese': '北日本、俄羅斯或阿拉斯加，',\n",
    "        'Japanese': '北日本、ロシアまたはアラスカ、',\n",
    "        'English': 'North Japan, Russia or Alaska, '},\n",
    "    'magnitude': 'M6+ ~ M7+'}]\n",
    "\n",
    "time_stamp = get_time_stamp()\n",
    "(blog_title, blog_title_str) = publish_Quake_Forecast(quake_forecast, \n",
    "                                    station_name, languages, time_stamp)\n",
    "view_blog()\n",
    "close_Blogger_article_list()\n",
    "\n",
    "blog_address = get_blog_address()\n",
    "post_Quake_Forecast(quake_forecast, station_name, time_stamp,\n",
    "            blog_address, blog_title_str)"
   ]
  }
 ],
 "metadata": {
  "anaconda-cloud": {},
  "kernelspec": {
   "display_name": "Python 3",
   "language": "python",
   "name": "python3"
  },
  "language_info": {
   "codemirror_mode": {
    "name": "ipython",
    "version": 3
   },
   "file_extension": ".py",
   "mimetype": "text/x-python",
   "name": "python",
   "nbconvert_exporter": "python",
   "pygments_lexer": "ipython3",
   "version": "3.6.0"
  }
 },
 "nbformat": 4,
 "nbformat_minor": 1
}
