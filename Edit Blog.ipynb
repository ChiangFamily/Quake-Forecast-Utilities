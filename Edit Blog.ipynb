{
 "cells": [
  {
   "cell_type": "code",
   "execution_count": 1,
   "metadata": {
    "collapsed": false
   },
   "outputs": [],
   "source": [
    "import quake_forecast\n",
    "import pyautogui\n",
    "import time\n",
    "import pyperclip\n",
    "import locate\n",
    "from date_stamp import get_time_stamp\n",
    "from locate import locate_and_click, click_Blogger_tab, click_Blog_Title\n",
    "from locate import click_Publish_button, scroll_down\n",
    "from locate import click_Facebook_Publish_button\n",
    "from quake_forecast import station\n",
    "from quake_forecast import quake_forecast_title, quake_signals_title, author\n",
    "from quake_forecast import Already_happened, Within, Days\n",
    "from quake_forecast import Red, Orange, Yellow, Green, Blue, Purple\n",
    "from quake_forecast import insert_files\n",
    "\n",
    "pyautogui.PAUSE = 0.1\n",
    "pyautogui.FAILSAFE = True"
   ]
  },
  {
   "cell_type": "code",
   "execution_count": 2,
   "metadata": {
    "collapsed": true
   },
   "outputs": [],
   "source": [
    "Facebook_tab_1_x = 0\n",
    "Facebook_tab_2_x = 0\n",
    "Facebook_tab_3_x = 0"
   ]
  },
  {
   "cell_type": "code",
   "execution_count": 3,
   "metadata": {
    "collapsed": true
   },
   "outputs": [],
   "source": [
    "already_happened = [\n",
    "    {'color': Red,\n",
    "    'time': '2017-04-15 16:19 UTC+8',\n",
    "    'location': {\n",
    "        'Chinese': '智利',\n",
    "        'Japanese': 'チリ',\n",
    "        'English': 'Chile'},\n",
    "    'magnitude': 'M6.2'},\n",
    "    {'color': Orange,\n",
    "    'time': '2017-04-25 05:38 UTC+8',\n",
    "    'location': {\n",
    "        'Chinese': '智利',\n",
    "        'Japanese': 'チリ',\n",
    "        'English': 'Chile'},\n",
    "    'magnitude': 'M6.9'}]\n",
    "\n",
    "print_already_happened = True"
   ]
  },
  {
   "cell_type": "code",
   "execution_count": 4,
   "metadata": {
    "collapsed": false
   },
   "outputs": [],
   "source": [
    "# 發生了： 発生了： Happened:\n",
    "# (1)2017-04-15 16:19 UTC+8 智利 チリ Chile M6.2\n",
    "# (2)2017-04-25 05:38 UTC+8 智利 チリ Chile M6.9\n"
   ]
  },
  {
   "cell_type": "code",
   "execution_count": 5,
   "metadata": {
    "collapsed": false
   },
   "outputs": [],
   "source": [
    "#發生了： 発生了： Happened:\n",
    "#2017-04-29 04:23 UTC+8 M6.8 菲律賓 フィリピン Philippines\n"
   ]
  },
  {
   "cell_type": "code",
   "execution_count": 6,
   "metadata": {
    "collapsed": true
   },
   "outputs": [],
   "source": [
    "def set_blog_title():\n",
    "    click_Blogger_tab()\n",
    "    click_Blog_Title()\n",
    "    \n",
    "    # paste from clipboard\n",
    "    pyautogui.rightClick()\n",
    "    pyautogui.press('down')\n",
    "    pyautogui.press('down')\n",
    "    pyautogui.press('p')\n",
    "    time.sleep(0.1)\n",
    "    pyautogui.press('enter')"
   ]
  },
  {
   "cell_type": "code",
   "execution_count": 7,
   "metadata": {
    "collapsed": true
   },
   "outputs": [],
   "source": [
    "def get_Quake_Forecast_title(languages): \n",
    "    blog_title = {}\n",
    "    for language in languages:\n",
    "        blog_title[language] = station_name[language]\n",
    "        blog_title[language] += quake_forecast_title[language]\n",
    "        quake_number = 0\n",
    "        for quake in quake_forecast:\n",
    "            quake_number += 1\n",
    "            blog_title[language] += '('\n",
    "            blog_title[language] += str(quake_number)\n",
    "            blog_title[language] += ')'\n",
    "            blog_title[language] += quake['color'][language]\n",
    "            blog_title[language] += Within[language]\n",
    "            blog_title[language] += str(quake['time'])\n",
    "            blog_title[language] += Days[language]\n",
    "            blog_title[language] += quake['location'][language]\n",
    "            blog_title[language] += quake['magnitude']\n",
    "            blog_title[language] += ' '\n",
    "    \n",
    "    blog_title_str = (time_stamp + ' ')\n",
    "    \n",
    "    for language in languages:\n",
    "        blog_title_str += (blog_title[language])\n",
    "    \n",
    "    blog_title_str = blog_title_str.strip() # remove extra white space\n",
    "    #print(blog_title_str)\n",
    "    pyperclip.copy(blog_title_str) # copy to clipboard\n",
    "    \n",
    "    return (blog_title, blog_title_str)"
   ]
  },
  {
   "cell_type": "code",
   "execution_count": 8,
   "metadata": {
    "collapsed": true
   },
   "outputs": [],
   "source": [
    "def get_Quake_Forecast_text(languages):\n",
    "    blog_text = {}\n",
    "    for language in languages:\n",
    "        blog_text[language] = station_name[language]\n",
    "        blog_text[language] += quake_forecast_title[language] + '\\n'\n",
    "        quake_number = 0\n",
    "        for quake in quake_forecast:\n",
    "            quake_number += 1\n",
    "            blog_text[language] += '('\n",
    "            blog_text[language] += str(quake_number)\n",
    "            blog_text[language] += ')'\n",
    "            blog_text[language] += quake['color'][language]\n",
    "            blog_text[language] += Within[language]\n",
    "            blog_text[language] += str(quake['time'])\n",
    "            blog_text[language] += Days[language]\n",
    "            blog_text[language] += quake['location'][language]\n",
    "            blog_text[language] += quake['magnitude']\n",
    "            blog_text[language] += '\\n'\n",
    "        blog_text[language] += '\\n'    \n",
    "        blog_text[language] += author[language]\n",
    "        blog_text[language] += '\\n'\n",
    "        blog_text[language] += time_stamp\n",
    "        blog_text[language] += '\\n\\n\\n'\n",
    "\n",
    "    blog_text_str = ''        \n",
    "    for language in languages:\n",
    "        blog_text_str += blog_text[language]\n",
    "    blog_text_str = blog_text_str.strip() # remove extra white space\n",
    "    #print(blog_text_str)\n",
    "    pyperclip.copy(blog_text_str) # copy to clipboard"
   ]
  },
  {
   "cell_type": "code",
   "execution_count": 9,
   "metadata": {
    "collapsed": true
   },
   "outputs": [],
   "source": [
    "def get_Quake_Signals_title(languages): \n",
    "    blog_title = {}\n",
    "    for language in languages:\n",
    "        blog_title[language] = station_name[language]\n",
    "        blog_title[language] += quake_signals_title[language]\n",
    "        blog_title[language] += Already_happened[language]\n",
    "        quake_number = 0\n",
    "        for quake in quake_signals:\n",
    "            quake_number += 1\n",
    "            blog_title[language] += '('\n",
    "            blog_title[language] += str(quake_number)\n",
    "            blog_title[language] += ')'\n",
    "            blog_title[language] += quake['color'][language]\n",
    "            #blog_title[language] += Within[language]\n",
    "            blog_title[language] += str(quake['time'])\n",
    "            blog_title[language] += ' '\n",
    "            blog_title[language] += quake['location'][language]\n",
    "            blog_title[language] += ' '\n",
    "            blog_title[language] += quake['magnitude']\n",
    "            blog_title[language] += ' '\n",
    "    \n",
    "    blog_title_str = (time_stamp + ' ')\n",
    "    \n",
    "    for language in languages:\n",
    "        blog_title_str += (blog_title[language])\n",
    "    \n",
    "    blog_title_str = blog_title_str.strip() # remove extra white space\n",
    "    #print(blog_title_str)\n",
    "    pyperclip.copy(blog_title_str) # copy to clipboard\n",
    "    \n",
    "    return (blog_title, blog_title_str)"
   ]
  },
  {
   "cell_type": "code",
   "execution_count": 10,
   "metadata": {
    "collapsed": true
   },
   "outputs": [],
   "source": [
    "def get_Quake_Signals_text(languages):\n",
    "    blog_text = {}\n",
    "    for language in languages:\n",
    "        blog_text[language] = station_name[language]\n",
    "        blog_text[language] += quake_signals_title[language] + '\\n'\n",
    "        blog_text[language] += Already_happened[language] + '\\n'\n",
    "        quake_number = 0\n",
    "        for quake in quake_signals:\n",
    "            quake_number += 1\n",
    "            blog_text[language] += '('\n",
    "            blog_text[language] += str(quake_number)\n",
    "            blog_text[language] += ')'\n",
    "            blog_text[language] += quake['color'][language]\n",
    "            #blog_text[language] += Within[language]\n",
    "            blog_text[language] += str(quake['time'])\n",
    "            blog_text[language] += ' '\n",
    "            #blog_text[language] += Days[language]\n",
    "            blog_text[language] += quake['location'][language]\n",
    "            blog_text[language] += ' '\n",
    "            blog_text[language] += quake['magnitude']\n",
    "            blog_text[language] += '\\n'\n",
    "        blog_text[language] += '\\n'    \n",
    "        blog_text[language] += author[language]\n",
    "        blog_text[language] += '\\n'\n",
    "        blog_text[language] += time_stamp\n",
    "        blog_text[language] += '\\n\\n\\n'\n",
    "\n",
    "    blog_text_str = ''        \n",
    "    for language in languages:\n",
    "        blog_text_str += blog_text[language]\n",
    "    blog_text_str = blog_text_str.strip() # remove extra white space\n",
    "    #print(blog_text_str)\n",
    "    pyperclip.copy(blog_text_str) # copy to clipboard"
   ]
  },
  {
   "cell_type": "code",
   "execution_count": 11,
   "metadata": {
    "collapsed": true
   },
   "outputs": [],
   "source": [
    "def click_Edit_area():    \n",
    "    pyautogui.moveTo(1100, 1000)\n",
    "    time.sleep(1)\n",
    "    pyautogui.click()\n",
    "    time.sleep(1)"
   ]
  },
  {
   "cell_type": "code",
   "execution_count": 12,
   "metadata": {
    "collapsed": true
   },
   "outputs": [],
   "source": [
    "def get_blog_address():\n",
    "    click_Blogger_tab()\n",
    "\n",
    "    pyautogui.moveTo(710, 61)\n",
    "    pyautogui.tripleClick()\n",
    "    pyautogui.rightClick()\n",
    "    time.sleep(0.5)\n",
    "    pyautogui.press('down')\n",
    "    pyautogui.press('down')\n",
    "    pyautogui.press('c') # copy blog address to clipboard\n",
    "    blog_address = pyperclip.paste() # read blog address from clipboard\n",
    "    #print('Blog address: ' + blog_address)\n",
    "    #print()\n",
    "    return blog_address"
   ]
  },
  {
   "cell_type": "code",
   "execution_count": 13,
   "metadata": {
    "collapsed": true
   },
   "outputs": [],
   "source": [
    "def set_blog_text():\n",
    "    click_Blogger_tab()\n",
    "    scroll_down()\n",
    "    click_Edit_area()\n",
    "    pyautogui.press('backspace')\n",
    "\n",
    "    pyautogui.rightClick()\n",
    "    pyautogui.press('down')\n",
    "    pyautogui.press('down')\n",
    "    pyautogui.press('p') # paste from clipboard"
   ]
  },
  {
   "cell_type": "code",
   "execution_count": 14,
   "metadata": {
    "collapsed": true
   },
   "outputs": [],
   "source": [
    "def click_Facebook_tab(tab_number):\n",
    "    global Facebook_tab_1_x\n",
    "    global Facebook_tab_2_x\n",
    "    global Facebook_tab_3_x\n",
    "    \n",
    "    if tab_number is 1:\n",
    "        (x, y) = (520, 30)\n",
    "    elif tab_number is 2:\n",
    "        (x, y) = (630, 30)\n",
    "    elif tab_number is 3:\n",
    "        (x, y) = (733, 30)\n",
    "    else:\n",
    "        print('Wrong tab number:', str(tab_number))\n",
    "    \n",
    "    pyautogui.moveTo(x, y)\n",
    "    time.sleep(1)\n",
    "    pyautogui.click() # click"
   ]
  },
  {
   "cell_type": "code",
   "execution_count": 15,
   "metadata": {
    "collapsed": true
   },
   "outputs": [],
   "source": [
    "def click_WeChat_icon():\n",
    "    pyautogui.moveTo(1000, 1079)\n",
    "    time.sleep(1)\n",
    "    pyautogui.moveTo(564, 1058)\n",
    "    time.sleep(1)\n",
    "    pyautogui.click()\n",
    "    time.sleep(1)"
   ]
  },
  {
   "cell_type": "code",
   "execution_count": 16,
   "metadata": {
    "collapsed": true
   },
   "outputs": [],
   "source": [
    "def click_WeChat_Edit_area():\n",
    "    pyautogui.moveTo(1090, 935)\n",
    "    time.sleep(1)\n",
    "    pyautogui.click()\n",
    "    time.sleep(1)"
   ]
  },
  {
   "cell_type": "code",
   "execution_count": 17,
   "metadata": {
    "collapsed": true
   },
   "outputs": [],
   "source": [
    "def post_to_WeChat():\n",
    "    click_WeChat_icon()\n",
    "    click_WeChat_Edit_area()\n",
    "    \n",
    "    # paste Quake Forecast from clipboard\n",
    "    pyautogui.hotkey('ctrl', 'v')\n",
    "    \n",
    "    # darg analysis file 1 to WeChat\n",
    "    x = 160\n",
    "    y = 70\n",
    "    pyautogui.moveTo(x, y)\n",
    "    time.sleep(1)\n",
    "    pyautogui.click()\n",
    "    time.sleep(1)\n",
    "    \n",
    "    pyautogui.dragTo(1090, 935, 2)\n",
    "    pyautogui.click()\n",
    "    time.sleep(1)\n",
    "\n",
    "    pyautogui.press('enter')\n",
    "    time.sleep(3)"
   ]
  },
  {
   "cell_type": "code",
   "execution_count": 18,
   "metadata": {
    "collapsed": true
   },
   "outputs": [],
   "source": [
    "def click_Twitter_tab():\n",
    "    (x, y) = (404, 30)\n",
    "    pyautogui.moveTo(x, y)\n",
    "    time.sleep(1)\n",
    "    pyautogui.click() # click"
   ]
  },
  {
   "cell_type": "code",
   "execution_count": 19,
   "metadata": {
    "collapsed": true
   },
   "outputs": [],
   "source": [
    "def click_Twit_button():\n",
    "    (x, y) = (1775, 122)\n",
    "    pyautogui.moveTo(x, y)\n",
    "    time.sleep(1)\n",
    "    pyautogui.click() # click"
   ]
  },
  {
   "cell_type": "code",
   "execution_count": 20,
   "metadata": {
    "collapsed": true
   },
   "outputs": [],
   "source": [
    "def click_Twitter_Edit_area():\n",
    "    (x, y) = (1068, 466)\n",
    "    pyautogui.moveTo(x, y)\n",
    "    time.sleep(1)\n",
    "    pyautogui.click() # click"
   ]
  },
  {
   "cell_type": "code",
   "execution_count": 21,
   "metadata": {
    "collapsed": true
   },
   "outputs": [],
   "source": [
    "def post_to_Twitter():\n",
    "    click_Twitter_tab()\n",
    "    click_Twit_button()\n",
    "\n",
    "    # paste Quake Forecast from clipboard\n",
    "    pyautogui.hotkey('ctrl', 'v')\n",
    "\n",
    "    # darg analysis file 1 to Twitter\n",
    "    x = 160\n",
    "    y = 70\n",
    "    pyautogui.moveTo(x, y)\n",
    "    time.sleep(1)\n",
    "    pyautogui.click()\n",
    "    time.sleep(1)\n",
    "    \n",
    "    pyautogui.dragTo(1068, 466, 2)\n",
    "    pyautogui.click()\n",
    "    time.sleep(1)\n",
    "\n",
    "    for i in range(0, 6):\n",
    "        pyautogui.press('tab')\n",
    "    pyautogui.press('enter')\n",
    "    \n",
    "    time.sleep(3)\n",
    "    \n",
    "    #pyautogui.scroll(-100) # scroll down"
   ]
  },
  {
   "cell_type": "code",
   "execution_count": 22,
   "metadata": {
    "collapsed": true
   },
   "outputs": [],
   "source": [
    "def publish_blog():\n",
    "    pyautogui.moveTo(1717, 237)\n",
    "    time.sleep(2)\n",
    "    pyautogui.click()"
   ]
  },
  {
   "cell_type": "code",
   "execution_count": 23,
   "metadata": {
    "collapsed": true
   },
   "outputs": [],
   "source": [
    "def view_blog():\n",
    "    click_Blogger_tab()\n",
    "    #time.sleep(7)\n",
    "    time.sleep(1)\n",
    "    pyautogui.moveTo(833, 504)\n",
    "    #time.sleep(3)\n",
    "    time.sleep(10)\n",
    "    pyautogui.click()\n",
    "    time.sleep(1)"
   ]
  },
  {
   "cell_type": "code",
   "execution_count": 24,
   "metadata": {
    "collapsed": true
   },
   "outputs": [],
   "source": [
    "def close_Blogger_article_list():\n",
    "    click_Blogger_tab()\n",
    "    time.sleep(1)\n",
    "    \n",
    "    pyautogui.click()\n",
    "    time.sleep(1)\n",
    "    \n",
    "    pyautogui.rightClick()\n",
    "    time.sleep(1)\n",
    "\n",
    "    for i in range(0, 6):\n",
    "        pyautogui.press('down')\n",
    "    \n",
    "    time.sleep(1)\n",
    "    pyautogui.press('enter')\n",
    "\n",
    "    pyautogui.moveRel(50, 0)\n",
    "    #pyautogui.moveRel(30, 0)\n",
    "    time.sleep(1)"
   ]
  },
  {
   "cell_type": "code",
   "execution_count": null,
   "metadata": {
    "collapsed": false
   },
   "outputs": [],
   "source": [
    "station_name = station['洛杉磯站']\n",
    "time_stamp = get_time_stamp()\n",
    "languages = ['Chinese', 'Japanese', 'English']\n",
    "signals = [\n",
    "    {'color': Red,\n",
    "    'time': '2017-05-09 21:52 UTC+8',\n",
    "    'location': {\n",
    "        'Chinese': '萬那杜',\n",
    "        'Japanese': 'バヌアツ',\n",
    "        'English': 'Vanuatu'},\n",
    "    'magnitude': 'M6.8'}]"
   ]
  },
  {
   "cell_type": "code",
   "execution_count": null,
   "metadata": {
    "collapsed": false
   },
   "outputs": [],
   "source": [
    "(blog_title, blog_title_str) = get_Quake_Signals_title(languages)\n",
    "set_blog_title()\n",
    "get_Quake_Signals_text(languages)\n",
    "set_blog_text()\n",
    "publish_blog()\n",
    "time.sleep(1)"
   ]
  },
  {
   "cell_type": "code",
   "execution_count": null,
   "metadata": {
    "collapsed": true
   },
   "outputs": [],
   "source": [
    "# '日本、俄羅斯或阿拉斯加，',\n",
    "# '日本、ロシアまたはアラスカ、',\n",
    "# 'Japan, Russia or Alaska, '},\n",
    "\n",
    "# '南太平洋或南美洲，',\n",
    "# '南太平洋または南米',\n",
    "# 'South Pacific or South America, '},"
   ]
  },
  {
   "cell_type": "code",
   "execution_count": 25,
   "metadata": {
    "collapsed": true
   },
   "outputs": [],
   "source": [
    "def post_Quake_Forecast(blog_address, blog_title_str):\n",
    "    # Post to Facebook, WeChat and Twitter\n",
    "\n",
    "    #Twitter_languages = ['Chinese', 'Japanese']\n",
    "    Twitter_languages = ['Japanese']\n",
    "    (blog_title_Twitter, blog_title_str_Twitter) = get_Quake_Forecast_title(Twitter_languages)\n",
    "\n",
    "    post_text_Twitter = blog_title_str_Twitter + '\\n' + blog_address\n",
    "    print(post_text_Twitter)\n",
    "\n",
    "    pyperclip.copy(post_text_Twitter) # copy to clipboard\n",
    "    post_to_Twitter()\n",
    "    \n",
    "    \n",
    "    post_text = blog_title_str + '\\n' + blog_address\n",
    "    print(post_text)\n",
    "    \n",
    "    pyperclip.copy(post_text) # copy to clipboard\n",
    "    post_to_WeChat()\n",
    "\n",
    "    pyperclip.copy(post_text) # copy to clipboard\n",
    "    post_to_Facebook(1)\n",
    "\n",
    "    pyperclip.copy(post_text) # copy to clipboard\n",
    "    post_to_Facebook(2)\n",
    "\n",
    "    pyperclip.copy(post_text) # copy to clipboard\n",
    "    post_to_Facebook(3)"
   ]
  },
  {
   "cell_type": "code",
   "execution_count": 26,
   "metadata": {
    "collapsed": true
   },
   "outputs": [],
   "source": [
    "def publish_Quake_Forecast(languages):\n",
    "    (blog_title, blog_title_str) = get_Quake_Forecast_title(languages)\n",
    "    set_blog_title()\n",
    "    get_Quake_Forecast_text(languages)\n",
    "    set_blog_text()\n",
    "    publish_blog()\n",
    "    time.sleep(15)\n",
    "    return (blog_title, blog_title_str)"
   ]
  },
  {
   "cell_type": "code",
   "execution_count": 27,
   "metadata": {
    "collapsed": true
   },
   "outputs": [],
   "source": [
    "def post_to_Facebook(tab_number):\n",
    "    click_Facebook_tab(tab_number)\n",
    "\n",
    "    if tab_number is 1:\n",
    "        (x, y) = (1244, 945)\n",
    "    elif tab_number is 2:\n",
    "        (x, y) = (1002, 832)\n",
    "    elif tab_number is 3:\n",
    "        (x, y) = (832, 950)\n",
    "        #(x, y) = (977, 972)\n",
    "    else:\n",
    "        print('Wrong tab number:', str(tab_number))\n",
    "        \n",
    "    pyautogui.moveTo(x, y)\n",
    "    time.sleep(1)\n",
    "    pyautogui.scroll(10000) # scroll up\n",
    "    time.sleep(1)\n",
    "\n",
    "    pyautogui.moveTo(x, y)\n",
    "    pyautogui.click()\n",
    "    time.sleep(1)\n",
    "\n",
    "    # paste Quake Forecast from clipboard\n",
    "    pyautogui.hotkey('ctrl', 'v')\n",
    "    time.sleep(4)\n",
    "    \n",
    "    #click_Publish_button() # Publish\n",
    "    if tab_number is 1:\n",
    "        pyautogui.moveTo(x+100, y)\n",
    "        time.sleep(1)\n",
    "        pyautogui.scroll(-700) # scroll down\n",
    "        time.sleep(2)\n",
    "        \n",
    "        for i in range(0, 9):\n",
    "            pyautogui.press('tab')\n",
    "            time.sleep(1)\n",
    "        pyautogui.press('enter')\n",
    "        time.sleep(1)\n",
    "        #pyautogui.scroll(-100) # scroll down\n",
    "    elif tab_number is 2:\n",
    "        pyautogui.moveTo(x+100, y)\n",
    "        time.sleep(1)\n",
    "        pyautogui.scroll(-700) # scroll down\n",
    "        time.sleep(2)\n",
    "        \n",
    "        for i in range(0, 14):\n",
    "            pyautogui.press('tab')\n",
    "            time.sleep(1)\n",
    "        pyautogui.press('enter')\n",
    "        time.sleep(1)\n",
    "        #pyautogui.scroll(-100) # scroll down\n",
    "    elif tab_number is 3:\n",
    "        # darg analysis file 1 to Facebook\n",
    "        #x = 160\n",
    "        #y = 70\n",
    "        #pyautogui.moveTo(x, y)\n",
    "        #time.sleep(1)\n",
    "        #pyautogui.click()\n",
    "        #time.sleep(1)\n",
    "    \n",
    "        #pyautogui.dragTo(977, 972, 2)\n",
    "        #time.sleep(1)\n",
    "        \n",
    "        pyautogui.scroll(-900) # scroll down\n",
    "        time.sleep(2)\n",
    "        \n",
    "        pyautogui.moveTo(1318, 664)\n",
    "        time.sleep(1)\n",
    "        #pyautogui.click()\n",
    "        #time.sleep(1)\n",
    "        \n",
    "        #for i in range(0, 14):\n",
    "        #    pyautogui.press('tab')\n",
    "        #    time.sleep(1)\n",
    "        #pyautogui.press('enter')\n",
    "        #time.sleep(1)\n",
    "        #pyautogui.scroll(-700) # scroll down\n",
    "    else:\n",
    "        print('Wrong tab number:', str(tab_number))\n",
    "    \n",
    "    time.sleep(4)\n",
    "    #time.sleep(5)"
   ]
  },
  {
   "cell_type": "code",
   "execution_count": null,
   "metadata": {
    "collapsed": false
   },
   "outputs": [
    {
     "name": "stdout",
     "output_type": "stream",
     "text": [
      "Cannot locate:BloggerTab.png\n",
      "2017-05-29 00:48 UTC+8 カナダ リッチモンド局地震予報：(1)赤：6日以內に、チリ、インドネシア、フィリピン、南日本または東台湾、M7+ ~ M8+\n",
      "http://quakeforecast.blogspot.tw/2017/05/2017-05-29-0048-utc8-16m7-m8-16m7-m8.html\n",
      "2017-05-29 00:48 UTC+8 加拿大列治文站地震預報：(1)紅：6日以內，智利、印尼、菲律賓、南日本或東台灣，M7+ ~ M8+ カナダ リッチモンド局地震予報：(1)赤：6日以內に、チリ、インドネシア、フィリピン、南日本または東台湾、M7+ ~ M8+ Richmond BC Canada Station Quake Forecast: (1)Red: Within 6 days, Chile, Indonesia, Philippines, South Japan or East Taiwan, M7+ ~ M8+\n",
      "http://quakeforecast.blogspot.tw/2017/05/2017-05-29-0048-utc8-16m7-m8-16m7-m8.html\n"
     ]
    }
   ],
   "source": [
    "insert_files(1)\n",
    "\n",
    "station_name = station['加拿大列治文站']\n",
    "languages = ['Chinese', 'Japanese', 'English']\n",
    "quake_forecast = [\n",
    "    {'color': Red,\n",
    "    'time': 6,\n",
    "    'location': {\n",
    "        'Chinese': '智利、印尼、菲律賓、南日本或東台灣，',\n",
    "        'Japanese': 'チリ、インドネシア、フィリピン、南日本または東台湾、',\n",
    "        'English': 'Chile, Indonesia, Philippines, South Japan or East Taiwan, '},\n",
    "    'magnitude': 'M7+ ~ M8+'}]\n",
    "\n",
    "time_stamp = get_time_stamp()\n",
    "(blog_title, blog_title_str) = publish_Quake_Forecast(languages)\n",
    "view_blog()\n",
    "close_Blogger_article_list()\n",
    "\n",
    "blog_address = get_blog_address()\n",
    "post_Quake_Forecast(blog_address, blog_title_str)"
   ]
  },
  {
   "cell_type": "code",
   "execution_count": null,
   "metadata": {
    "collapsed": false
   },
   "outputs": [],
   "source": [
    "blog_address = get_blog_address()\n",
    "post_Quake_Forecast(blog_address, blog_title_str)"
   ]
  },
  {
   "cell_type": "code",
   "execution_count": null,
   "metadata": {
    "collapsed": false
   },
   "outputs": [],
   "source": [
    "insert_files(2)\n",
    "\n",
    "station_name = station['台南新生站']\n",
    "languages = ['Chinese', 'Japanese', 'English']\n",
    "quake_forecast = [\n",
    "    {'color': Red,\n",
    "    'time': 6,\n",
    "    'location': {\n",
    "        'Chinese': '智利、印尼、菲律賓、南日本或東台灣，',\n",
    "        'Japanese': 'チリ、インドネシア、フィリピン、南日本または東台湾、',\n",
    "        'English': 'Chile, Indonesia, Philippines, South Japan or East Taiwan, '},\n",
    "    'magnitude': 'M7+ ~ M8+'},\n",
    "    {'color': Orange,\n",
    "    'time': 6,\n",
    "    'location': {\n",
    "        'Chinese': '台東、花蓮或沖繩，',\n",
    "        'Japanese': '台東、花蓮または沖縄、',\n",
    "        'English': 'Taitung, Hualien or Okinawa, '},\n",
    "    'magnitude': 'M6+ ~ M7+'}]\n",
    "\n",
    "time_stamp = get_time_stamp()\n",
    "(blog_title, blog_title_str) = publish_Quake_Forecast(languages)\n",
    "view_blog()\n",
    "close_Blogger_article_list()\n",
    "\n",
    "blog_address = get_blog_address()\n",
    "post_Quake_Forecast(blog_address, blog_title_str)"
   ]
  },
  {
   "cell_type": "code",
   "execution_count": null,
   "metadata": {
    "collapsed": false
   },
   "outputs": [],
   "source": [
    "blog_address = get_blog_address()\n",
    "post_Quake_Forecast(blog_address, blog_title_str)"
   ]
  },
  {
   "cell_type": "code",
   "execution_count": null,
   "metadata": {
    "collapsed": true
   },
   "outputs": [],
   "source": [
    "post_to_Facebook(1)\n",
    "post_to_Facebook(2)\n",
    "post_to_Facebook(3)"
   ]
  },
  {
   "cell_type": "code",
   "execution_count": null,
   "metadata": {
    "collapsed": false
   },
   "outputs": [],
   "source": [
    "insert_files(1)\n",
    "\n",
    "station_name = station['上海站']\n",
    "languages = ['Chinese', 'Japanese', 'English']\n",
    "quake_forecast = [\n",
    "    {'color': Orange,\n",
    "    'time': 5,\n",
    "    'location': {\n",
    "        'Chinese': '南日本或台灣，',\n",
    "        'Japanese': '南日本または台湾、',\n",
    "        'English': 'South Japan or Taiwan, '},\n",
    "    'magnitude': 'M6.0'}]\n",
    "\n",
    "time_stamp = get_time_stamp()\n",
    "(blog_title, blog_title_str) = publish_Quake_Forecast(languages)\n",
    "view_blog()\n",
    "close_Blogger_article_list()\n",
    "\n",
    "blog_address = get_blog_address()\n",
    "post_Quake_Forecast(blog_address, blog_title_str)"
   ]
  },
  {
   "cell_type": "code",
   "execution_count": null,
   "metadata": {
    "collapsed": false
   },
   "outputs": [],
   "source": [
    "insert_files(1)\n",
    "\n",
    "station_name = station['洛杉磯站']\n",
    "languages = ['Chinese', 'Japanese', 'English']\n",
    "quake_forecast = [\n",
    "    {'color': Red,\n",
    "    'time': 8,\n",
    "    'location': {\n",
    "        'Chinese': '南日本、台灣、南太平洋或南美洲，',\n",
    "        'Japanese': '南日本、台湾、南太平洋または南米、',\n",
    "        'English': 'South Japan, Taiwan, South Pacific or South America, '},\n",
    "    'magnitude': 'M7+ ~ M8+'}]\n",
    "\n",
    "time_stamp = get_time_stamp()\n",
    "(blog_title, blog_title_str) = publish_Quake_Forecast(languages)\n",
    "view_blog()\n",
    "close_Blogger_article_list()\n",
    "\n",
    "blog_address = get_blog_address()\n",
    "post_Quake_Forecast(blog_address, blog_title_str)"
   ]
  },
  {
   "cell_type": "code",
   "execution_count": null,
   "metadata": {
    "collapsed": false
   },
   "outputs": [],
   "source": [
    "blog_address = get_blog_address()\n",
    "post_Quake_Forecast(blog_address, blog_title_str)"
   ]
  },
  {
   "cell_type": "code",
   "execution_count": null,
   "metadata": {
    "collapsed": false
   },
   "outputs": [],
   "source": [
    "post_to_Facebook(1)\n",
    "post_to_Facebook(2)\n",
    "post_to_Facebook(3)"
   ]
  },
  {
   "cell_type": "code",
   "execution_count": null,
   "metadata": {
    "collapsed": false
   },
   "outputs": [],
   "source": [
    "post_to_Facebook(3)"
   ]
  },
  {
   "cell_type": "code",
   "execution_count": null,
   "metadata": {
    "collapsed": true
   },
   "outputs": [],
   "source": []
  }
 ],
 "metadata": {
  "anaconda-cloud": {},
  "kernelspec": {
   "display_name": "Python 3",
   "language": "python",
   "name": "python3"
  },
  "language_info": {
   "codemirror_mode": {
    "name": "ipython",
    "version": 3
   },
   "file_extension": ".py",
   "mimetype": "text/x-python",
   "name": "python",
   "nbconvert_exporter": "python",
   "pygments_lexer": "ipython3",
   "version": "3.6.0"
  }
 },
 "nbformat": 4,
 "nbformat_minor": 1
}
