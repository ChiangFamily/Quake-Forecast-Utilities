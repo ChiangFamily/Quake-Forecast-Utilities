{
 "cells": [
  {
   "cell_type": "code",
   "execution_count": 1,
   "metadata": {
    "collapsed": false
   },
   "outputs": [],
   "source": [
    "import pyautogui\n",
    "import time\n",
    "import pyperclip\n",
    "from station import station\n",
    "\n",
    "pyautogui.PAUSE = 0.1\n",
    "pyautogui.FAILSAFE = True"
   ]
  },
  {
   "cell_type": "code",
   "execution_count": 2,
   "metadata": {
    "collapsed": true
   },
   "outputs": [],
   "source": [
    "quake_forecast_title = {\n",
    "    'Chinese': '地震預報：',\n",
    "    'Japanese': '地震予報：',\n",
    "    'English': 'Quake Forecast: '\n",
    "}\n",
    "\n",
    "quake_signals_title = {\n",
    "    'Chinese': '地震訊號：',\n",
    "    'Japanese': '地震信号：',\n",
    "    'English': 'Quake Signals: '\n",
    "}\n",
    "\n",
    "author = {\n",
    "    'Chinese': '台灣地震預測研究所 所長\\n林湧森',\n",
    "    'Japanese': '台湾地震予測研究所 所長\\n林湧森',\n",
    "    'English': 'Dyson Lin\\nFounder & CEO, Taiwan Quake Forecast Institute'}"
   ]
  },
  {
   "cell_type": "code",
   "execution_count": 3,
   "metadata": {
    "collapsed": false
   },
   "outputs": [],
   "source": [
    "Already_happened = {\n",
    "    'Chinese': '已經發生：',\n",
    "    'Japanese': '発生しました：',\n",
    "    'English': 'Already happened: '}\n",
    "\n",
    "Within = {\n",
    "    'Chinese': '',\n",
    "    'Japanese': '',\n",
    "    'English': 'Within '}\n",
    "\n",
    "Days = {\n",
    "    'Chinese': '日以內，',\n",
    "    'Japanese': '日以內に、',\n",
    "    'English': ' days, '}"
   ]
  },
  {
   "cell_type": "code",
   "execution_count": 4,
   "metadata": {
    "collapsed": true
   },
   "outputs": [],
   "source": [
    "Red = {\n",
    "    'Chinese': '紅：',\n",
    "    'Japanese': '赤：',\n",
    "    'English': 'Red: '}\n",
    "\n",
    "Orange = {\n",
    "    'Chinese': '橙：',\n",
    "    'Japanese': 'オレンジ：',\n",
    "    'English': 'Orange: '}\n",
    "\n",
    "Yellow = {\n",
    "    'Chinese': '黃：',\n",
    "    'Japanese': '黃：',\n",
    "    'English': 'Yellow: '}\n",
    "\n",
    "Green = {\n",
    "    'Chinese': '綠：',\n",
    "    'Japanese': '綠：',\n",
    "    'English': 'Green: '}\n",
    "\n",
    "Blue = {\n",
    "    'Chinese': '藍：',\n",
    "    'Japanese': '青：',\n",
    "    'English': 'Blue: '}\n",
    "\n",
    "Purple = {\n",
    "    'Chinese': '紫：',\n",
    "    'Japanese': '紫：',\n",
    "    'English': 'Purple: '}"
   ]
  },
  {
   "cell_type": "code",
   "execution_count": 5,
   "metadata": {
    "collapsed": true
   },
   "outputs": [],
   "source": [
    "def get_time_stamp():\n",
    "    time_stamp = time.strftime(\"%Y-%m-%d\")\n",
    "    time_stamp += ' '\n",
    "    time_stamp += time.strftime(\"%H:%M\")\n",
    "    time_stamp += ' UTC+8'\n",
    "    return time_stamp"
   ]
  },
  {
   "cell_type": "code",
   "execution_count": 6,
   "metadata": {
    "collapsed": true
   },
   "outputs": [],
   "source": [
    "def locate_and_click(png_file_name):\n",
    "    x, y = pyautogui.locateCenterOnScreen(png_file_name) # locate\n",
    "    pyautogui.moveTo(x, y)\n",
    "    time.sleep(0.1)\n",
    "    pyautogui.click() # click"
   ]
  },
  {
   "cell_type": "code",
   "execution_count": 7,
   "metadata": {
    "collapsed": true
   },
   "outputs": [],
   "source": [
    "def click_Blogger_tab():\n",
    "    locate_and_click('BloggerTab.png')\n",
    "    #x, y = pyautogui.locateCenterOnScreen('BloggerTab.png', region=(0,0, 1919, 50)) # locate\n",
    "    #pyautogui.moveTo(x, y)\n",
    "    #time.sleep(1)\n",
    "    #pyautogui.click() # click"
   ]
  },
  {
   "cell_type": "code",
   "execution_count": 8,
   "metadata": {
    "collapsed": true
   },
   "outputs": [],
   "source": [
    "def click_Blog_Title():\n",
    "    #locate_and_click('BlogTitle.png')\n",
    "    pyautogui.moveTo(1147, 216)\n",
    "    time.sleep(0.1)\n",
    "    pyautogui.click() # click"
   ]
  },
  {
   "cell_type": "code",
   "execution_count": 9,
   "metadata": {
    "collapsed": true
   },
   "outputs": [],
   "source": [
    "Facebook_tab_1_x = 0\n",
    "Facebook_tab_2_x = 0\n",
    "Facebook_tab_3_x = 0"
   ]
  },
  {
   "cell_type": "code",
   "execution_count": 10,
   "metadata": {
    "collapsed": true
   },
   "outputs": [],
   "source": [
    "def click_Publish_button():\n",
    "    #x, y = pyautogui.locateCenterOnScreen('PublishButton.png', region=(1400,135, 469, 945)) # locate\n",
    "    x, y = pyautogui.locateCenterOnScreen('PublishButton.png') # locate\n",
    "    pyautogui.moveTo(x, y)\n",
    "    time.sleep(0.1)\n",
    "    pyautogui.click() # click"
   ]
  },
  {
   "cell_type": "code",
   "execution_count": 11,
   "metadata": {
    "collapsed": true
   },
   "outputs": [],
   "source": [
    "already_happened = [\n",
    "    {'color': Red,\n",
    "    'time': '2017-04-15 16:19 UTC+8',\n",
    "    'location': {\n",
    "        'Chinese': '智利',\n",
    "        'Japanese': 'チリ',\n",
    "        'English': 'Chile'},\n",
    "    'magnitude': 'M6.2'},\n",
    "    {'color': Orange,\n",
    "    'time': '2017-04-25 05:38 UTC+8',\n",
    "    'location': {\n",
    "        'Chinese': '智利',\n",
    "        'Japanese': 'チリ',\n",
    "        'English': 'Chile'},\n",
    "    'magnitude': 'M6.9'}]\n",
    "\n",
    "print_already_happened = True"
   ]
  },
  {
   "cell_type": "code",
   "execution_count": 12,
   "metadata": {
    "collapsed": false
   },
   "outputs": [],
   "source": [
    "# 發生了： 発生了： Happened:\n",
    "# (1)2017-04-15 16:19 UTC+8 智利 チリ Chile M6.2\n",
    "# (2)2017-04-25 05:38 UTC+8 智利 チリ Chile M6.9\n"
   ]
  },
  {
   "cell_type": "code",
   "execution_count": 13,
   "metadata": {
    "collapsed": false
   },
   "outputs": [],
   "source": [
    "#發生了： 発生了： Happened:\n",
    "#2017-04-29 04:23 UTC+8 M6.8 菲律賓 フィリピン Philippines\n"
   ]
  },
  {
   "cell_type": "code",
   "execution_count": 14,
   "metadata": {
    "collapsed": true
   },
   "outputs": [],
   "source": [
    "def set_blog_title():\n",
    "    click_Blogger_tab()\n",
    "    click_Blog_Title()\n",
    "    \n",
    "    # paste from clipboard\n",
    "    pyautogui.rightClick()\n",
    "    pyautogui.press('down')\n",
    "    pyautogui.press('down')\n",
    "    pyautogui.press('p')\n",
    "    time.sleep(0.1)\n",
    "    pyautogui.press('enter')"
   ]
  },
  {
   "cell_type": "code",
   "execution_count": 15,
   "metadata": {
    "collapsed": true
   },
   "outputs": [],
   "source": [
    "def get_Quake_Forecast_title(languages): \n",
    "    blog_title = {}\n",
    "    for language in languages:\n",
    "        blog_title[language] = station_name[language]\n",
    "        blog_title[language] += quake_forecast_title[language]\n",
    "        quake_number = 0\n",
    "        for quake in quake_forecast:\n",
    "            quake_number += 1\n",
    "            blog_title[language] += '('\n",
    "            blog_title[language] += str(quake_number)\n",
    "            blog_title[language] += ')'\n",
    "            blog_title[language] += quake['color'][language]\n",
    "            blog_title[language] += Within[language]\n",
    "            blog_title[language] += str(quake['time'])\n",
    "            blog_title[language] += Days[language]\n",
    "            blog_title[language] += quake['location'][language]\n",
    "            blog_title[language] += quake['magnitude']\n",
    "            blog_title[language] += ' '\n",
    "    \n",
    "    blog_title_str = (time_stamp + ' ')\n",
    "    \n",
    "    for language in languages:\n",
    "        blog_title_str += (blog_title[language])\n",
    "    \n",
    "    blog_title_str = blog_title_str.strip() # remove extra white space\n",
    "    #print(blog_title_str)\n",
    "    pyperclip.copy(blog_title_str) # copy to clipboard\n",
    "    \n",
    "    return (blog_title, blog_title_str)"
   ]
  },
  {
   "cell_type": "code",
   "execution_count": 16,
   "metadata": {
    "collapsed": true
   },
   "outputs": [],
   "source": [
    "def get_Quake_Forecast_text(languages):\n",
    "    blog_text = {}\n",
    "    for language in languages:\n",
    "        blog_text[language] = station_name[language]\n",
    "        blog_text[language] += quake_forecast_title[language] + '\\n'\n",
    "        quake_number = 0\n",
    "        for quake in quake_forecast:\n",
    "            quake_number += 1\n",
    "            blog_text[language] += '('\n",
    "            blog_text[language] += str(quake_number)\n",
    "            blog_text[language] += ')'\n",
    "            blog_text[language] += quake['color'][language]\n",
    "            blog_text[language] += Within[language]\n",
    "            blog_text[language] += str(quake['time'])\n",
    "            blog_text[language] += Days[language]\n",
    "            blog_text[language] += quake['location'][language]\n",
    "            blog_text[language] += quake['magnitude']\n",
    "            blog_text[language] += '\\n'\n",
    "        blog_text[language] += '\\n'    \n",
    "        blog_text[language] += author[language]\n",
    "        blog_text[language] += '\\n'\n",
    "        blog_text[language] += time_stamp\n",
    "        blog_text[language] += '\\n\\n\\n'\n",
    "\n",
    "    blog_text_str = ''        \n",
    "    for language in languages:\n",
    "        blog_text_str += blog_text[language]\n",
    "    blog_text_str = blog_text_str.strip() # remove extra white space\n",
    "    #print(blog_text_str)\n",
    "    pyperclip.copy(blog_text_str) # copy to clipboard"
   ]
  },
  {
   "cell_type": "code",
   "execution_count": 17,
   "metadata": {
    "collapsed": true
   },
   "outputs": [],
   "source": [
    "def get_Quake_Signals_title(languages): \n",
    "    blog_title = {}\n",
    "    for language in languages:\n",
    "        blog_title[language] = station_name[language]\n",
    "        blog_title[language] += quake_signals_title[language]\n",
    "        blog_title[language] += Already_happened[language]\n",
    "        quake_number = 0\n",
    "        for quake in quake_signals:\n",
    "            quake_number += 1\n",
    "            blog_title[language] += '('\n",
    "            blog_title[language] += str(quake_number)\n",
    "            blog_title[language] += ')'\n",
    "            blog_title[language] += quake['color'][language]\n",
    "            #blog_title[language] += Within[language]\n",
    "            blog_title[language] += str(quake['time'])\n",
    "            blog_title[language] += ' '\n",
    "            blog_title[language] += quake['location'][language]\n",
    "            blog_title[language] += ' '\n",
    "            blog_title[language] += quake['magnitude']\n",
    "            blog_title[language] += ' '\n",
    "    \n",
    "    blog_title_str = (time_stamp + ' ')\n",
    "    \n",
    "    for language in languages:\n",
    "        blog_title_str += (blog_title[language])\n",
    "    \n",
    "    blog_title_str = blog_title_str.strip() # remove extra white space\n",
    "    #print(blog_title_str)\n",
    "    pyperclip.copy(blog_title_str) # copy to clipboard\n",
    "    \n",
    "    return (blog_title, blog_title_str)"
   ]
  },
  {
   "cell_type": "code",
   "execution_count": 18,
   "metadata": {
    "collapsed": true
   },
   "outputs": [],
   "source": [
    "def get_Quake_Signals_text(languages):\n",
    "    blog_text = {}\n",
    "    for language in languages:\n",
    "        blog_text[language] = station_name[language]\n",
    "        blog_text[language] += quake_signals_title[language] + '\\n'\n",
    "        blog_text[language] += Already_happened[language] + '\\n'\n",
    "        quake_number = 0\n",
    "        for quake in quake_signals:\n",
    "            quake_number += 1\n",
    "            blog_text[language] += '('\n",
    "            blog_text[language] += str(quake_number)\n",
    "            blog_text[language] += ')'\n",
    "            blog_text[language] += quake['color'][language]\n",
    "            #blog_text[language] += Within[language]\n",
    "            blog_text[language] += str(quake['time'])\n",
    "            blog_text[language] += ' '\n",
    "            #blog_text[language] += Days[language]\n",
    "            blog_text[language] += quake['location'][language]\n",
    "            blog_text[language] += ' '\n",
    "            blog_text[language] += quake['magnitude']\n",
    "            blog_text[language] += '\\n'\n",
    "        blog_text[language] += '\\n'    \n",
    "        blog_text[language] += author[language]\n",
    "        blog_text[language] += '\\n'\n",
    "        blog_text[language] += time_stamp\n",
    "        blog_text[language] += '\\n\\n\\n'\n",
    "\n",
    "    blog_text_str = ''        \n",
    "    for language in languages:\n",
    "        blog_text_str += blog_text[language]\n",
    "    blog_text_str = blog_text_str.strip() # remove extra white space\n",
    "    #print(blog_text_str)\n",
    "    pyperclip.copy(blog_text_str) # copy to clipboard"
   ]
  },
  {
   "cell_type": "code",
   "execution_count": 19,
   "metadata": {
    "collapsed": true
   },
   "outputs": [],
   "source": [
    "def scroll_down():\n",
    "    pyautogui.moveTo(1100, 600)\n",
    "    time.sleep(1)\n",
    "    pyautogui.scroll(-10000) # scroll down\n",
    "    time.sleep(1)"
   ]
  },
  {
   "cell_type": "code",
   "execution_count": 20,
   "metadata": {
    "collapsed": true
   },
   "outputs": [],
   "source": [
    "def click_Edit_area():    \n",
    "    pyautogui.moveTo(1100, 1000)\n",
    "    time.sleep(1)\n",
    "    pyautogui.click()\n",
    "    time.sleep(1)"
   ]
  },
  {
   "cell_type": "code",
   "execution_count": 21,
   "metadata": {
    "collapsed": true
   },
   "outputs": [],
   "source": [
    "def get_blog_address():\n",
    "    click_Blogger_tab()\n",
    "\n",
    "    pyautogui.moveTo(710, 61)\n",
    "    pyautogui.tripleClick()\n",
    "    pyautogui.rightClick()\n",
    "    time.sleep(0.5)\n",
    "    pyautogui.press('down')\n",
    "    pyautogui.press('down')\n",
    "    pyautogui.press('c') # copy blog address to clipboard\n",
    "    blog_address = pyperclip.paste() # read blog address from clipboard\n",
    "    #print('Blog address: ' + blog_address)\n",
    "    #print()\n",
    "    return blog_address"
   ]
  },
  {
   "cell_type": "code",
   "execution_count": 22,
   "metadata": {
    "collapsed": true
   },
   "outputs": [],
   "source": [
    "def set_blog_text():\n",
    "    click_Blogger_tab()\n",
    "    scroll_down()\n",
    "    click_Edit_area()\n",
    "    pyautogui.press('backspace')\n",
    "\n",
    "    pyautogui.rightClick()\n",
    "    pyautogui.press('down')\n",
    "    pyautogui.press('down')\n",
    "    pyautogui.press('p') # paste from clipboard"
   ]
  },
  {
   "cell_type": "code",
   "execution_count": 23,
   "metadata": {
    "collapsed": true
   },
   "outputs": [],
   "source": [
    "def click_Facebook_tab(tab_number):\n",
    "    global Facebook_tab_1_x\n",
    "    global Facebook_tab_2_x\n",
    "    global Facebook_tab_3_x\n",
    "    \n",
    "    if tab_number is 1:\n",
    "        (x, y) = (520, 30)\n",
    "    elif tab_number is 2:\n",
    "        (x, y) = (630, 30)\n",
    "    elif tab_number is 3:\n",
    "        (x, y) = (733, 30)\n",
    "    else:\n",
    "        print('Wrong tab number:', str(tab_number))\n",
    "    \n",
    "    pyautogui.moveTo(x, y)\n",
    "    time.sleep(1)\n",
    "    pyautogui.click() # click"
   ]
  },
  {
   "cell_type": "code",
   "execution_count": 25,
   "metadata": {
    "collapsed": true
   },
   "outputs": [],
   "source": [
    "def click_WeChat_icon():\n",
    "    pyautogui.moveTo(1000, 1079)\n",
    "    time.sleep(1)\n",
    "    pyautogui.moveTo(564, 1058)\n",
    "    time.sleep(1)\n",
    "    pyautogui.click()\n",
    "    time.sleep(1)"
   ]
  },
  {
   "cell_type": "code",
   "execution_count": 26,
   "metadata": {
    "collapsed": true
   },
   "outputs": [],
   "source": [
    "def click_WeChat_Edit_area():\n",
    "    pyautogui.moveTo(1090, 935)\n",
    "    time.sleep(1)\n",
    "    pyautogui.click()\n",
    "    time.sleep(1)"
   ]
  },
  {
   "cell_type": "code",
   "execution_count": 27,
   "metadata": {
    "collapsed": true
   },
   "outputs": [],
   "source": [
    "def post_to_WeChat():\n",
    "    click_WeChat_icon()\n",
    "    click_WeChat_Edit_area()\n",
    "    \n",
    "    # paste Quake Forecast from clipboard\n",
    "    pyautogui.hotkey('ctrl', 'v')\n",
    "    \n",
    "    # darg analysis file 1 to WeChat\n",
    "    #x = 265\n",
    "    x = 160\n",
    "    y = 70\n",
    "    pyautogui.moveTo(x, y)\n",
    "    time.sleep(1)\n",
    "    pyautogui.click()\n",
    "    time.sleep(1)\n",
    "    \n",
    "    pyautogui.dragTo(1090, 935, 2)\n",
    "    pyautogui.click()\n",
    "    time.sleep(1)\n",
    "\n",
    "    pyautogui.press('enter')\n",
    "    time.sleep(3)"
   ]
  },
  {
   "cell_type": "code",
   "execution_count": 28,
   "metadata": {
    "collapsed": true
   },
   "outputs": [],
   "source": [
    "def click_Twitter_tab():\n",
    "    (x, y) = (404, 30)\n",
    "    pyautogui.moveTo(x, y)\n",
    "    time.sleep(1)\n",
    "    pyautogui.click() # click"
   ]
  },
  {
   "cell_type": "code",
   "execution_count": 29,
   "metadata": {
    "collapsed": true
   },
   "outputs": [],
   "source": [
    "def click_Twit_button():\n",
    "    (x, y) = (1775, 122)\n",
    "    pyautogui.moveTo(x, y)\n",
    "    time.sleep(1)\n",
    "    pyautogui.click() # click"
   ]
  },
  {
   "cell_type": "code",
   "execution_count": 30,
   "metadata": {
    "collapsed": true
   },
   "outputs": [],
   "source": [
    "def click_Twitter_Edit_area():\n",
    "    (x, y) = (1068, 466)\n",
    "    pyautogui.moveTo(x, y)\n",
    "    time.sleep(1)\n",
    "    pyautogui.click() # click"
   ]
  },
  {
   "cell_type": "code",
   "execution_count": 31,
   "metadata": {
    "collapsed": true
   },
   "outputs": [],
   "source": [
    "def post_to_Twitter():\n",
    "    click_Twitter_tab()\n",
    "    click_Twit_button()\n",
    "\n",
    "    # paste Quake Forecast from clipboard\n",
    "    pyautogui.hotkey('ctrl', 'v')\n",
    "\n",
    "    # darg analysis file 1 to Twitter\n",
    "    #x = 265\n",
    "    x = 160\n",
    "    y = 70\n",
    "    pyautogui.moveTo(x, y)\n",
    "    time.sleep(1)\n",
    "    pyautogui.click()\n",
    "    time.sleep(1)\n",
    "    \n",
    "    pyautogui.dragTo(1068, 466, 2)\n",
    "    pyautogui.click()\n",
    "    time.sleep(1)\n",
    "\n",
    "    for i in range(0, 6):\n",
    "        pyautogui.press('tab')\n",
    "    pyautogui.press('enter')\n",
    "    \n",
    "    time.sleep(3)\n",
    "    \n",
    "    #pyautogui.scroll(-100) # scroll down"
   ]
  },
  {
   "cell_type": "code",
   "execution_count": 101,
   "metadata": {
    "collapsed": true
   },
   "outputs": [],
   "source": [
    "def publish_blog():\n",
    "    pyautogui.moveTo(1717, 237)\n",
    "    time.sleep(2)\n",
    "    pyautogui.click()"
   ]
  },
  {
   "cell_type": "code",
   "execution_count": 105,
   "metadata": {
    "collapsed": true
   },
   "outputs": [],
   "source": [
    "def view_blog():\n",
    "    click_Blogger_tab()\n",
    "    time.sleep(7)\n",
    "    pyautogui.moveTo(833, 504)\n",
    "    time.sleep(3)\n",
    "    pyautogui.click()\n",
    "    time.sleep(3)"
   ]
  },
  {
   "cell_type": "code",
   "execution_count": 36,
   "metadata": {
    "collapsed": true
   },
   "outputs": [],
   "source": [
    "def close_Blogger_article_list():\n",
    "    # Close Blogger article list\n",
    "    click_Blogger_tab()\n",
    "    #pyautogui.moveTo(1250, 30)\n",
    "    time.sleep(1)\n",
    "    pyautogui.click()\n",
    "    time.sleep(1)\n",
    "    #pyautogui.moveRel(-30, 0)\n",
    "    #time.sleep(1)\n",
    "    pyautogui.rightClick()\n",
    "    time.sleep(1)\n",
    "\n",
    "    for i in range(0, 6):\n",
    "        pyautogui.press('down')\n",
    "    \n",
    "    time.sleep(1)\n",
    "    pyautogui.press('enter')\n",
    "\n",
    "    pyautogui.moveRel(30, 0)\n",
    "    time.sleep(1)"
   ]
  },
  {
   "cell_type": "code",
   "execution_count": null,
   "metadata": {
    "collapsed": true
   },
   "outputs": [],
   "source": [
    "station_name = station['南投草屯站']\n",
    "time_stamp = get_time_stamp()\n",
    "languages = ['Chinese', 'Japanese', 'English']\n",
    "quake_signals = [\n",
    "    {'color': Red,\n",
    "    'time': '2017-04-30 09:57 UTC+8',\n",
    "    'location': {\n",
    "        'Chinese': '菲律賓',\n",
    "        'Japanese': 'フィリピン',\n",
    "        'English': 'Philippines'},\n",
    "    'magnitude': 'M5.4'},\n",
    "    {'color': Orange,\n",
    "    'time': '2017-05-01 20:31 UTC+8',\n",
    "    'location': {\n",
    "        'Chinese': '阿拉斯加',\n",
    "        'Japanese': 'アラスカ',\n",
    "        'English': 'Alaska'},\n",
    "    'magnitude': 'M6.3'}]"
   ]
  },
  {
   "cell_type": "code",
   "execution_count": null,
   "metadata": {
    "collapsed": false
   },
   "outputs": [],
   "source": [
    "(blog_title, blog_title_str) = get_Quake_Signals_title(languages)\n",
    "set_blog_title()\n",
    "get_Quake_Signals_text(languages)\n",
    "set_blog_text()\n",
    "publish_blog()\n",
    "time.sleep(1)"
   ]
  },
  {
   "cell_type": "code",
   "execution_count": null,
   "metadata": {
    "collapsed": true
   },
   "outputs": [],
   "source": [
    "# '日本、俄羅斯或阿拉斯加，',\n",
    "# '日本、ロシアまたはアラスカ、',\n",
    "# 'Japan, Russia or Alaska, '},\n",
    "\n",
    "# '南太平洋或南美洲，',\n",
    "# '南太平洋または南米',\n",
    "# 'South Pacific or South America, '},"
   ]
  },
  {
   "cell_type": "code",
   "execution_count": 66,
   "metadata": {
    "collapsed": true
   },
   "outputs": [],
   "source": [
    "def post_Quake_Forecast(blog_address, blog_title_str):\n",
    "    # Post to Facebook, WeChat and Twitter\n",
    "\n",
    "    #Twitter_languages = ['Chinese', 'Japanese']\n",
    "    Twitter_languages = ['Japanese']\n",
    "    (blog_title_Twitter, blog_title_str_Twitter) = get_Quake_Forecast_title(Twitter_languages)\n",
    "\n",
    "    post_text_Twitter = blog_title_str_Twitter + '\\n' + blog_address\n",
    "    print(post_text_Twitter)\n",
    "\n",
    "    pyperclip.copy(post_text_Twitter) # copy to clipboard\n",
    "    post_to_Twitter()\n",
    "    \n",
    "    \n",
    "    post_text = blog_title_str + '\\n' + blog_address\n",
    "    print(post_text)\n",
    "    \n",
    "    pyperclip.copy(post_text) # copy to clipboard\n",
    "    post_to_WeChat()\n",
    "\n",
    "    pyperclip.copy(post_text) # copy to clipboard\n",
    "    post_to_Facebook(1)\n",
    "\n",
    "    pyperclip.copy(post_text) # copy to clipboard\n",
    "    post_to_Facebook(2)\n",
    "\n",
    "    pyperclip.copy(post_text) # copy to clipboard\n",
    "    post_to_Facebook(3)"
   ]
  },
  {
   "cell_type": "code",
   "execution_count": 82,
   "metadata": {
    "collapsed": true
   },
   "outputs": [],
   "source": [
    "def post_to_Facebook(tab_number):\n",
    "    click_Facebook_tab(tab_number)\n",
    "\n",
    "    if tab_number is 1:\n",
    "        (x, y) = (1244, 945)\n",
    "    elif tab_number is 2:\n",
    "        (x, y) = (1002, 832)\n",
    "    elif tab_number is 3:\n",
    "        (x, y) = (977, 972)\n",
    "    else:\n",
    "        print('Wrong tab number:', str(tab_number))\n",
    "        \n",
    "    pyautogui.moveTo(x, y)\n",
    "    time.sleep(1)\n",
    "    pyautogui.scroll(10000) # scroll up\n",
    "    time.sleep(1)\n",
    "\n",
    "    pyautogui.moveTo(x, y)\n",
    "    pyautogui.click()\n",
    "    time.sleep(1)\n",
    "\n",
    "    # paste Quake Forecast from clipboard\n",
    "    pyautogui.hotkey('ctrl', 'v')\n",
    "    time.sleep(4)\n",
    "\n",
    "    pyautogui.moveTo(x+100, y)\n",
    "    time.sleep(1)\n",
    "    pyautogui.scroll(-700) # scroll down\n",
    "    time.sleep(2)\n",
    "    \n",
    "    #click_Publish_button() # Publish\n",
    "    if tab_number is 1:\n",
    "        for i in range(0, 9):\n",
    "            pyautogui.press('tab')\n",
    "            time.sleep(1)\n",
    "        pyautogui.press('enter')\n",
    "        #pyautogui.scroll(-100) # scroll down\n",
    "    elif tab_number is 2:\n",
    "        for i in range(0, 9):\n",
    "            pyautogui.press('tab')\n",
    "            time.sleep(1)\n",
    "        pyautogui.press('enter')\n",
    "        #pyautogui.scroll(-100) # scroll down\n",
    "    elif tab_number is 3:\n",
    "        for i in range(0, 13):\n",
    "            time.sleep(1)\n",
    "            pyautogui.press('tab')\n",
    "        pyautogui.press('enter')\n",
    "        #pyautogui.scroll(-1500) # scroll down\n",
    "    else:\n",
    "        print('Wrong tab number:', str(tab_number))\n",
    "    \n",
    "    time.sleep(5)"
   ]
  },
  {
   "cell_type": "code",
   "execution_count": 78,
   "metadata": {
    "collapsed": true
   },
   "outputs": [],
   "source": [
    "def publish_Quake_Forecast(languages):\n",
    "    (blog_title, blog_title_str) = get_Quake_Forecast_title(languages)\n",
    "    set_blog_title()\n",
    "    get_Quake_Forecast_text(languages)\n",
    "    set_blog_text()\n",
    "    publish_blog()\n",
    "    time.sleep(5)\n",
    "    #time.sleep(15)\n",
    "    return (blog_title, blog_title_str)"
   ]
  },
  {
   "cell_type": "code",
   "execution_count": 104,
   "metadata": {
    "collapsed": false
   },
   "outputs": [
    {
     "name": "stdout",
     "output_type": "stream",
     "text": [
      "2017-05-13 02:57 UTC+8 宜蘭局地震予報：(1)赤：8日以內に、チリ、イランまたはフィリピン、M7+ ~ M8+\n",
      "https://www.blogger.com/blogger.g?blogID=2750219995610993633#allposts\n"
     ]
    },
    {
     "ename": "FailSafeException",
     "evalue": "PyAutoGUI fail-safe triggered from mouse moving to upper-left corner. To disable this fail-safe, set pyautogui.FAILSAFE to False.",
     "output_type": "error",
     "traceback": [
      "\u001b[0;31m---------------------------------------------------------------------------\u001b[0m",
      "\u001b[0;31mFailSafeException\u001b[0m                         Traceback (most recent call last)",
      "\u001b[0;32m<ipython-input-104-3ad848ea195c>\u001b[0m in \u001b[0;36m<module>\u001b[0;34m()\u001b[0m\n\u001b[1;32m     16\u001b[0m \u001b[1;33m\u001b[0m\u001b[0m\n\u001b[1;32m     17\u001b[0m \u001b[0mblog_address\u001b[0m \u001b[1;33m=\u001b[0m \u001b[0mget_blog_address\u001b[0m\u001b[1;33m(\u001b[0m\u001b[1;33m)\u001b[0m\u001b[1;33m\u001b[0m\u001b[0m\n\u001b[0;32m---> 18\u001b[0;31m \u001b[0mpost_Quake_Forecast\u001b[0m\u001b[1;33m(\u001b[0m\u001b[0mblog_address\u001b[0m\u001b[1;33m,\u001b[0m \u001b[0mblog_title_str\u001b[0m\u001b[1;33m)\u001b[0m\u001b[1;33m\u001b[0m\u001b[0m\n\u001b[0m",
      "\u001b[0;32m<ipython-input-66-37f2a43bc857>\u001b[0m in \u001b[0;36mpost_Quake_Forecast\u001b[0;34m(blog_address, blog_title_str)\u001b[0m\n\u001b[1;32m     10\u001b[0m \u001b[1;33m\u001b[0m\u001b[0m\n\u001b[1;32m     11\u001b[0m     \u001b[0mpyperclip\u001b[0m\u001b[1;33m.\u001b[0m\u001b[0mcopy\u001b[0m\u001b[1;33m(\u001b[0m\u001b[0mpost_text_Twitter\u001b[0m\u001b[1;33m)\u001b[0m \u001b[1;31m# copy to clipboard\u001b[0m\u001b[1;33m\u001b[0m\u001b[0m\n\u001b[0;32m---> 12\u001b[0;31m     \u001b[0mpost_to_Twitter\u001b[0m\u001b[1;33m(\u001b[0m\u001b[1;33m)\u001b[0m\u001b[1;33m\u001b[0m\u001b[0m\n\u001b[0m\u001b[1;32m     13\u001b[0m \u001b[1;33m\u001b[0m\u001b[0m\n\u001b[1;32m     14\u001b[0m \u001b[1;33m\u001b[0m\u001b[0m\n",
      "\u001b[0;32m<ipython-input-31-1ce766ff5164>\u001b[0m in \u001b[0;36mpost_to_Twitter\u001b[0;34m()\u001b[0m\n\u001b[1;32m      1\u001b[0m \u001b[1;32mdef\u001b[0m \u001b[0mpost_to_Twitter\u001b[0m\u001b[1;33m(\u001b[0m\u001b[1;33m)\u001b[0m\u001b[1;33m:\u001b[0m\u001b[1;33m\u001b[0m\u001b[0m\n\u001b[1;32m      2\u001b[0m     \u001b[0mclick_Twitter_tab\u001b[0m\u001b[1;33m(\u001b[0m\u001b[1;33m)\u001b[0m\u001b[1;33m\u001b[0m\u001b[0m\n\u001b[0;32m----> 3\u001b[0;31m     \u001b[0mclick_Twit_button\u001b[0m\u001b[1;33m(\u001b[0m\u001b[1;33m)\u001b[0m\u001b[1;33m\u001b[0m\u001b[0m\n\u001b[0m\u001b[1;32m      4\u001b[0m \u001b[1;33m\u001b[0m\u001b[0m\n\u001b[1;32m      5\u001b[0m     \u001b[1;31m# paste Quake Forecast from clipboard\u001b[0m\u001b[1;33m\u001b[0m\u001b[1;33m\u001b[0m\u001b[0m\n",
      "\u001b[0;32m<ipython-input-29-2f45505839fd>\u001b[0m in \u001b[0;36mclick_Twit_button\u001b[0;34m()\u001b[0m\n\u001b[1;32m      3\u001b[0m     \u001b[0mpyautogui\u001b[0m\u001b[1;33m.\u001b[0m\u001b[0mmoveTo\u001b[0m\u001b[1;33m(\u001b[0m\u001b[0mx\u001b[0m\u001b[1;33m,\u001b[0m \u001b[0my\u001b[0m\u001b[1;33m)\u001b[0m\u001b[1;33m\u001b[0m\u001b[0m\n\u001b[1;32m      4\u001b[0m     \u001b[0mtime\u001b[0m\u001b[1;33m.\u001b[0m\u001b[0msleep\u001b[0m\u001b[1;33m(\u001b[0m\u001b[1;36m1\u001b[0m\u001b[1;33m)\u001b[0m\u001b[1;33m\u001b[0m\u001b[0m\n\u001b[0;32m----> 5\u001b[0;31m     \u001b[0mpyautogui\u001b[0m\u001b[1;33m.\u001b[0m\u001b[0mclick\u001b[0m\u001b[1;33m(\u001b[0m\u001b[1;33m)\u001b[0m \u001b[1;31m# click\u001b[0m\u001b[1;33m\u001b[0m\u001b[0m\n\u001b[0m",
      "\u001b[0;32mC:\\Users\\Dyson\\Anaconda3\\lib\\site-packages\\pyautogui\\__init__.py\u001b[0m in \u001b[0;36mclick\u001b[0;34m(x, y, clicks, interval, button, duration, tween, pause, _pause)\u001b[0m\n\u001b[1;32m    353\u001b[0m         \u001b[1;32mraise\u001b[0m \u001b[0mValueError\u001b[0m\u001b[1;33m(\u001b[0m\u001b[1;34m\"button argument must be one of ('left', 'middle', 'right', 1, 2, 3)\"\u001b[0m\u001b[1;33m)\u001b[0m\u001b[1;33m\u001b[0m\u001b[0m\n\u001b[1;32m    354\u001b[0m \u001b[1;33m\u001b[0m\u001b[0m\n\u001b[0;32m--> 355\u001b[0;31m     \u001b[0m_failSafeCheck\u001b[0m\u001b[1;33m(\u001b[0m\u001b[1;33m)\u001b[0m\u001b[1;33m\u001b[0m\u001b[0m\n\u001b[0m\u001b[1;32m    356\u001b[0m     \u001b[0mx\u001b[0m\u001b[1;33m,\u001b[0m \u001b[0my\u001b[0m \u001b[1;33m=\u001b[0m \u001b[0m_unpackXY\u001b[0m\u001b[1;33m(\u001b[0m\u001b[0mx\u001b[0m\u001b[1;33m,\u001b[0m \u001b[0my\u001b[0m\u001b[1;33m)\u001b[0m\u001b[1;33m\u001b[0m\u001b[0m\n\u001b[1;32m    357\u001b[0m     \u001b[0m_mouseMoveDrag\u001b[0m\u001b[1;33m(\u001b[0m\u001b[1;34m'move'\u001b[0m\u001b[1;33m,\u001b[0m \u001b[0mx\u001b[0m\u001b[1;33m,\u001b[0m \u001b[0my\u001b[0m\u001b[1;33m,\u001b[0m \u001b[1;36m0\u001b[0m\u001b[1;33m,\u001b[0m \u001b[1;36m0\u001b[0m\u001b[1;33m,\u001b[0m \u001b[0mduration\u001b[0m\u001b[1;33m,\u001b[0m \u001b[0mtween\u001b[0m\u001b[1;33m)\u001b[0m\u001b[1;33m\u001b[0m\u001b[0m\n",
      "\u001b[0;32mC:\\Users\\Dyson\\Anaconda3\\lib\\site-packages\\pyautogui\\__init__.py\u001b[0m in \u001b[0;36m_failSafeCheck\u001b[0;34m()\u001b[0m\n\u001b[1;32m   1008\u001b[0m \u001b[1;32mdef\u001b[0m \u001b[0m_failSafeCheck\u001b[0m\u001b[1;33m(\u001b[0m\u001b[1;33m)\u001b[0m\u001b[1;33m:\u001b[0m\u001b[1;33m\u001b[0m\u001b[0m\n\u001b[1;32m   1009\u001b[0m     \u001b[1;32mif\u001b[0m \u001b[0mFAILSAFE\u001b[0m \u001b[1;32mand\u001b[0m \u001b[0mposition\u001b[0m\u001b[1;33m(\u001b[0m\u001b[1;33m)\u001b[0m \u001b[1;33m==\u001b[0m \u001b[1;33m(\u001b[0m\u001b[1;36m0\u001b[0m\u001b[1;33m,\u001b[0m \u001b[1;36m0\u001b[0m\u001b[1;33m)\u001b[0m\u001b[1;33m:\u001b[0m\u001b[1;33m\u001b[0m\u001b[0m\n\u001b[0;32m-> 1010\u001b[0;31m         \u001b[1;32mraise\u001b[0m \u001b[0mFailSafeException\u001b[0m\u001b[1;33m(\u001b[0m\u001b[1;34m'PyAutoGUI fail-safe triggered from mouse moving to upper-left corner. To disable this fail-safe, set pyautogui.FAILSAFE to False.'\u001b[0m\u001b[1;33m)\u001b[0m\u001b[1;33m\u001b[0m\u001b[0m\n\u001b[0m\u001b[1;32m   1011\u001b[0m \u001b[1;33m\u001b[0m\u001b[0m\n\u001b[1;32m   1012\u001b[0m \u001b[1;33m\u001b[0m\u001b[0m\n",
      "\u001b[0;31mFailSafeException\u001b[0m: PyAutoGUI fail-safe triggered from mouse moving to upper-left corner. To disable this fail-safe, set pyautogui.FAILSAFE to False."
     ]
    }
   ],
   "source": [
    "station_name = station['宜蘭站']\n",
    "time_stamp = get_time_stamp()\n",
    "languages = ['Chinese', 'Japanese', 'English']\n",
    "quake_forecast = [\n",
    "    {'color': Red,\n",
    "    'time': 8,\n",
    "    'location': {\n",
    "        'Chinese': '智利、伊朗或菲律賓，',\n",
    "        'Japanese': 'チリ、イランまたはフィリピン、',\n",
    "        'English': 'Chile, Iran or Philippines, '},\n",
    "    'magnitude': 'M7+ ~ M8+'}]\n",
    "\n",
    "(blog_title, blog_title_str) = publish_Quake_Forecast(languages)\n",
    "view_blog()\n",
    "close_Blogger_article_list()\n",
    "\n",
    "blog_address = get_blog_address()\n",
    "post_Quake_Forecast(blog_address, blog_title_str)"
   ]
  },
  {
   "cell_type": "code",
   "execution_count": 103,
   "metadata": {
    "collapsed": false
   },
   "outputs": [
    {
     "name": "stdout",
     "output_type": "stream",
     "text": [
      "2017-05-13 02:27 UTC+8 台中潭子局地震予報：(1)赤：8日以內に、チリ、イランまたはフィリピン、M7+ ~ M8+\n",
      "http://quakeforecast.blogspot.tw/2017/05/2017-05-13-0227-utc8-18m7-m8-18m7-m8.html\n",
      "2017-05-13 02:27 UTC+8 台中潭子站地震預報：(1)紅：8日以內，智利、伊朗或菲律賓，M7+ ~ M8+ 台中潭子局地震予報：(1)赤：8日以內に、チリ、イランまたはフィリピン、M7+ ~ M8+ Taichung Tantzu Station Quake Forecast: (1)Red: Within 8 days, Chile, Iran or Philippines, M7+ ~ M8+\n",
      "http://quakeforecast.blogspot.tw/2017/05/2017-05-13-0227-utc8-18m7-m8-18m7-m8.html\n"
     ]
    }
   ],
   "source": [
    "blog_address = get_blog_address()\n",
    "post_Quake_Forecast(blog_address, blog_title_str)"
   ]
  },
  {
   "cell_type": "code",
   "execution_count": 90,
   "metadata": {
    "collapsed": false
   },
   "outputs": [],
   "source": [
    "post_to_Facebook(1)\n",
    "post_to_Facebook(2)\n",
    "post_to_Facebook(3)"
   ]
  },
  {
   "cell_type": "code",
   "execution_count": 76,
   "metadata": {
    "collapsed": false
   },
   "outputs": [
    {
     "name": "stdout",
     "output_type": "stream",
     "text": [
      "2017-05-12 01:56 UTC+8 宜蘭局地震予報：(1)赤：9日以內に、チリまたはフィリピン、M7+ ~ M8+\n",
      "http://quakeforecast.blogspot.tw/2017/05/2017-05-12-0156-utc8-19m7-m8-19m7-m8.html\n",
      "2017-05-12 01:56 UTC+8 宜蘭站地震預報：(1)紅：9日以內，智利或菲律賓，M7+ ~ M8+ 宜蘭局地震予報：(1)赤：9日以內に、チリまたはフィリピン、M7+ ~ M8+ Yilan Station Quake Forecast: (1)Red: Within 9 days, Chile or Philippines, M7+ ~ M8+\n",
      "http://quakeforecast.blogspot.tw/2017/05/2017-05-12-0156-utc8-19m7-m8-19m7-m8.html\n"
     ]
    }
   ],
   "source": [
    "blog_address = get_blog_address()\n",
    "post_Quake_Forecast(blog_address, blog_title_str)"
   ]
  },
  {
   "cell_type": "code",
   "execution_count": null,
   "metadata": {
    "collapsed": true
   },
   "outputs": [],
   "source": []
  }
 ],
 "metadata": {
  "anaconda-cloud": {},
  "kernelspec": {
   "display_name": "Python 3",
   "language": "python",
   "name": "python3"
  },
  "language_info": {
   "codemirror_mode": {
    "name": "ipython",
    "version": 3
   },
   "file_extension": ".py",
   "mimetype": "text/x-python",
   "name": "python",
   "nbconvert_exporter": "python",
   "pygments_lexer": "ipython3",
   "version": "3.6.0"
  }
 },
 "nbformat": 4,
 "nbformat_minor": 1
}
